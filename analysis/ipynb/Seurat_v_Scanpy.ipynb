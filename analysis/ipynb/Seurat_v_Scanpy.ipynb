{
 "cells": [
  {
   "cell_type": "markdown",
   "id": "a16e039e",
   "metadata": {},
   "source": [
    "---\n",
    "title: \"Seurat_v_Scanpy\"\n",
    "output: html_document\n",
    "date: \"2024-01-01\"\n",
    "---\n",
    "\n",
    "Select yaml file"
   ]
  },
  {
   "cell_type": "code",
   "execution_count": null,
   "id": "4885e73f",
   "metadata": {},
   "outputs": [],
   "source": [
    "yaml_file <- \"Fig1\"  # Fig1, Supp_Fig2, Supp_Fig3, Supp_Fig4, Supp_Fig5"
   ]
  },
  {
   "cell_type": "code",
   "execution_count": null,
   "id": "a5293be6",
   "metadata": {},
   "outputs": [],
   "source": [
    "if (!requireNamespace(\"reticulate\", quietly = TRUE)) remotes::install_version(\"reticulate\", version = \"1.34.0\", upgrade = \"never\")\n",
    "\n",
    "using_colab <- reticulate::py_run_string(\"\n",
    "try:\n",
    "    import google.colab\n",
    "    using_colab = True\n",
    "except ImportError:\n",
    "    using_colab = False\n",
    "using_colab\n",
    "\")$using_colab\n",
    "\n",
    "if (using_colab) {\n",
    "    system(\"git clone https://github.com/josephrich98/scrnaseq_packages_and_versioning.git\", intern = FALSE)\n",
    "}\"\"\""
   ]
  },
  {
   "cell_type": "markdown",
   "id": "82c948f4",
   "metadata": {},
   "source": [
    "Load contents of yaml file into global R environment"
   ]
  },
  {
   "cell_type": "code",
   "execution_count": null,
   "id": "9d48bfad",
   "metadata": {},
   "outputs": [],
   "source": [
    "if (exists(\"using_colab\") && get(\"using_colab\")) {\n",
    "    yaml_dir <- \"/content/scrnaseq_packages_and_versioning/analysis/yaml\"\n",
    "} else {\n",
    "    yaml_dir <- glue::glue(\"{dirname(getwd())}/yaml\")\n",
    "}\n",
    "\n",
    "yaml_file_path <- glue::glue(\"{yaml_dir}/{yaml_file}.yaml\")\n",
    "\n",
    "source(glue::glue(\"/content/scrnaseq_packages_and_versioning/analysis/scripts/load_yaml_contents.R\"))\n",
    "load_yaml_contents(yaml_file_path)"
   ]
  },
  {
   "cell_type": "code",
   "execution_count": null,
   "id": "e5afdfb6",
   "metadata": {},
   "outputs": [],
   "source": [
    "seurat_version_for_download <- gsub(\"_\", \".\", seurat_version)\n",
    "scanpy_version_for_download <- gsub(\"_\", \".\", scanpy_version)\n",
    "\n",
    "if (using_colab) {\n",
    "    py_command <- sprintf(\"import subprocess; subprocess.run(['pip', 'install', 'scanpy==%s', 'python-igraph==0.10.8', 'leidenalg==0.10.1', 'anndata==0.10.2', 'hdf5plugin==4.2.0', 'kb-python==0.27.3', 'umap-learn==0.5.2', 'louvain==0.8.1', 'git+https://github.com/has2k1/scikit-misc.git@269f61e'])\", scanpy_version_for_download)\n",
    "    \n",
    "    reticulate::py_run_string(py_command)\n",
    "}\n",
    "\n",
    "if (!requireNamespace(\"remotes\", quietly = TRUE)) install.packages(\"remotes\")\n",
    "\n",
    "if (!requireNamespace(\"tidyverse\", quietly = TRUE)) remotes::install_version(\"tidyverse\", version = \"2.0.0\", upgrade = \"never\")\n",
    "if (!requireNamespace(\"rmarkdown\", quietly = TRUE)) remotes::install_version(\"rmarkdown\", version = \"2.25\", upgrade = \"never\")\n",
    "\n",
    "# if (!requireNamespace(\"pak\", quietly = TRUE)) install.packages(\"pak\")\n",
    "if (!require(pak, quietly = TRUE)) {\n",
    "    install.packages(\"pak\", repos = sprintf(\n",
    "        \"https://r-lib.github.io/p/pak/stable/%s/%s/%s\",\n",
    "        .Platform$pkgType,\n",
    "        R.Version()$os,\n",
    "        R.Version()$arch\n",
    "    ))\n",
    "}\n",
    "if (!requireNamespace(\"igraph\", quietly = TRUE)) pak::pak(\"igraph/rigraph\")\n",
    "if (!requireNamespace(\"Seurat\", quietly = TRUE)) remotes::install_version(\"Seurat\", version = seurat_version_for_download, upgrade = \"never\")\n",
    "if (!requireNamespace(\"Matrix\", quietly = TRUE)) remotes::install_version(\"Matrix\", version = \"1.6.4\", upgrade = \"never\")\n",
    "if (!requireNamespace(\"patchwork\", quietly = TRUE)) remotes::install_version(\"patchwork\", version = \"1.1.3\", upgrade = \"never\")\n",
    "if (!requireNamespace(\"eulerr\", quietly = TRUE)) remotes::install_version(\"eulerr\", version = \"7.0.0\", upgrade = \"never\")\n",
    "if (!requireNamespace(\"scattermore\", quietly = TRUE)) remotes::install_version(\"scattermore\", version = \"1.2\", upgrade = \"never\")\n",
    "if (!requireNamespace(\"assertthat\", quietly = TRUE)) remotes::install_version(\"assertthat\", version = \"0.2.1\", upgrade = \"never\")\n",
    "if (!requireNamespace(\"pheatmap\", quietly = TRUE)) remotes::install_version(\"pheatmap\", version = \"1.0.12\", upgrade = \"never\")\n",
    "if (!requireNamespace(\"ggforce\", quietly = TRUE)) remotes::install_version(\"ggforce\", version = \"0.4.1\", upgrade = \"never\")\n",
    "if (!requireNamespace(\"ggplotify\", quietly = TRUE)) remotes::install_version(\"ggplotify\", version = \"0.1.2\", upgrade = \"never\")\n",
    "if (!requireNamespace(\"mclust\", quietly = TRUE)) remotes::install_version(\"mclust\", version = \"6.0.1\", upgrade = \"never\")\n",
    "if (!requireNamespace(\"ggalluvial\", quietly = TRUE)) remotes::install_version(\"ggalluvial\", version = \"0.12.5\", upgrade = \"never\")\n",
    "if (!requireNamespace(\"UpSetR\", quietly = TRUE)) remotes::install_version(\"UpSetR\", version = \"1.4.0\", upgrade = \"never\")\n",
    "if (!requireNamespace(\"ggpointdensity\", quietly = TRUE)) remotes::install_version(\"ggpointdensity\", version = \"0.1.0\", upgrade = \"never\")\n",
    "if (!requireNamespace(\"dbscan\", quietly = TRUE)) remotes::install_version(\"dbscan\", version = \"1.1.12\", upgrade = \"never\")\n",
    "if (!requireNamespace(\"presto\", quietly = TRUE)) remotes::install_github(\"immunogenomics/presto@31dc97f\", upgrade = \"never\")\n",
    "\n",
    "\n",
    "if (!requireNamespace(\"BiocManager\", quietly = TRUE)) remotes::install_version(\"BiocManager\", version = \"1.30.22\", upgrade = \"never\")\n",
    "bioconductor_version <- \"3.18\"\n",
    "\n",
    "if (!requireNamespace(\"BUSpaRse\", quietly = TRUE)) BiocManager::install(\"BUSpaRse\", version = bioconductor_version, update = FALSE)\n",
    "if (!requireNamespace(\"DropletUtils\", quietly = TRUE)) BiocManager::install(\"DropletUtils\", version = bioconductor_version, update = FALSE)\n",
    "if (!requireNamespace(\"biomaRt\", quietly = TRUE)) BiocManager::install(\"biomaRt\", version = bioconductor_version, update = FALSE)\n",
    "if (!requireNamespace(\"bluster\", quietly = TRUE)) BiocManager::install(\"bluster\", version = bioconductor_version, update = FALSE)\"\"\""
   ]
  },
  {
   "cell_type": "markdown",
   "id": "cdce26f0",
   "metadata": {},
   "source": [
    "File path definitions"
   ]
  },
  {
   "cell_type": "code",
   "execution_count": null,
   "id": "6413313f",
   "metadata": {},
   "outputs": [],
   "source": [
    "if (seu_data_path == \"\") {\n",
    "    seu_data_path <- glue::glue(\"{project_base_path}/count_matrix_collection/{data_name}/{seu_matrix_generation_method}{seu_matrix_generation_method_version}/frac{seu_read_fraction_after_downsampling}_seed{seu_read_downsample_seed}\")\n",
    "}\n",
    "\n",
    "if (scan_data_path == \"\") {\n",
    "    scan_data_path <- glue::glue(\"{project_base_path}/count_matrix_collection/{data_name}/{scan_matrix_generation_method}{scan_matrix_generation_method_version}/frac{scan_read_fraction_after_downsampling}_seed{scan_read_downsample_seed}\")\n",
    "}\n",
    "\n",
    "if (data_path_root == \"\") {\n",
    "    data_path_root <- glue::glue(\"{project_base_path}/count_matrix_collection/{data_name}\")\n",
    "}\n",
    "\n",
    "if (seu_data_name_from_download == \"\") {\n",
    "    seu_data_name_from_download <- glue::glue(\"{seu_matrix_generation_method}{seu_matrix_generation_method_version}_frac{seu_read_fraction_after_downsampling}_seed{seu_read_downsample_seed}\")\n",
    "}\n",
    "\n",
    "if (scan_data_name_from_download == \"\") {\n",
    "    scan_data_name_from_download <- glue::glue(\"{scan_matrix_generation_method}{scan_matrix_generation_method_version}_frac{scan_read_fraction_after_downsampling}_seed{scan_read_downsample_seed}\")\n",
    "}\n",
    "\n",
    "if (seu_matrix_generation_method == scan_matrix_generation_method && seu_matrix_generation_method_version == scan_matrix_generation_method_version) {\n",
    "    matrix_generation_method_full <- glue::glue(\"{seu_matrix_generation_method}{seu_matrix_generation_method_version}\")\n",
    "} else {\n",
    "    matrix_generation_method_full <- glue::glue(\"seu_{seu_matrix_generation_method}{seu_matrix_generation_method_version}_vs_scan_{scan_matrix_generation_method}{scan_matrix_generation_method_version}\")\n",
    "}\n",
    "\n",
    "cell_fraction_after_downsampling <- ifelse(seu_cell_fraction_after_downsampling == scan_cell_fraction_after_downsampling, seu_cell_fraction_after_downsampling,\n",
    "    paste(\"seu\", seu_cell_fraction_after_downsampling, \"vs\", \"scan\", scan_cell_fraction_after_downsampling, sep = \"_\")\n",
    ")\n",
    "\n",
    "if (seu_cell_fraction_after_downsampling != \"1_0\") {\n",
    "    cell_fraction_after_downsampling <- glue::glue(\"{cell_fraction_after_downsampling}_seed{seu_cell_downsample_seed}\")\n",
    "}\n",
    "\n",
    "if (scan_cell_fraction_after_downsampling != \"1_0\") {\n",
    "    cell_fraction_after_downsampling <- glue::glue(\"{cell_fraction_after_downsampling}_seed{scan_cell_downsample_seed}\")\n",
    "}\n",
    "\n",
    "read_fraction_after_downsampling <- ifelse(seu_read_fraction_after_downsampling == scan_read_fraction_after_downsampling, seu_read_fraction_after_downsampling,\n",
    "    paste(\"seu\", seu_read_fraction_after_downsampling, \"vs\", \"scan\", scan_read_fraction_after_downsampling, sep = \"_\")\n",
    ")\n",
    "\n",
    "if (seu_read_fraction_after_downsampling != \"1_0\") {\n",
    "    read_fraction_after_downsampling <- glue::glue(\"{read_fraction_after_downsampling}_seed{seu_read_downsample_seed}\")\n",
    "}\n",
    "\n",
    "if (scan_read_fraction_after_downsampling != \"1_0\") {\n",
    "    read_fraction_after_downsampling <- glue::glue(\"{read_fraction_after_downsampling}_seed{scan_read_downsample_seed}\")\n",
    "}\n",
    "\n",
    "if (exists(\"using_colab\") && get(\"using_colab\")) {\n",
    "    project_base_path <- \"/content/scrnaseq_packages_and_versioning/analysis\"\n",
    "}\n",
    "    \n",
    "if (output_base_path == \"\") {\n",
    "    output_base_path <- glue::glue(\"{project_base_path}/output/{data_name}/seuratv{seurat_version}_vs_scanpyv{scanpy_version}/methods_{analysis_methods}_input_{data_input}/{matrix_generation_method_full}/cell_fraction_{cell_fraction_after_downsampling}/read_fraction_{read_fraction_after_downsampling}\")\n",
    "}"
   ]
  },
  {
   "cell_type": "code",
   "execution_count": null,
   "id": "1455f681",
   "metadata": {},
   "outputs": [],
   "source": [
    "set.seed(100)\n",
    "\n",
    "group1_color <- \"#D55E00\"\n",
    "group2_color <- \"#56B4E9\"\n",
    "\n",
    "scanpy_minor_version <- as.integer(strsplit(scanpy_version, \"_\")[[1]][2])"
   ]
  },
  {
   "cell_type": "code",
   "execution_count": null,
   "id": "7b3a8582",
   "metadata": {},
   "outputs": [],
   "source": [
    "output_data_file_paths <- list(\n",
    "    markers = glue::glue(\"{output_base_path}/data_files/markers.rds\"),\n",
    "    results_scan = glue::glue(\"{output_base_path}/data_files/results_scan.rds\"),\n",
    "    markers2 = glue::glue(\"{output_base_path}/data_files/markers2.rds\"),\n",
    "    seu_object = glue::glue(\"{output_base_path}/data_files/seu.rds\"),\n",
    "    scan_adata = glue::glue(\"{output_base_path}/data_files/adata.h5ad\")\n",
    ")\n",
    "\n",
    "# FALSE to have no save\n",
    "file_paths <- list(\n",
    "    euler_stats_before_QC_file = FALSE, # glue::glue(\"{output_base_path}/stats/euler_stats_beforeQC.txt\"),\n",
    "    euler_stats_after_QC_file = glue::glue(\"{output_base_path}/stats/euler_stats_afterQC.txt\"),\n",
    "    pca_knn_clustering_umap_file = glue::glue(\"{output_base_path}/stats/pca_knn_clustering_umap_stats.txt\"),\n",
    "    de_stats_file = glue::glue(\"{output_base_path}/stats/de_stats.txt\"),\n",
    "    \n",
    "    pre_filtering_upset_cell = FALSE, # glue::glue(\"{output_base_path}/plots/pre_filtering_upset_cell.tiff\"),\n",
    "    pre_filtering_upset_gene = FALSE, # glue::glue(\"{output_base_path}/plots/pre_filtering_upset_gene.tiff\"),\n",
    "    knee_plot = FALSE, # glue::glue(\"{output_base_path}/plots/knee_plot.tiff\"),\n",
    "    umi_scatterplot = FALSE, # glue::glue(\"{output_base_path}/plots/umi_scatterplot.tiff\"),\n",
    "\n",
    "    violin_counts_comparison <- FALSE, # glue::glue(\"{output_base_path}/plots/violin_counts_comparison.tiff\"),\n",
    "    seu_violin_file_path = FALSE, # glue::glue(\"{output_base_path}/plots/seu_violin_plot.tiff\"),\n",
    "    scan_violin_file_path_genes = FALSE, # glue::glue(\"{output_base_path}/plots/scan_violin_plot_genes.tiff\"),\n",
    "    scan_violin_file_path_counts = FALSE, # glue::glue(\"{output_base_path}/plots/scan_violin_plot_counts.tiff\"),\n",
    "    scan_violin_file_path_mt = FALSE, # glue::glue(\"{output_base_path}/plots/scan_violin_plot_mt.tiff\"),\n",
    "\n",
    "    upset_cells = glue::glue(\"{output_base_path}/plots/upset_cells.tiff\"),\n",
    "    upset_genes = glue::glue(\"{output_base_path}/plots/upset_genes.tiff\"),\n",
    "    upset_hvgs = glue::glue(\"{output_base_path}/plots/upset_hvgs.tiff\"),\n",
    "    upset_markers_genes_only = glue::glue(\"{output_base_path}/plots/upset_marker_genes_only.tiff\"),\n",
    "    upset_markers = glue::glue(\"{output_base_path}/plots/upset_markers.tiff\"),\n",
    "    euler_before_qc_cell_file_path = FALSE, # glue::glue(\"{output_base_path}/plots/euler_cells_beforeQC.tiff\"),\n",
    "    euler_before_qc_gene_file_path = FALSE, # glue::glue(\"{output_base_path}/plots/euler_genes_beforeQC.tiff\"),\n",
    "\n",
    "    euler_after_qc_cell_file_path = FALSE, # glue::glue(\"{output_base_path}/plots/euler_cells_afterQC.tiff\"),\n",
    "    euler_after_qc_gene_file_path = FALSE, # glue::glue(\"{output_base_path}/plots/euler_genes_afterQC.tiff\"),\n",
    "    euler_after_qc_hvg_file_path = FALSE, # glue::glue(\"{output_base_path}/plots/euler_hvgs_afterQC.tiff\"),\n",
    "    euler_after_qc_marker_file_path = FALSE, # glue::glue(\"{output_base_path}/plots/euler_markers.tiff\"),\n",
    "    euler_after_qc_marker_manual_bonferroni_file_path = FALSE, # glue::glue(\"{output_base_path}/plots/euler_markers_manual_bonferroni.tiff\"),\n",
    "    euler_after_qc_marker_genes_only = FALSE, # glue::glue(\"{output_base_path}/plots/euler_markers_genes.tiff\"),\n",
    "\n",
    "    pca_elbow_filepath_combined = FALSE, # glue::glue(\"{output_base_path}/plots/pca_elbow_combined.tiff\"),\n",
    "    pca_12_overlay_filepath = glue::glue(\"{output_base_path}/plots/pca_scatterplot_12.tiff\"),\n",
    "    pca_34_overlay_filepath = FALSE, # glue::glue(\"{output_base_path}/plots/pca_scatterplot_34.tiff\"),\n",
    "    pca_loading_diffs = FALSE, # glue::glue(\"{output_base_path}/plots/pc_loading_diffs.tiff\"),\n",
    "    pca_eigs_diff = FALSE, # glue::glue(\"{output_base_path}/plots/pc_eig_diff.tiff\"),\n",
    "    pca_cluster_filepath_seu = FALSE, # glue::glue(\"{output_base_path}/plots/pca_scatterplot_clusters_seu.tiff\"),\n",
    "    pca_cluster_filepath_scan = FALSE, # glue::glue(\"{output_base_path}/plots/pca_scatterplot_clusters_scan.tiff\"),\n",
    "    combined_pc_variance_loadings_plot = glue::glue(\"{output_base_path}/plots/combined_pc_variance_loadings_plot.tiff\"),\n",
    "    jaccards = FALSE, # glue::glue(\"{output_base_path}/plots/jaccards.tiff\"),\n",
    "    knn_scatterplot = FALSE, # glue::glue(\"{output_base_path}/plots/knn_scatterplot.tiff\"),\n",
    "    jaccard_degree_scatterplot = glue::glue(\"{output_base_path}/plots/jaccard_degree_scatterplot.tiff\"),\n",
    "    pheatmap = FALSE, # glue::glue(\"{output_base_path}/plots/cluster_pheatmap.tiff\"),\n",
    "    alluvial = glue::glue(\"{output_base_path}/plots/cluster_alluvial.tiff\"),\n",
    "    alluvial_legend = glue::glue(\"{output_base_path}/plots/cluster_alluvial_legend.tiff\"),\n",
    "    alluvial_legend_high_alpha = glue::glue(\"{output_base_path}/plots/cluster_alluvial_legend_high_alpha.tiff\"),\n",
    "    umap_seu = glue::glue(\"{output_base_path}/plots/umap_seu.tiff\"),\n",
    "    umap_scan = glue::glue(\"{output_base_path}/plots/umap_scan.tiff\"),\n",
    "    umap_seu_clusters_scan = glue::glue(\"{output_base_path}/plots/umap_seu_clusters_scan.tiff\"),\n",
    "    umap_scan_clusters_seu = glue::glue(\"{output_base_path}/plots/umap_scan_clusters_seu.tiff\"),\n",
    "    umap_jaccard_degree_scatterplot = glue::glue(\"{output_base_path}/plots/umap_jaccard_degree_scatterplot.tiff\"),\n",
    "    umap_jaccard_knn_density = glue::glue(\"{output_base_path}/plots/umap_jaccard_knn_density.tiff\"),\n",
    "    umap_jaccard_knn_density_seu_facet = glue::glue(\"{output_base_path}/plots/umap_jaccard_knn_density_seu_facet.tiff\"),\n",
    "    umap_jaccard_knn_density_scan_facet = glue::glue(\"{output_base_path}/plots/umap_jaccard_knn_density_scan_facet.tiff\"),\n",
    "    umap_alluvial = glue::glue(\"{output_base_path}/plots/umap_alluvial.tiff\"),\n",
    "    umap_alluvial_legend = glue::glue(\"{output_base_path}/plots/umap_alluvial_legend.tiff\"),\n",
    "    umap_umap_leiden_seu = glue::glue(\"{output_base_path}/plots/umap_umap_leiden_seu.tiff\"),\n",
    "    umap_umap_leiden_scan = glue::glue(\"{output_base_path}/plots/umap_umap_leiden_scan.tiff\"),\n",
    "    logFC_histogram_magnitude_file_path = FALSE, # glue::glue(\"{output_base_path}/plots/logFC_histogram_magnitude.tiff\"),\n",
    "    logFC_histogram_signed_file_path = FALSE, # glue::glue(\"{output_base_path}/plots/logFC_histogram_signed.tiff\"),\n",
    "    wilcoxon_histogram_magnitude_file_path = FALSE, # glue::glue(\"{output_base_path}/plots/wilcoxon_histogram_magnitude.tiff\"),\n",
    "    wilcoxon_histogram_signed_file_path = FALSE, # glue::glue(\"{output_base_path}/plots/wilcoxon_histogram_signed.tiff\"),\n",
    "\n",
    "    logFC_scatterplot_file_path = glue::glue(\"{output_base_path}/plots/logFC_scatterplot.tiff\"),\n",
    "    wilcoxon_scatterplot_file_path = glue::glue(\"{output_base_path}/plots/wilcoxon_scatterplot.tiff\"),\n",
    "    logFC_scatterplot_file_path_with_legend = glue::glue(\"{output_base_path}/plots/logFC_scatterplot_with_legend.tiff\"),\n",
    "    logFC_scatterplot_outliers_removed_file_path = FALSE, # glue::glue(\"{output_base_path}/plots/logFC_scatterplot_no_outliers.tiff\"),\n",
    "    wilcoxon_scatterplot_outliers_removed_file_path = FALSE, # glue::glue(\"{output_base_path}/plots/wilcoxon_scatterplot_no_outliers.tiff\"),\n",
    "\n",
    "    logFC_boxplot_magnitude_file_path = FALSE, # glue::glue(\"{output_base_path}/plots/logFC_boxplot_magnitude.tiff\"),\n",
    "    logFC_boxplot_signed_file_path = FALSE, # glue::glue(\"{output_base_path}/plots/logFC_boxplot_signed.tiff\"),\n",
    "    wilcoxon_boxplot_magnitude_file_path = FALSE, # glue::glue(\"{output_base_path}/plots/wilcoxon_boxplot_magnitude.tiff\"),\n",
    "    wilcoxon_boxplot_signed_file_path = FALSE, # glue::glue(\"{output_base_path}/plots/wilcoxon_boxplot_signed.tiff\"),\n",
    "\n",
    "    FC_histogram_magnitude_file_path = FALSE, # glue::glue(\"{output_base_path}/plots/FC_histogram_magnitude.tiff\"),\n",
    "    FC_histogram_signed_file_path = FALSE # glue::glue(\"{output_base_path}/plots/FC_histogram_signed.tiff\")\n",
    ")\n",
    "\n",
    "if (save_data) {\n",
    "    for (path in output_data_file_paths) {\n",
    "        dir.create(dirname(path), recursive = TRUE, showWarnings = FALSE)\n",
    "    }\n",
    "\n",
    "    for (path in file_paths) {\n",
    "        if (is.character(path)) {\n",
    "            # Extract the directory part of the path\n",
    "            specific_output_path <- dirname(path)\n",
    "\n",
    "            # Create the directory if it does not exist\n",
    "            if (!dir.exists(specific_output_path)) {\n",
    "                dir.create(specific_output_path, recursive = TRUE, showWarnings = FALSE)\n",
    "            }\n",
    "        }\n",
    "    }\n",
    "\n",
    "    for (file in c(file_paths$euler_stats_after_QC_file, file_paths$pca_knn_clustering_umap_file, file_paths$de_stats_file)) {\n",
    "        if (is.character(file)) {\n",
    "            sink(file = file, append = FALSE)\n",
    "            sink()\n",
    "        }\n",
    "    }\n",
    "} else {\n",
    "    for (i in seq_along(file_paths)) {\n",
    "        file_paths[[i]] <- FALSE\n",
    "    }\n",
    "}"
   ]
  },
  {
   "cell_type": "markdown",
   "id": "e35a4b9f",
   "metadata": {},
   "source": [
    "R Imports"
   ]
  },
  {
   "cell_type": "code",
   "execution_count": null,
   "id": "e51003af",
   "metadata": {},
   "outputs": [],
   "source": [
    "if (!(exists(\"using_colab\") && get(\"using_colab\"))) {\n",
    "    Sys.setenv(RETICULATE_PYTHON = paste(\"/home/rstudio/.conda/envs\", conda_env, \"bin/python3.9\", sep = \"/\"))\n",
    "}\n",
    "\n",
    "library(reticulate)\n",
    "\n",
    "if (!(exists(\"using_colab\") && get(\"using_colab\"))) {\n",
    "    Sys.setenv(RETICULATE_PYTHON = paste(\"/home/rstudio/.conda/envs\", conda_env, \"bin/python3.9\", sep = \"/\"))\n",
    "}\n",
    "\n",
    "library(Seurat)\n",
    "library(Matrix)\n",
    "library(tidyverse)\n",
    "library(patchwork)\n",
    "library(eulerr)\n",
    "library(scattermore)\n",
    "library(DropletUtils)\n",
    "library(glue)\n",
    "library(bluster)\n",
    "library(ggforce)\n",
    "library(ggplotify)\n",
    "library(grid)\n",
    "library(gtable)\n",
    "library(ggalluvial)\n",
    "theme_set(theme_bw(base_family = \"Arial\"))\n",
    "\n",
    "source(glue(\"{project_base_path}/scripts/data_analysis_helper.R\"))\n",
    "source(glue(\"{project_base_path}/scripts/plotting_and_stats.R\"))"
   ]
  },
  {
   "cell_type": "markdown",
   "id": "e9b160fa",
   "metadata": {},
   "source": [
    "Set arguments for functions"
   ]
  },
  {
   "cell_type": "code",
   "execution_count": null,
   "id": "28965c42",
   "metadata": {},
   "outputs": [],
   "source": [
    "if (analysis_methods == \"default\" || analysis_methods == \"scanpy_like\") {\n",
    "    scanpy_hvg_flavor <- \"seurat\"\n",
    "    n_top_genes <- NULL\n",
    "    scanpy_scale_max <- NULL\n",
    "    scanpy_pca_zero_center <- TRUE\n",
    "    scan_n_neighbors <- 15\n",
    "    scanpy_clustering_algorithm <- \"leiden\"\n",
    "    scanpy_resolution <- 1\n",
    "    scanpy_cluster_iters <- -1\n",
    "    scanpy_umap_min_dist <- 0.5\n",
    "    scanpy_correction_method <- \"benjamini-hochberg\"\n",
    "    scanpy_tie_correct <- FALSE\n",
    "    # marker_filtering = FALSE\n",
    "} else if (analysis_methods == \"seurat_like\") {\n",
    "    scanpy_hvg_flavor <- \"seurat_v3\"\n",
    "    n_top_genes <- 2000\n",
    "    scanpy_scale_max <- 10\n",
    "    scanpy_pca_zero_center <- FALSE\n",
    "    scan_n_neighbors <- 20\n",
    "    scanpy_clustering_algorithm <- \"louvain\"\n",
    "    scanpy_resolution <- 0.8\n",
    "    scanpy_cluster_iters <- 10\n",
    "    scanpy_umap_min_dist <- 0.3\n",
    "    scanpy_correction_method <- \"bonferroni\"\n",
    "    scanpy_tie_correct <- TRUE\n",
    "    # marker_filtering = c(!(pts < 0.01 & pts_rest < 0.01), !(abs(log_fc) < 0.1), (p_value < 0.01))\n",
    "} else {\n",
    "    paste(analysis_methods, \"is not a valid input for analysis_methods. Please choose from 'default', 'seurat_like', or 'scanpy_like'.\")\n",
    "}\n",
    "\n",
    "if (analysis_methods == \"default\" || analysis_methods == \"seurat_like\") {\n",
    "    seurat_hvg_flavor <- \"vst\"\n",
    "    seu_mean_cutoff <- c(0.1, 8)\n",
    "    seu_dispersion_cutoff <- c(1, Inf)\n",
    "    seu_vars_to_regress <- NULL\n",
    "    seurat_scale_max <- 10\n",
    "    seu_n_neighbors <- 20\n",
    "    seurat_clustering_algorithm <- \"louvain\"\n",
    "    seu_resolution <- 0.8\n",
    "    seu_umap_method <- \"uwot\"\n",
    "    seu_umap_min_dist <- 0.3\n",
    "    seu_umap_metric <- \"cosine\"\n",
    "    # correction method = bonferroni\n",
    "} else if (analysis_methods == \"scanpy_like\") {\n",
    "    seurat_hvg_flavor <- \"mean.var.plot\"\n",
    "    seu_mean_cutoff <- c(0.0125, 3)\n",
    "    seu_dispersion_cutoff <- c(0.5, Inf)\n",
    "    seu_vars_to_regress <- c(\"nCount_RNA\", \"pct_mt\")\n",
    "    seurat_scale_max <- Inf\n",
    "    seu_n_neighbors <- 15\n",
    "    seurat_clustering_algorithm <- \"leiden\"\n",
    "    seu_resolution <- 1\n",
    "    seu_umap_method <- \"umap-learn\"\n",
    "    seu_umap_min_dist <- 0.5\n",
    "    seu_umap_metric <- \"correlation\"\n",
    "    # correction method = benjamini-hochberg\n",
    "} else {\n",
    "    paste(analysis_methods, \"is not a valid input for analysis_methods. Please choose from 'default', 'seurat_like', or 'scanpy_like'.\")\n",
    "}"
   ]
  },
  {
   "cell_type": "markdown",
   "id": "45f30533",
   "metadata": {},
   "source": [
    "View reticulate python environment"
   ]
  },
  {
   "cell_type": "code",
   "execution_count": null,
   "id": "c27c4b09",
   "metadata": {},
   "outputs": [],
   "source": [
    "py_config()"
   ]
  },
  {
   "cell_type": "markdown",
   "id": "29d08e56",
   "metadata": {},
   "source": [
    "Download data if necessary"
   ]
  },
  {
   "cell_type": "code",
   "execution_count": null,
   "id": "719a2cc7",
   "metadata": {},
   "outputs": [],
   "source": [
    "if (seu_file_link != \"\" && (!dir.exists(seu_data_path) || length(list.files(seu_data_path)) == 0)) {\n",
    "    seu_data_path <- download_box(seu_file_link, seu_data_name_from_download, data_path_root)\n",
    "}\n",
    "\n",
    "if (scan_file_link != \"\" && (!dir.exists(scan_data_path) || length(list.files(scan_data_path)) == 0)) {\n",
    "    scan_data_path <- download_box(scan_file_link, scan_data_name_from_download, data_path_root)\n",
    "}"
   ]
  },
  {
   "cell_type": "code",
   "execution_count": null,
   "id": "ae0e9b46",
   "metadata": {},
   "outputs": [],
   "source": [
    "py_run_string('import os \n",
    "import sys\n",
    "sys.path.append(f\"{r.project_base_path}/scripts\")\n",
    "from download_data import *\n",
    "\n",
    "if not r.doi == \"\" and (not os.path.exists(r.seu_data_path) or not os.listdir(r.seu_data_path)):\n",
    "    r.seu_data_path = download_and_extract(r.doi, r.seu_data_name_from_download, r.data_path_root)\n",
    "if not r.doi == \"\" and (not os.path.exists(r.scan_data_path) or not os.listdir(r.scan_data_path)):\n",
    "    r.scan_data_path = download_and_extract(r.doi, r.scan_data_name_from_download, r.data_path_root)')"
   ]
  },
  {
   "cell_type": "markdown",
   "id": "f13c4f5f",
   "metadata": {},
   "source": [
    "Python imports and setting up variables"
   ]
  },
  {
   "cell_type": "code",
   "execution_count": null,
   "id": "9b2ba881",
   "metadata": {},
   "outputs": [],
   "source": [
    "py_run_string('import shutil\n",
    "import scanpy as sc\n",
    "import pandas as pd\n",
    "import matplotlib.pyplot as plt\n",
    "import numpy as np\n",
    "import anndata\n",
    "import hdf5plugin\n",
    "import pickle\n",
    "import copy\n",
    "import kb_python.utils as kb_utils\n",
    "\n",
    "np.random.seed(100)\n",
    "\n",
    "seu_read_fraction_after_downsampling = r.seu_read_fraction_after_downsampling\n",
    "scan_read_fraction_after_downsampling = r.scan_read_fraction_after_downsampling\n",
    "\n",
    "seu_matrix_generation_method = r.seu_matrix_generation_method\n",
    "scan_matrix_generation_method = r.scan_matrix_generation_method\n",
    "\n",
    "scan_data_path = r.scan_data_path\n",
    "\n",
    "scan_num_pcs = r.scan_num_pcs\n",
    "\n",
    "data_input = r.data_input\n",
    "\n",
    "if r.n_top_genes:\n",
    "    n_top_genes = int(r.n_top_genes)\n",
    "else:\n",
    "    n_top_genes = r.n_top_genes\n",
    "    \n",
    "def save_scanpy_image(filepath):\n",
    "    if filepath:\n",
    "        save_file = os.path.basename(filepath)\n",
    "    else:\n",
    "        save_file = None\n",
    "    return save_file')"
   ]
  },
  {
   "cell_type": "markdown",
   "id": "77755410",
   "metadata": {},
   "source": [
    "Read the data into Seurat and create knee plot:"
   ]
  },
  {
   "cell_type": "code",
   "execution_count": null,
   "id": "f82ddcb6",
   "metadata": {},
   "outputs": [],
   "source": [
    "if (seu_matrix_generation_method == \"kb\") {\n",
    "    res_mat <- read_count_output_modified(seu_data_path, name = \"cells_x_genes\", tcc = FALSE)\n",
    "} else if (seu_matrix_generation_method == \"cellranger\") {\n",
    "    res_mat <- Read10X(seu_data_path, gene.column = 1)\n",
    "} else {\n",
    "    print(seu_matrix_generation_method, \"is not a valid input for seu_matrix_generation_method\")\n",
    "}\n",
    "\n",
    "if (seu_cell_fraction_after_downsampling != \"1_0\") {\n",
    "    total_cells <- ncol(res_mat)\n",
    "    numeric_seu_cell_fraction_after_downsampling <- gsub(\"_\", \".\", seu_cell_fraction_after_downsampling) %>% as.numeric()\n",
    "    cells_to_sample <- round(total_cells * numeric_seu_cell_fraction_after_downsampling)\n",
    "    withr::with_seed(seu_cell_downsample_seed, {sampled_cells <- sample(total_cells, cells_to_sample)})\n",
    "    res_mat <- res_mat[, sampled_cells]\n",
    "}\n",
    "\n",
    "tot_counts <- Matrix::colSums(res_mat)\n",
    "bc_rank <- barcodeRanks(res_mat)"
   ]
  },
  {
   "cell_type": "markdown",
   "id": "c976d2b4",
   "metadata": {},
   "source": [
    "Knee plot"
   ]
  },
  {
   "cell_type": "code",
   "execution_count": null,
   "id": "ad3c973e",
   "metadata": {},
   "outputs": [],
   "source": [
    "knee_plot <- make_knee_plot(bc_rank, save = file_paths$knee_plot)\n",
    "knee_plot"
   ]
  },
  {
   "cell_type": "markdown",
   "id": "ce977960",
   "metadata": {},
   "source": [
    "Select threshold for knee plot"
   ]
  },
  {
   "cell_type": "code",
   "execution_count": null,
   "id": "5fc25324",
   "metadata": {},
   "outputs": [],
   "source": [
    "if (inflection_UMI_manual != \"\") {\n",
    "    UMI_cutoff <- inflection_UMI_manual\n",
    "} else {\n",
    "    inflection_UMI <- metadata(bc_rank)$inflection\n",
    "    UMI_cutoff <- inflection_UMI\n",
    "}\n",
    "rank_at_inflection <- max(bc_rank$rank[bc_rank$total > inflection_UMI])"
   ]
  },
  {
   "cell_type": "markdown",
   "id": "626c095c",
   "metadata": {},
   "source": [
    "Apply filtering from knee plot"
   ]
  },
  {
   "cell_type": "code",
   "execution_count": null,
   "id": "67017bab",
   "metadata": {},
   "outputs": [],
   "source": [
    "res_mat_filtered <- res_mat[, tot_counts > UMI_cutoff]\n",
    "res_mat_filtered <- res_mat_filtered[Matrix::rowSums(res_mat_filtered) > 0, ]\n",
    "dim(res_mat_filtered)\n",
    "seu <- CreateSeuratObject(counts = res_mat_filtered, min.cells = min_cells, min.features = min_features)"
   ]
  },
  {
   "cell_type": "markdown",
   "id": "3403bf90",
   "metadata": {},
   "source": [
    "Read the data into Scanpy and apply basic filtering (knee plot)"
   ]
  },
  {
   "cell_type": "code",
   "execution_count": null,
   "id": "78ce2a7b",
   "metadata": {},
   "outputs": [],
   "source": [
    "py_run_string('if scan_matrix_generation_method==\"kb\":\n",
    "    adata = kb_utils.import_matrix_as_anndata(f\"{scan_data_path}/cells_x_genes.mtx\",f\"{scan_data_path}/cells_x_genes.barcodes.txt\",f\"{scan_data_path}/cells_x_genes.genes.txt\")\n",
    "elif scan_matrix_generation_method==\"cellranger\":\n",
    "    adata = sc.read_10x_mtx(scan_data_path, var_names=\\'gene_ids\\')\n",
    "\n",
    "adata_unfiltered = adata.copy()\n",
    "\n",
    "if r.scan_cell_fraction_after_downsampling != \"1_0\":\n",
    "    current_state = np.random.get_state()\n",
    "    np.random.seed(int(r.scan_cell_downsample_seed))\n",
    "    total_cells = adata.n_obs\n",
    "    numeric_scan_cell_fraction_after_downsampling = float(r.scan_cell_fraction_after_downsampling.replace(\"_\", \".\"))\n",
    "    cells_to_sample = round(total_cells * numeric_scan_cell_fraction_after_downsampling)\n",
    "    sampled_cells_indices = np.random.choice(total_cells, cells_to_sample, replace=False)\n",
    "    adata = adata[sampled_cells_indices]\n",
    "    np.random.set_state(current_state)\n",
    "\n",
    "# Apply filtering of knee plot\n",
    "sc.pp.filter_cells(adata, min_counts=r.UMI_cutoff)  # r.UMI_cutoff (same cutoff as R default) or custom number\n",
    "sc.pp.filter_genes(adata, min_counts=1)\n",
    "\n",
    "adata.var_names_make_unique()\n",
    "sc.pp.filter_cells(adata, min_genes=r.min_features)\n",
    "sc.pp.filter_genes(adata, min_cells=r.min_cells)')"
   ]
  },
  {
   "cell_type": "markdown",
   "id": "82c8296e",
   "metadata": {},
   "source": [
    "UMI scatterplot between the two groups"
   ]
  },
  {
   "cell_type": "code",
   "execution_count": null,
   "id": "c8956e28",
   "metadata": {},
   "outputs": [],
   "source": [
    "res_mat_py <- t(py$adata_unfiltered$X)\n",
    "rownames(res_mat_py) <- py$adata_unfiltered$var_names$to_list()\n",
    "colnames(res_mat_py) <- py$adata_unfiltered$obs_names$to_list()\n",
    "\n",
    "umi_scatterplot <- make_umi_scatterplot(res_mat1 = res_mat, res_mat2 = res_mat_py, UMI_cutoff1 = UMI_cutoff, UMI_cutoff2 = UMI_cutoff, res_mat1_name = \"Seurat\", res_mat2_name = \"Scanpy\", point_density = TRUE, color_points = FALSE, save = file_paths$umi_scatterplot)\n",
    "umi_scatterplot"
   ]
  },
  {
   "cell_type": "markdown",
   "id": "f99ae6b3",
   "metadata": {},
   "source": [
    "Find list of mitochondrial Ensembl gene names"
   ]
  },
  {
   "cell_type": "code",
   "execution_count": null,
   "id": "8e7f58ed",
   "metadata": {},
   "outputs": [],
   "source": [
    "# ensembl <- biomaRt::useEnsembl(biomart = \"ensembl\", dataset = \"hsapiens_gene_ensembl\")  #* If service is down, try mirror = \"useast\"\n",
    "# mt_genes <- biomaRt::getBM(attributes = c('ensembl_gene_id', 'external_gene_name'), filters = 'chromosome_name', values = 'MT', mart = ensembl)\n",
    "\n",
    "mt_genes <- data.frame(ensembl_gene_id = c(\"ENSG00000210049\", \"ENSG00000211459\", \"ENSG00000210077\", \"ENSG00000210082\", \"ENSG00000209082\", \"ENSG00000198888\", \"ENSG00000210100\", \"ENSG00000210107\", \"ENSG00000210112\", \"ENSG00000198763\", \"ENSG00000210117\", \"ENSG00000210127\", \"ENSG00000210135\", \"ENSG00000210140\", \"ENSG00000210144\", \"ENSG00000198804\", \"ENSG00000210151\", \"ENSG00000210154\", \"ENSG00000198712\", \"ENSG00000210156\", \"ENSG00000228253\", \"ENSG00000198899\", \"ENSG00000198938\", \"ENSG00000210164\", \"ENSG00000198840\", \"ENSG00000210174\", \"ENSG00000212907\", \"ENSG00000198886\", \"ENSG00000210176\", \"ENSG00000210184\", \"ENSG00000210191\", \"ENSG00000198786\", \"ENSG00000198695\", \"ENSG00000210194\", \"ENSG00000198727\", \"ENSG00000210195\", \"ENSG00000210196\"))"
   ]
  },
  {
   "cell_type": "markdown",
   "id": "d0c276a1",
   "metadata": {},
   "source": [
    "QC and filter high mito cells out of Seurat, Violin plots"
   ]
  },
  {
   "cell_type": "code",
   "execution_count": null,
   "id": "133f6b07",
   "metadata": {},
   "outputs": [],
   "source": [
    "assay_gene_names <- rownames(seu[[\"RNA\"]])\n",
    "assay_gene_names_trimmed <- gsub(\"\\\\..*\", \"\", assay_gene_names)\n",
    "common_genes <- intersect(mt_genes$ensembl_gene_id, assay_gene_names_trimmed)\n",
    "common_genes_with_version <- assay_gene_names[match(common_genes, assay_gene_names_trimmed)]\n",
    "seu[[\"pct_mt\"]] <- PercentageFeatureSet(seu, features = common_genes_with_version)\n",
    "\n",
    "violin_plot <- make_violin_plot(seu, show_points = FALSE, color = group1_color, save = file_paths$seu_violin_file_path)\n",
    "violin_plot\n",
    "\n",
    "seu <- subset(seu, pct_mt < max_pct_mct)"
   ]
  },
  {
   "cell_type": "markdown",
   "id": "3f5cb0d0",
   "metadata": {},
   "source": [
    "QC and filter high mito cells out of Scanpy"
   ]
  },
  {
   "cell_type": "code",
   "execution_count": null,
   "id": "daf6f9d0",
   "metadata": {},
   "outputs": [],
   "source": [
    "py_run_string('sc_mito_genes = r.mt_genes.ensembl_gene_id.tolist()\n",
    "adata.var[\\'mt\\'] = adata.var_names.isin(sc_mito_genes)\n",
    "\n",
    "sc.pp.calculate_qc_metrics(adata, qc_vars=[\\'mt\\'], percent_top=None, log1p=False, inplace=True)\n",
    "\n",
    "# Extracting gene names from adata and trimming any versions (like \\'.1\\', \\'.2\\', etc.)\n",
    "adata_gene_names_trimmed = [name.split(\\'.\\')[0] for name in adata.var_names]\n",
    "\n",
    "# Finding the intersection of mitochondrial genes with genes in adata\n",
    "common_genes = list(set(sc_mito_genes) & set(adata_gene_names_trimmed))\n",
    "\n",
    "# Calculate the percentage of mitochondrial reads for each cell\n",
    "adata.obs[\\'pct_mt\\'] = np.sum(\n",
    "    adata[:, [adata.var_names[i] for i, name in enumerate(adata_gene_names_trimmed) if name in common_genes]].X, \n",
    "    axis=1\n",
    ") / np.sum(adata.X, axis=1) * 100\n",
    "\n",
    "save_genes = save_scanpy_image(r.file_paths[f\"scan_violin_file_path_genes\"])\n",
    "save_counts = save_scanpy_image(r.file_paths[f\"scan_violin_file_path_counts\"])\n",
    "save_mt = save_scanpy_image(r.file_paths[f\"scan_violin_file_path_mt\"])\n",
    "\n",
    "# sc.pl.violin(adata, [\\'n_genes_by_counts\\', \\'total_counts\\', \\'pct_mt\\'], jitter=0.4, multi_panel = True)\n",
    "sc.pl.violin(adata, [\\'n_genes_by_counts\\'], jitter=0.4, size=0, save = save_genes)\n",
    "sc.pl.violin(adata, [\\'total_counts\\'], jitter=0.4, size=0, save = save_counts)\n",
    "sc.pl.violin(adata, [\\'pct_mt\\'], jitter=0.4, size=0, save = save_mt)\n",
    "\n",
    "if r.file_paths[f\"scan_violin_file_path_genes\"]:\n",
    "    shutil.move(f\"{os.getcwd()}/{save_genes}\", r.file_paths[f\"scan_violin_file_path_genes\"])\n",
    "    \n",
    "if r.file_paths[f\"scan_violin_file_path_counts\"]:\n",
    "    shutil.move(f\"{os.getcwd()}/{save_counts}\", r.file_paths[f\"scan_violin_file_path_counts\"])\n",
    "    \n",
    "if r.file_paths[f\"scan_violin_file_path_mt\"]:\n",
    "    shutil.move(f\"{os.getcwd()}/{save_mt}\", r.file_paths[f\"scan_violin_file_path_mt\"])\n",
    "\n",
    "\n",
    "pct_cells_over_threshold_mct = np.mean(adata.obs[\\'pct_mt\\'] > r.max_pct_mct) * 100\n",
    "print(f\"percentage of cells with %mct > threshold: {pct_cells_over_threshold_mct}\")\n",
    "\n",
    "# Filter out cells where the percentage of mitochondrial reads is > 20%\n",
    "adata = adata[adata.obs[\\'pct_mt\\'] < r.max_pct_mct, :]\n",
    "\n",
    "if r.analysis_methods == \"default\" or r.analysis_methods == \"scanpy_like\":\n",
    "    pct_cells_over_threshold_genes_by_counts = np.mean(adata.obs[\\'n_genes_by_counts\\'] > r.max_n_genes_by_counts_scanpy) * 100\n",
    "    print(f\"percentage of cells with n_genes_by_count > threshold: {pct_cells_over_threshold_genes_by_counts}\")\n",
    "    adata = adata[adata.obs.n_genes_by_counts < r.max_n_genes_by_counts_scanpy, :]\n",
    "    \n",
    "# Filter adata to only include the common cells \n",
    "cells_adata = adata.obs_names.tolist()\n",
    "\n",
    "# Convert the cell lists to sets\n",
    "cells_adata_set = set(cells_adata)')"
   ]
  },
  {
   "cell_type": "markdown",
   "id": "1f1dac9e",
   "metadata": {},
   "source": [
    "Euler plots of cell, gene overlap after QC"
   ]
  },
  {
   "cell_type": "code",
   "execution_count": null,
   "id": "772676c4",
   "metadata": {},
   "outputs": [],
   "source": [
    "euler_cell_afterqc <- make_euler_seurat_vs_scanpy(seu, py$adata, comparison = \"Cell\", save_plot = file_paths$euler_after_qc_cell_file_path, save_stats = file_paths$euler_stats_after_QC_file)\n",
    "euler_gene_afterqc <- make_euler_seurat_vs_scanpy(seu, py$adata, comparison = \"Gene\", save_plot = file_paths$euler_after_qc_gene_file_path, save_stats = file_paths$euler_stats_after_QC_file)\n",
    "\n",
    "euler_cell_afterqc\n",
    "euler_gene_afterqc"
   ]
  },
  {
   "cell_type": "markdown",
   "id": "a961e756",
   "metadata": {},
   "source": [
    "Upset plots of cell, gene overlap after QC"
   ]
  },
  {
   "cell_type": "code",
   "execution_count": null,
   "id": "0d3f895c",
   "metadata": {},
   "outputs": [],
   "source": [
    "source(glue(\"{project_base_path}/scripts/plotting_and_stats.R\"))\n",
    "upset_cell <- make_upset_seurat_vs_scanpy(seu, py$adata, comparison = \"Cell\", save = file_paths$upset_cells)\n",
    "upset_gene <- make_upset_seurat_vs_scanpy(seu, py$adata, comparison = \"Gene\", save = file_paths$upset_genes)"
   ]
  },
  {
   "cell_type": "markdown",
   "id": "d21ffb3f",
   "metadata": {},
   "source": [
    "Create cell and gene lists"
   ]
  },
  {
   "cell_type": "code",
   "execution_count": null,
   "id": "9399df62",
   "metadata": {},
   "outputs": [],
   "source": [
    "seu_inds <- colnames(seu)\n",
    "seu_genes <- rownames(seu)\n",
    "\n",
    "scan_inds <- as.vector(py$adata$obs_names$values)\n",
    "scan_genes <- as.vector(py$adata$var_names$values)\n",
    "\n",
    "overlapping_inds <- intersect(seu_inds, scan_inds)\n",
    "overlapping_genes <- intersect(seu_genes, scan_genes)"
   ]
  },
  {
   "cell_type": "markdown",
   "id": "b384d7f0",
   "metadata": {},
   "source": [
    "If data_input == \"seurat\": Apply Cells and Genes from Seurat to Scanpy"
   ]
  },
  {
   "cell_type": "code",
   "execution_count": null,
   "id": "8edb1d96",
   "metadata": {},
   "outputs": [],
   "source": [
    "py_run_string('if data_input == \"seurat\":\n",
    "    adata = adata_unfiltered.copy()\n",
    "    adata = adata[r.seu_inds,r.seu_genes].copy()\n",
    "    if r.analysis_methods == \"default\" or r.analysis_methods == \"scanpy_like\":\n",
    "        adata.var[\\'mt\\'] = adata.var_names.isin(sc_mito_genes)\n",
    "        # Extracting gene names from adata and trimming any versions (like \\'.1\\', \\'.2\\', etc.)\n",
    "        adata_gene_names_trimmed = [name.split(\\'.\\')[0] for name in adata.var_names]\n",
    "\n",
    "        # Finding the intersection of mitochondrial genes with genes in adata\n",
    "        common_genes = list(set(sc_mito_genes) & set(adata_gene_names_trimmed))\n",
    "\n",
    "        # Calculate the percentage of mitochondrial reads for each cell\n",
    "        adata.obs[\\'pct_mt\\'] = np.sum(\n",
    "            adata[:, [adata.var_names[i] for i, name in enumerate(adata_gene_names_trimmed) if name in common_genes]].X,\n",
    "            axis=1\n",
    "        ) / np.sum(adata.X, axis=1) * 100\n",
    "        sc.pp.calculate_qc_metrics(adata, qc_vars=[\\'mt\\'], percent_top=None, log1p=False, inplace=True)')"
   ]
  },
  {
   "cell_type": "markdown",
   "id": "3141a5c2",
   "metadata": {},
   "source": [
    "If data_input == \"scanpy\": Apply Cells and Genes from Scanpy to Seurat"
   ]
  },
  {
   "cell_type": "code",
   "execution_count": null,
   "id": "bc63c264",
   "metadata": {},
   "outputs": [],
   "source": [
    "if (data_input == \"scanpy\") {\n",
    "    if (seu_matrix_generation_method == \"kb\") {\n",
    "        res_mat <- read_count_output_modified(seu_data_path, name = \"cells_x_genes\", tcc = FALSE)\n",
    "    } else if (seu_matrix_generation_method == \"cellranger\") {\n",
    "        res_mat <- Read10X(seu_data_path, gene.column = 1)\n",
    "    }\n",
    "    res_mat <- res_mat[, tot_counts > UMI_cutoff] # uncomment if wanting faster execution\n",
    "    res_mat <- res_mat[Matrix::rowSums(res_mat) > 0, ] # uncomment if wanting faster execution\n",
    "    seu <- CreateSeuratObject(counts = res_mat)\n",
    "    seu <- subset(seu, cells = scan_inds, features = scan_genes)\n",
    "\n",
    "    assay_gene_names <- rownames(seu[[\"RNA\"]])\n",
    "    assay_gene_names_trimmed <- gsub(\"\\\\..*\", \"\", assay_gene_names)\n",
    "    common_genes <- intersect(py$sc_mito_genes, assay_gene_names_trimmed)\n",
    "    common_genes_with_version <- assay_gene_names[match(common_genes, assay_gene_names_trimmed)]\n",
    "    seu[[\"pct_mt\"]] <- PercentageFeatureSet(seu, features = common_genes_with_version)\n",
    "}"
   ]
  },
  {
   "cell_type": "markdown",
   "id": "4b67a793",
   "metadata": {},
   "source": [
    "If data_input is not default, then recompute cell and gene lists"
   ]
  },
  {
   "cell_type": "code",
   "execution_count": null,
   "id": "c9b39c8c",
   "metadata": {},
   "outputs": [],
   "source": [
    "if (data_input != \"default\") {\n",
    "    seu_inds <- colnames(seu)\n",
    "    seu_genes <- rownames(seu)\n",
    "\n",
    "    scan_inds <- as.vector(py$adata$obs_names$values)\n",
    "    scan_genes <- as.vector(py$adata$var_names$values)\n",
    "\n",
    "    overlapping_inds <- intersect(seu_inds, scan_inds)\n",
    "    overlapping_genes <- intersect(seu_genes, scan_genes)\n",
    "\n",
    "    print(paste0(\"Cell vectors equal: \", all.equal(seu_inds, scan_inds)))\n",
    "    print(paste0(\"Gene vectors equal: \", all.equal(seu_genes, scan_genes)))\n",
    "}"
   ]
  },
  {
   "cell_type": "markdown",
   "id": "c8bdea5c",
   "metadata": {},
   "source": [
    "Normalization"
   ]
  },
  {
   "cell_type": "code",
   "execution_count": null,
   "id": "a418ee2d",
   "metadata": {},
   "outputs": [],
   "source": [
    "FeatureScatter(seu, feature1 = \"nCount_RNA\", feature2 = \"nFeature_RNA\")\n",
    "\n",
    "seu <- NormalizeData(seu, verbose = FALSE)"
   ]
  },
  {
   "cell_type": "code",
   "execution_count": null,
   "id": "625e0b25",
   "metadata": {},
   "outputs": [],
   "source": [
    "py_run_string('if r.scanpy_hvg_flavor != \"seurat_v3\":\n",
    "    sc.pp.normalize_total(adata, target_sum=1e4)')"
   ]
  },
  {
   "cell_type": "code",
   "execution_count": null,
   "id": "c690e56b",
   "metadata": {},
   "outputs": [],
   "source": [
    "py_run_string('if r.scanpy_hvg_flavor != \"seurat_v3\":\n",
    "    sc.pp.log1p(adata)')"
   ]
  },
  {
   "cell_type": "markdown",
   "id": "2adf3154",
   "metadata": {},
   "source": [
    "Check equivalency of normalization methods (assuming identical input)"
   ]
  },
  {
   "cell_type": "code",
   "execution_count": null,
   "id": "4148083f",
   "metadata": {},
   "outputs": [],
   "source": [
    "mat_py <- py$adata$X\n",
    "mat_py <- as(t(mat_py), \"CsparseMatrix\")\n",
    "mat_r <- GetAssayData(seu, \"RNA\", layer = \"data\")\n",
    "equal_after_normalization <- all.equal(mat_py@x, mat_r@x)\n",
    "\n",
    "if (file_paths$euler_stats_after_QC_file != FALSE) {\n",
    "    sink(file_paths$euler_stats_after_QC_file, split = TRUE, append = TRUE)\n",
    "}\n",
    "\n",
    "print(glue(\"Equal after normalization: {equal_after_normalization}\"))\n",
    "\n",
    "if (file_paths$euler_stats_after_QC_file != FALSE) {\n",
    "    sink()\n",
    "}"
   ]
  },
  {
   "cell_type": "markdown",
   "id": "6dd3fbdc",
   "metadata": {},
   "source": [
    "Find HVGs"
   ]
  },
  {
   "cell_type": "code",
   "execution_count": null,
   "id": "7ad00eb6",
   "metadata": {},
   "outputs": [],
   "source": [
    "seu <- FindVariableFeatures(seu, verbose = FALSE, selection.method = seurat_hvg_flavor, mean.cutoff = seu_mean_cutoff, dispersion.cutoff = seu_dispersion_cutoff, nfeatures = 2000)\n",
    "\n",
    "top10 <- head(VariableFeatures(seu), 10)\n",
    "LabelPoints(VariableFeaturePlot(seu), points = top10, repel = TRUE)"
   ]
  },
  {
   "cell_type": "code",
   "execution_count": null,
   "id": "19ff8b59",
   "metadata": {},
   "outputs": [],
   "source": [
    "py_run_string('sc.pp.highly_variable_genes(adata, n_top_genes = n_top_genes, flavor = r.scanpy_hvg_flavor)  # Sometimes this cell must be run manually when scanpy_hvg_flavor == \"seurat_v3\"\n",
    "\n",
    "scanpy_highly_variable_genes = adata.var.index[adata.var[\\'highly_variable\\']]\n",
    "scanpy_highly_variable_genes_list = adata.var[adata.var[\\'highly_variable\\']].index.tolist()')"
   ]
  },
  {
   "cell_type": "markdown",
   "id": "e29ad53a",
   "metadata": {},
   "source": [
    "Euler plot of HVG overlap"
   ]
  },
  {
   "cell_type": "code",
   "execution_count": null,
   "id": "fd514ac0",
   "metadata": {},
   "outputs": [],
   "source": [
    "source(glue(\"{project_base_path}/scripts/plotting_and_stats.R\"))\n",
    "euler_hvg_afterqc <- make_euler_seurat_vs_scanpy(seu, py$adata, comparison = \"HVG\", save_plot = file_paths$euler_after_qc_hvg_file_path, save_stats = file_paths$euler_stats_after_QC_file)\n",
    "euler_hvg_afterqc\n",
    "\n",
    "upset_hvg <- make_upset_seurat_vs_scanpy(seu, py$adata, comparison = \"HVG\", save = file_paths$upset_hvgs)"
   ]
  },
  {
   "cell_type": "code",
   "execution_count": null,
   "id": "ca7e3a49",
   "metadata": {},
   "outputs": [],
   "source": [
    "py_run_string('if r.scanpy_hvg_flavor == \"seurat_v3\":\n",
    "    sc.pp.normalize_total(adata, target_sum=1e4)')"
   ]
  },
  {
   "cell_type": "code",
   "execution_count": null,
   "id": "f1c3aafa",
   "metadata": {},
   "outputs": [],
   "source": [
    "py_run_string('if r.scanpy_hvg_flavor == \"seurat_v3\":\n",
    "    sc.pp.log1p(adata)\n",
    "\n",
    "adata.raw = adata')"
   ]
  },
  {
   "cell_type": "markdown",
   "id": "e8a66b1c",
   "metadata": {},
   "source": [
    "If data_input == \"scanpy\": Apply HVGs from Scanpy to Seurat"
   ]
  },
  {
   "cell_type": "code",
   "execution_count": null,
   "id": "79fa3a75",
   "metadata": {},
   "outputs": [],
   "source": [
    "if (data_input == \"scanpy\") {\n",
    "    VariableFeatures(seu) <- py$scanpy_highly_variable_genes_list\n",
    "}\n",
    "\n",
    "is_hvg_r <- rownames(seu) %in% VariableFeatures(seu)"
   ]
  },
  {
   "cell_type": "markdown",
   "id": "2f9bc1ea",
   "metadata": {},
   "source": [
    "If data_input == \"seurat\": Apply HVGs from Seurat to Scanpy"
   ]
  },
  {
   "cell_type": "code",
   "execution_count": null,
   "id": "f3073eee",
   "metadata": {},
   "outputs": [],
   "source": [
    "py_run_string('if data_input == \"seurat\": \n",
    "    adata.var = adata.var.assign(highly_variable = r.is_hvg_r)\n",
    "    scanpy_highly_variable_genes = adata.var.index[adata.var[\\'highly_variable\\']]\n",
    "    scanpy_highly_variable_genes_list = adata.var[adata.var[\\'highly_variable\\']].index.tolist()')"
   ]
  },
  {
   "cell_type": "markdown",
   "id": "8a541b54",
   "metadata": {},
   "source": [
    "Make a combined list of HVGs"
   ]
  },
  {
   "cell_type": "code",
   "execution_count": null,
   "id": "b2e886e4",
   "metadata": {},
   "outputs": [],
   "source": [
    "hvgs <- list(Seurat = VariableFeatures(seu), Scanpy = py$scanpy_highly_variable_genes_list)"
   ]
  },
  {
   "cell_type": "markdown",
   "id": "29a752a9",
   "metadata": {},
   "source": [
    "Scanpy-only: Keep only HVGs, regress out features"
   ]
  },
  {
   "cell_type": "code",
   "execution_count": null,
   "id": "6924bfd1",
   "metadata": {},
   "outputs": [],
   "source": [
    "py_run_string('adata = adata[:, adata.var.highly_variable]\n",
    "\n",
    "if r.analysis_methods == \"default\" or r.analysis_methods == \"scanpy_like\":\n",
    "    sc.pp.regress_out(adata, [\\'total_counts\\', \\'pct_mt\\'])')"
   ]
  },
  {
   "cell_type": "markdown",
   "id": "ed03cc47",
   "metadata": {},
   "source": [
    "Scaling +/- regression"
   ]
  },
  {
   "cell_type": "code",
   "execution_count": null,
   "id": "ff287dbf",
   "metadata": {},
   "outputs": [],
   "source": [
    "seu <- ScaleData(seu, verbose = FALSE, scale.max = seurat_scale_max, vars.to.regress = seu_vars_to_regress)"
   ]
  },
  {
   "cell_type": "code",
   "execution_count": null,
   "id": "481a3c3a",
   "metadata": {},
   "outputs": [],
   "source": [
    "py_run_string('sc.pp.scale(adata, max_value=r.scanpy_scale_max)')"
   ]
  },
  {
   "cell_type": "markdown",
   "id": "5c7ea5f2",
   "metadata": {},
   "source": [
    "PCA"
   ]
  },
  {
   "cell_type": "code",
   "execution_count": null,
   "id": "887f5f6d",
   "metadata": {},
   "outputs": [],
   "source": [
    "seu <- RunPCA(seu, npcs = 50, verbose = FALSE, seed.use = pca_seed_seu)\n",
    "seu_elbow <- Seurat::ElbowPlot(seu, 50)\n",
    "seu_elbow\n",
    "\n",
    "if (is.null(seu_num_pcs)) {\n",
    "    seu_num_pcs <- 50 # optimize as needed\n",
    "}"
   ]
  },
  {
   "cell_type": "code",
   "execution_count": null,
   "id": "3995449d",
   "metadata": {},
   "outputs": [],
   "source": [
    "py_run_string('sc.tl.pca(adata, svd_solver=\\'arpack\\', zero_center = r.scanpy_pca_zero_center, random_state = int(r.pca_seed_scan))\n",
    "sc.pl.pca_variance_ratio(adata, log=True, n_pcs=50)\n",
    "\n",
    "if scan_num_pcs == None:\n",
    "    scan_num_pcs = 50  # optimize as needed\n",
    "\n",
    "if r.analysis_methods == \"seurat_like\":\n",
    "    scan_num_pcs = r.seu_num_pcs')"
   ]
  },
  {
   "cell_type": "markdown",
   "id": "367a0814",
   "metadata": {},
   "source": [
    "Scree plot"
   ]
  },
  {
   "cell_type": "code",
   "execution_count": null,
   "id": "1bf06d22",
   "metadata": {},
   "outputs": [],
   "source": [
    "if (analysis_methods == \"scanpy_like\") {\n",
    "    seu_num_pcs <- py$scan_num_pcs\n",
    "}\n",
    "\n",
    "tot_variance <- Misc(Reductions(seu, \"pca\"))[[\"total.variance\"]]\n",
    "var_explained <- Stdev(seu, reduction = \"pca\")^2 / tot_variance\n",
    "var_explained_py <- py$adata$uns[[\"pca\"]][[\"variance_ratio\"]]\n",
    "\n",
    "eigs_df <- tibble(\n",
    "    Seurat = var_explained,\n",
    "    Scanpy = var_explained_py,\n",
    "    PC = 1:50\n",
    ")"
   ]
  },
  {
   "cell_type": "code",
   "execution_count": null,
   "id": "50d2eea7",
   "metadata": {},
   "outputs": [],
   "source": [
    "combined_pc_variance <- plot_var_explained(eigs_df, npcs = 50, save = file_paths$pca_elbow_filepath_combined)\n",
    "combined_pc_variance"
   ]
  },
  {
   "cell_type": "markdown",
   "id": "ded509c1",
   "metadata": {},
   "source": [
    "PCA scatterplot"
   ]
  },
  {
   "cell_type": "code",
   "execution_count": null,
   "id": "d64b5c2d",
   "metadata": {},
   "outputs": [],
   "source": [
    "PCAPlot(seu, cols = group1_color) + theme(legend.position = \"none\")"
   ]
  },
  {
   "cell_type": "code",
   "execution_count": null,
   "id": "91ccfcc8",
   "metadata": {},
   "outputs": [],
   "source": [
    "py_run_string('sc.pl.pca(adata)')"
   ]
  },
  {
   "cell_type": "markdown",
   "id": "0a4c4d43",
   "metadata": {},
   "source": [
    "Create a collection of PCA embeddings"
   ]
  },
  {
   "cell_type": "code",
   "execution_count": null,
   "id": "57a4cf73",
   "metadata": {},
   "outputs": [],
   "source": [
    "pca_embeddings <- Embeddings(seu, reduction = \"pca\")\n",
    "\n",
    "pca_embeddings_py <- py$adata$obsm[\"X_pca\"]\n",
    "\n",
    "cell_names_py <- scan_inds\n",
    "\n",
    "rownames(pca_embeddings_py) <- cell_names_py\n",
    "colnames(pca_embeddings_py) <- colnames(pca_embeddings)\n",
    "\n",
    "all.equal(cell_names_py, rownames(pca_embeddings))"
   ]
  },
  {
   "cell_type": "markdown",
   "id": "212f283a",
   "metadata": {},
   "source": [
    "Overlay PCA scatterplots"
   ]
  },
  {
   "cell_type": "code",
   "execution_count": null,
   "id": "f209bb9d",
   "metadata": {},
   "outputs": [],
   "source": [
    "if (!identical(seu_inds, scan_inds)) {\n",
    "    pca_embeddings <- pca_embeddings[rownames(pca_embeddings) %in% overlapping_inds, ]\n",
    "    pca_embeddings_py <- pca_embeddings_py[rownames(pca_embeddings_py) %in% overlapping_inds, ]\n",
    "    \n",
    "    pca_embeddings_py <- pca_embeddings_py[match(rownames(pca_embeddings), rownames(pca_embeddings_py)), ]\n",
    "}\n",
    "\n",
    "pca12_plot <- plot_pca_compare(pca_embeddings, pca_embeddings_py, legend_position = \"TR\", save = file_paths$pca_12_overlay_filepath)\n",
    "pca34_plot <- plot_pca_compare(pca_embeddings, pca_embeddings_py, pcs = 3:4, legend_position = \"TR\", save = file_paths$pca_34_overlay_filepath)\n",
    "\n",
    "pca12_plot\n",
    "pca34_plot"
   ]
  },
  {
   "cell_type": "markdown",
   "id": "7c2b8129",
   "metadata": {},
   "source": [
    "Plot PCA eigenvectors (loadings), eigenvalues"
   ]
  },
  {
   "cell_type": "code",
   "execution_count": null,
   "id": "a8d98cf8",
   "metadata": {},
   "outputs": [],
   "source": [
    "is_hvg_py <- py$adata$var$highly_variable\n",
    "\n",
    "pca_loadings_seu <- Loadings(seu, reduction = \"pca\")\n",
    "pca_loadings_py <- py$adata$varm[\"PCs\"]\n",
    "pca_loadings_py <- pca_loadings_py[is_hvg_py, ]\n",
    "rownames(pca_loadings_py) <- hvgs$Scanpy\n",
    "colnames(pca_loadings_py) <- colnames(pca_loadings_seu)\n",
    "\n",
    "df_loadings <- make_pc_diffs_df(list(\n",
    "    Seurat = pca_loadings_seu,\n",
    "    Scanpy = pca_loadings_py\n",
    "), npcs = 50)\n",
    "\n",
    "mean_loadings_diff <- mean(df_loadings$differences[1:3])\n",
    "\n",
    "if (file_paths$pca_knn_clustering_umap_file != FALSE) {\n",
    "    sink(file_paths$pca_knn_clustering_umap_file, split = TRUE, append = TRUE)\n",
    "}\n",
    "\n",
    "print(glue(\"Mean loading difference of PC1-3: {mean_loadings_diff}\"))\n",
    "\n",
    "if (file_paths$pca_knn_clustering_umap_file != FALSE) {\n",
    "    sink()\n",
    "}\n",
    "\n",
    "mylist <- list(\n",
    "    Seurat = pca_loadings_seu,\n",
    "    Scanpy = pca_loadings_py\n",
    ")\n",
    "\n",
    "loading_diffs <- plot_loading_diffs(df_loadings, save = file_paths$pca_loading_diffs)\n",
    "\n",
    "df_eigs <- tibble(\n",
    "    `Seurat vs. Scanpy` = abs(var_explained - var_explained_py),\n",
    "    PC = 1:50\n",
    ")\n",
    "\n",
    "df_eigs <- df_eigs |>\n",
    "    pivot_longer(-PC, names_to = \"type\", values_to = \"value\")\n",
    "\n",
    "eigs_diff <- plot_eigs_diffs(df_eigs, save = file_paths$pca_eigs_diff)\n",
    "\n",
    "loading_diffs\n",
    "eigs_diff"
   ]
  },
  {
   "cell_type": "markdown",
   "id": "1679a23c",
   "metadata": {},
   "source": [
    "Combine scree plot and eigenvector plot"
   ]
  },
  {
   "cell_type": "code",
   "execution_count": null,
   "id": "d80fde40",
   "metadata": {},
   "outputs": [],
   "source": [
    "combined_plot <- make_combined_pc_variance_loadings_plot(combined_pc_variance, loading_diffs, save = file_paths$combined_pc_variance_loadings_plot)\n",
    "combined_plot"
   ]
  },
  {
   "cell_type": "markdown",
   "id": "b306f491",
   "metadata": {},
   "source": [
    "If data_input == \"scanpy\": Apply PCs from Scanpy to Seurat"
   ]
  },
  {
   "cell_type": "code",
   "execution_count": null,
   "id": "2b4c5358",
   "metadata": {},
   "outputs": [],
   "source": [
    "if (data_input == \"scanpy\" && identical(seu_inds, scan_inds)) {\n",
    "    pca_embeddings_py <- py$adata$obsm[\"X_pca\"]\n",
    "    rownames(pca_embeddings_py) <- scan_inds\n",
    "    colnames(pca_embeddings_py) <- colnames(pca_embeddings)\n",
    "    seu[[\"pca\"]] <- CreateDimReducObject(embeddings = as.matrix(pca_embeddings_py), key = \"PC_\", assay = DefaultAssay(seu))\n",
    "}"
   ]
  },
  {
   "cell_type": "markdown",
   "id": "a907c755",
   "metadata": {},
   "source": [
    "If data_input == \"seurat\": Apply PCs from Seurat to Scanpy"
   ]
  },
  {
   "cell_type": "code",
   "execution_count": null,
   "id": "409eb8e2",
   "metadata": {},
   "outputs": [],
   "source": [
    "if (data_input == \"seurat\" && identical(seu_inds, scan_inds)) {\n",
    "    py$adata$obsm[\"X_pca\"] <- Embeddings(seu, reduction = \"pca\")\n",
    "}"
   ]
  },
  {
   "cell_type": "markdown",
   "id": "d9bbee12",
   "metadata": {},
   "source": [
    "Neighbors"
   ]
  },
  {
   "cell_type": "code",
   "execution_count": null,
   "id": "09b02848",
   "metadata": {},
   "outputs": [],
   "source": [
    "# # Uncomment if wanting to set random seed for KNN\n",
    "# assignInNamespace(\"AnnoyBuildIndex\", value = function(data, metric = \"euclidean\", n.trees = 50) {\n",
    "#     f <- ncol(x = data)\n",
    "#     a <- switch(EXPR = metric, euclidean = new(Class = RcppAnnoy::AnnoyEuclidean, \n",
    "#         f), cosine = new(Class = RcppAnnoy::AnnoyAngular, f), \n",
    "#         manhattan = new(Class = RcppAnnoy::AnnoyManhattan, f), \n",
    "#         hamming = new(Class = RcppAnnoy::AnnoyHamming, f), stop(\"Invalid metric\"))\n",
    "#     a$setSeed(as.integer(knn_seed_seu))\n",
    "#     for (ii in seq(nrow(x = data))) {\n",
    "#         a$addItem(ii - 1, data[ii, ])\n",
    "#     }\n",
    "#     a$build(n.trees)\n",
    "#     return(a)\n",
    "# }, ns = \"Seurat\")\n",
    "# \n",
    "# assignInNamespace(\"AnnoySearch\", value = function (index, query, k, search.k = -1, include.distance = TRUE) {\n",
    "#     index$setSeed(as.integer(knn_seed_seu))\n",
    "#     \n",
    "#     n <- nrow(x = query)\n",
    "#     idx <- matrix(nrow = n, ncol = k)\n",
    "#     dist <- matrix(nrow = n, ncol = k)\n",
    "#     convert <- methods::is(index, \"Rcpp_AnnoyAngular\")\n",
    "#     if (!inherits(x = plan(), what = \"multicore\")) {\n",
    "#         oplan <- plan(strategy = \"sequential\")\n",
    "#         on.exit(plan(oplan), add = TRUE)\n",
    "#     }\n",
    "#     res <- future.apply::future_lapply(X = 1:n, FUN = function(x) {\n",
    "#         res <- index$getNNsByVectorList(query[x, ], k, search.k, \n",
    "#             include.distance)\n",
    "#         if (convert) {\n",
    "#             res$dist <- 0.5 * (res$dist * res$dist)\n",
    "#         }\n",
    "#         list(res$item + 1, res$distance)\n",
    "#     })\n",
    "#     for (i in 1:n) {\n",
    "#         idx[i, ] <- res[[i]][[1]]\n",
    "#         if (include.distance) {\n",
    "#             dist[i, ] <- res[[i]][[2]]\n",
    "#         }\n",
    "#     }\n",
    "#     return(list(nn.idx = idx, nn.dists = dist))\n",
    "# }, ns = \"Seurat\")"
   ]
  },
  {
   "cell_type": "code",
   "execution_count": null,
   "id": "a96480fb",
   "metadata": {},
   "outputs": [],
   "source": [
    "seu <- FindNeighbors(seu, reduction = \"pca\", dims = 1:seu_num_pcs, k.param = seu_n_neighbors)\n",
    "snn_graph_seu <- seu@graphs$RNA_snn\n",
    "knn_graph_seu <- seu@graphs$RNA_nn"
   ]
  },
  {
   "cell_type": "code",
   "execution_count": null,
   "id": "1ef2d467",
   "metadata": {},
   "outputs": [],
   "source": [
    "py_run_string('sc.pp.neighbors(adata, n_neighbors=int(r.scan_n_neighbors), n_pcs=int(scan_num_pcs), use_rep=\\'X_pca\\', random_state=int(r.knn_seed_scan))\n",
    "snn_graph_scan = adata.obsp[\\'connectivities\\']\n",
    "knn_graph_scan = adata.obsp[\\'distances\\']')"
   ]
  },
  {
   "cell_type": "markdown",
   "id": "1e8ba56b",
   "metadata": {},
   "source": [
    "Plot SNN graph jaccard indices (ie similarity of neighborhoods) and degrees (ie size of neighborhoods)"
   ]
  },
  {
   "cell_type": "code",
   "execution_count": null,
   "id": "d1342df1",
   "metadata": {},
   "outputs": [],
   "source": [
    "seu_snn_b <- snn_graph_seu > 0\n",
    "sc_nn_b <- py$snn_graph_scan > 0\n",
    "\n",
    "if (!identical(seu_inds, scan_inds)) {\n",
    "    seu_snn_b <- seu_snn_b[overlapping_inds, overlapping_inds]\n",
    "    sc_nn_b <- sc_nn_b[overlapping_inds, overlapping_inds]\n",
    "}\n",
    "\n",
    "seu_list <- mat2list(seu_snn_b)\n",
    "sc_list <- mat2list(sc_nn_b)\n",
    "\n",
    "jaccards <- find_jaccards(list(Seurat = seu_list, Scanpy = sc_list))\n",
    "\n",
    "median_jaccard <- median(jaccards$Jaccard)\n",
    "\n",
    "jaccard_plot <- make_jaccard_plot(jaccards, median_jaccard, save = file_paths$jaccards)\n",
    "\n",
    "jaccard_plot\n",
    "\n",
    "nei_sizes <- tibble(\n",
    "    Seurat = lengths(seu_list),\n",
    "    Scanpy = lengths(sc_list)\n",
    ")\n",
    "\n",
    "nei_pairs <- make_pairwise_df(nei_sizes)\n",
    "\n",
    "knn_scatterplot <- make_knn_scatterplot(nei_pairs, save = file_paths$knn_scatterplot)\n",
    "\n",
    "knn_scatterplot\n",
    "\n",
    "jaccards$degree_ratio <- nei_pairs$value1 / nei_pairs$value2\n",
    "jaccards$logged_degree_ratio <- log(jaccards$degree_ratio, base = 2)\n",
    "\n",
    "jaccards$logged_degree_ratio[jaccards$logged_degree_ratio == -Inf] <- -10\n",
    "jaccards$logged_degree_ratio[jaccards$logged_degree_ratio == Inf] <- 10\n",
    "\n",
    "jaccards$jaccard_logged <- log(jaccards$Jaccard, base = 2)\n",
    "\n",
    "median_magnitude_logged_degree_ratio <- median(abs(jaccards$logged_degree_ratio))\n",
    "mean_magnitude_logged_degree_ratio <- mean(abs(jaccards$logged_degree_ratio))\n",
    "\n",
    "if (file_paths$pca_knn_clustering_umap_file != FALSE) {\n",
    "    sink(file_paths$pca_knn_clustering_umap_file, append = TRUE, split = TRUE)\n",
    "}\n",
    "\n",
    "print(glue(\"Median jaccard of SNN: {median_jaccard}\"))\n",
    "print(glue(\"Median magnitude of log degree ratio of SNN: {median_magnitude_logged_degree_ratio}\"))\n",
    "print(glue(\"Mean magnitude of log degree ratio of SNN: {mean_magnitude_logged_degree_ratio}\"))\n",
    "\n",
    "if (file_paths$pca_knn_clustering_umap_file != FALSE) {\n",
    "    sink()\n",
    "}"
   ]
  },
  {
   "cell_type": "markdown",
   "id": "36cca509",
   "metadata": {},
   "source": [
    "Combine jaccard indices and degree ratios into a single plot"
   ]
  },
  {
   "cell_type": "code",
   "execution_count": null,
   "id": "c52e863a",
   "metadata": {},
   "outputs": [],
   "source": [
    "jaccard_degree_scatterplot <- make_snn_jaccard_degree_scatterplot(jaccards, save = file_paths$jaccard_degree_scatterplot)\n",
    "jaccard_degree_scatterplot"
   ]
  },
  {
   "cell_type": "markdown",
   "id": "9a445468",
   "metadata": {},
   "source": [
    "If data_input == \"seurat\": Apply KNN and SNN graph from Seurat to Scanpy"
   ]
  },
  {
   "cell_type": "code",
   "execution_count": null,
   "id": "dde65e96",
   "metadata": {},
   "outputs": [],
   "source": [
    "py_run_string('if data_input == \"seurat\" and (r.seu_inds == r.scan_inds):\n",
    "    # SNN\n",
    "    adata.obsp[\\'connectivities\\'] = r.snn_graph_seu\n",
    "    snn_graph_scan = adata.obsp[\\'connectivities\\']\n",
    "    \n",
    "    # KNN\n",
    "    # adata.obsp[\\'distances\\'] = r.knn_graph_seu\n",
    "    # knn_graph_scan = adata.obsp[\\'distances\\']')"
   ]
  },
  {
   "cell_type": "markdown",
   "id": "b57a1ee0",
   "metadata": {},
   "source": [
    "If data_input == \"scanpy\": Apply SNN graph from Scanpy to Seurat"
   ]
  },
  {
   "cell_type": "code",
   "execution_count": null,
   "id": "b7d3f491",
   "metadata": {},
   "outputs": [],
   "source": [
    "if (data_input == \"scanpy\" && identical(seu_inds, scan_inds)) {\n",
    "    # SNN\n",
    "    snn_graph_scan_matrix <- as.matrix(py$snn_graph_scan, rownames.force = NA)\n",
    "    rownames(snn_graph_scan_matrix) <- rownames(py$adata$obs)\n",
    "    colnames(snn_graph_scan_matrix) <- rownames(py$adata$obs)\n",
    "    seu@graphs$RNA_snn <- as.Graph(snn_graph_scan_matrix)\n",
    "    snn_graph_seu <- seu@graphs$RNA_snn\n",
    "\n",
    "    # KNN\n",
    "    # knn_graph_scan_matrix <- as.matrix(py$adata$obsp[\"distances\"], rownames.force = NA)\n",
    "    # rownames(knn_graph_scan_matrix) <- rownames(py$adata$obs)\n",
    "    # colnames(knn_graph_scan_matrix) <- rownames(py$adata$obs)\n",
    "    # seu@graphs$RNA_nn <- as.Graph(knn_graph_scan_matrix)\n",
    "    # knn_graph_seu <- seu@graphs$RNA_nn\n",
    "}"
   ]
  },
  {
   "cell_type": "markdown",
   "id": "4648647a",
   "metadata": {},
   "source": [
    "Follow these instructions if clustering is too memory-intensive when analysis_methods == \"scanpy_like\""
   ]
  },
  {
   "cell_type": "code",
   "execution_count": null,
   "id": "ef9e352a",
   "metadata": {},
   "outputs": [],
   "source": [
    "# saveRDS(seu, file = output_data_file_paths$seu_object)\n",
    "### run seurat_scanpylike_clustering.R\n",
    "# seu <- readRDS(output_data_file_paths$seu_object)"
   ]
  },
  {
   "cell_type": "markdown",
   "id": "683c995f",
   "metadata": {},
   "source": [
    "Clustering"
   ]
  },
  {
   "cell_type": "code",
   "execution_count": null,
   "id": "fe4f4182",
   "metadata": {},
   "outputs": [],
   "source": [
    "if (seurat_clustering_algorithm == \"louvain\") {\n",
    "    seurat_clustering_algorithm <- 1\n",
    "} else if (seurat_clustering_algorithm == \"leiden\") {\n",
    "    seurat_clustering_algorithm <- 4\n",
    "}"
   ]
  },
  {
   "cell_type": "code",
   "execution_count": null,
   "id": "55b32a81",
   "metadata": {},
   "outputs": [],
   "source": [
    "py_run_string('if r.scanpy_clustering_algorithm == \"leiden\":\n",
    "    sc.tl.leiden(adata, resolution=r.scanpy_resolution, n_iterations=int(r.scanpy_cluster_iters), random_state = int(r.clustering_seed_scan))\n",
    "elif r.scanpy_clustering_algorithm == \"louvain\":\n",
    "    sc.tl.louvain(adata, resolution=r.scanpy_resolution, random_state = int(r.clustering_seed_scan))')"
   ]
  },
  {
   "cell_type": "code",
   "execution_count": null,
   "id": "e6d6798a",
   "metadata": {},
   "outputs": [],
   "source": [
    "# # Since leiden has identical outcomes with both Seurat and Scanpy (can be verified by uncommenting the cell above), we can save the computational intensity of the operation by just applying Scanpy's results to Seurat\n",
    "if (analysis_methods == \"scanpy_like\") {\n",
    "    seu <- FindClusters(seu, verbose = FALSE, algorithm = 1, resolution = seu_resolution, random.seed = clustering_seed_seu)\n",
    "    scan_clusters <- py$adata$obs[[scanpy_clustering_algorithm]]\n",
    "    names(scan_clusters) <- scan_inds\n",
    "    Idents(seu) <- scan_clusters\n",
    "    seu$seurat_clusters <- Idents(seu)\n",
    "} else {\n",
    "    seu <- FindClusters(seu, verbose = FALSE, algorithm = seurat_clustering_algorithm, resolution = seu_resolution, random.seed = clustering_seed_seu)\n",
    "}\n",
    "\n",
    "seu_clusters <- Idents(seu)"
   ]
  },
  {
   "cell_type": "markdown",
   "id": "6972cce6",
   "metadata": {},
   "source": [
    "PCA scatterplots with clusters"
   ]
  },
  {
   "cell_type": "code",
   "execution_count": null,
   "id": "1474880c",
   "metadata": {},
   "outputs": [],
   "source": [
    "new_cluster_pca <- DimPlot(seu, label = TRUE, group.by = \"seurat_clusters\", label.size = 3) + scale_color_manual(values = ditto_colors) + ggtitle(\"PCA with clusters\")\n",
    "new_cluster_pca\n",
    "\n",
    "if (file_paths$pca_cluster_filepath_seu != FALSE) {\n",
    "    ggsave(file_paths$pca_cluster_filepath_seu, plot = new_cluster_pca, dpi = dpi_color)\n",
    "}"
   ]
  },
  {
   "cell_type": "code",
   "execution_count": null,
   "id": "fa7825a3",
   "metadata": {},
   "outputs": [],
   "source": [
    "py_run_string('ax = sc.pl.pca(adata, color=r.scanpy_clustering_algorithm, show=False, palette=r.ditto_colors, title=\"PCA with clusters\")\n",
    "\n",
    "# Retrieve handles and labels for the legend\n",
    "handles, labels = ax.get_legend_handles_labels()\n",
    "\n",
    "# Create a new legend that includes all clusters\n",
    "# You might need to adjust \\'ncol\\' (number of columns) for the best layout\n",
    "ax.legend(handles, labels, loc=\\'best\\', ncol=2, fontsize=\\'small\\')\n",
    "\n",
    "# Show the plot with the updated legend\n",
    "plt.show()\n",
    "\n",
    "if r.pca_cluster_filepath_scan != False:\n",
    "    plt.savefig(r.pca_cluster_filepath_scan)')"
   ]
  },
  {
   "cell_type": "markdown",
   "id": "0a70ac1a",
   "metadata": {},
   "source": [
    "Compute adjusted Rand index to compare cluster similarity"
   ]
  },
  {
   "cell_type": "code",
   "execution_count": null,
   "id": "8f65dcc2",
   "metadata": {},
   "outputs": [],
   "source": [
    "scan_clusters <- py$adata$obs[[scanpy_clustering_algorithm]]\n",
    "names(scan_clusters) <- scan_inds\n",
    "\n",
    "if (!identical(seu_inds, scan_inds)) {\n",
    "    seu_clusters <- seu_clusters[names(seu_clusters) %in% overlapping_inds]\n",
    "    scan_clusters <- scan_clusters[names(scan_clusters) %in% overlapping_inds]\n",
    "\n",
    "    cell_order <- names(seu_clusters)\n",
    "    scan_clusters <- scan_clusters[match(cell_order, names(scan_clusters))]\n",
    "}\n",
    "\n",
    "seu_clusters_vector <- as.vector(seu_clusters)\n",
    "scan_clusters_vector <- as.vector(scan_clusters)\n",
    "ari_value <- mclust::adjustedRandIndex(seu_clusters_vector, scan_clusters_vector)\n",
    "\n",
    "\n",
    "if (file_paths$pca_knn_clustering_umap_file != FALSE) {\n",
    "    sink(file_paths$pca_knn_clustering_umap_file, append = TRUE, split = TRUE)\n",
    "}\n",
    "\n",
    "print(glue(\"Adjusted Rand index between clusters: {ari_value}\"))\n",
    "\n",
    "if (file_paths$pca_knn_clustering_umap_file != FALSE) {\n",
    "    sink()\n",
    "}"
   ]
  },
  {
   "cell_type": "markdown",
   "id": "242f63ef",
   "metadata": {},
   "source": [
    "Heatmap of clusters"
   ]
  },
  {
   "cell_type": "code",
   "execution_count": null,
   "id": "15f157bc",
   "metadata": {},
   "outputs": [],
   "source": [
    "scan_clusters <- factor(scan_clusters, levels = sort(as.numeric(levels(scan_clusters))))\n",
    "\n",
    "jacc_seu_sc3 <- linkClustersMatrix(seu_clusters, scan_clusters)\n",
    "\n",
    "cluster_heatmap <- plot_heatmap(jacc_seu_sc3, ari_value, show_axis_titles = TRUE, show_trees = FALSE, save = file_paths$pheatmap)\n",
    "cluster_heatmap"
   ]
  },
  {
   "cell_type": "markdown",
   "id": "b66b3729",
   "metadata": {},
   "source": [
    "Alluvial plot of clusters"
   ]
  },
  {
   "cell_type": "code",
   "execution_count": null,
   "id": "73e756fd",
   "metadata": {},
   "outputs": [],
   "source": [
    "source(glue(\"{project_base_path}/scripts/data_analysis_helper.R\"))\n",
    "source(glue(\"{project_base_path}/scripts/plotting_and_stats.R\"))\n",
    "\n",
    "df <- tibble(\n",
    "    Seurat = seu_clusters,\n",
    "    Scanpy = scan_clusters\n",
    ")\n",
    "\n",
    "clus_df_gather <- get_alluvial_df(df)\n",
    "\n",
    "clus_df_gather <- clus_df_gather %>% mutate(\n",
    "    group1_column_original_clusters := as.numeric(as.character(.data[[\"Seurat\"]])),\n",
    "    group2_column_original_clusters := as.numeric(as.character(.data[[\"Scanpy\"]]))\n",
    ")\n",
    "\n",
    "clus_df_gather <- sort_clusters_by_agreement(clus_df_gather, stable_column = \"Seurat\", reordered_column = \"Scanpy\")\n",
    "\n",
    "alluvial_plot <- plot_alluvial(clus_df_gather, color_boxes = TRUE, color_bands = FALSE, save = file_paths$alluvial)\n",
    "alluvial_plot_legend <- plot_alluvial(clus_df_gather, color_boxes = TRUE, color_bands = TRUE, alluvial_alpha = 0.5, save = file_paths$alluvial_legend)\n",
    "# alluvial_plot_legend_high_alpha <- plot_alluvial(clus_df_gather, color_boxes = TRUE, color_bands = TRUE, alluvial_alpha = 1, save = file_paths$alluvial_legend_high_alpha)\n",
    "\n",
    "alluvial_plot\n",
    "alluvial_plot_legend"
   ]
  },
  {
   "cell_type": "markdown",
   "id": "21a5512f",
   "metadata": {},
   "source": [
    "Reorder Scanpy clusters to match ordering in alluvial"
   ]
  },
  {
   "cell_type": "code",
   "execution_count": null,
   "id": "471735e0",
   "metadata": {},
   "outputs": [],
   "source": [
    "unique_mapping <- clus_df_gather %>%\n",
    "    ungroup() %>%\n",
    "    select(!!sym(\"Scanpy\"), group2_column_original_clusters) %>%\n",
    "    distinct() %>%\n",
    "    arrange(group2_column_original_clusters)\n",
    "\n",
    "scanpy_clusters_df <- data.frame(cell_id = names(scan_clusters), group2_cluster = as.numeric(as.character(scan_clusters)))\n",
    "# scanpy_clusters_df <- data.frame(cell_id = scan2_inds, group2_cluster = as.numeric(as.character(py$adata2$obs[[scanpy_clustering_algorithm]])))\n",
    "\n",
    "mapped_data <- scanpy_clusters_df %>% left_join(unique_mapping, by = c(\"group2_cluster\" = \"group2_column_original_clusters\"))\n",
    "\n",
    "mapped_data[[\"Scanpy\"]] <- as.character(mapped_data[[\"Scanpy\"]])\n",
    "\n",
    "named_vector <- setNames(mapped_data[[\"Scanpy\"]], mapped_data$cell_id)\n",
    "\n",
    "scanpy_clusters_renumbered <- factor(named_vector)"
   ]
  },
  {
   "cell_type": "code",
   "execution_count": null,
   "id": "2abff223",
   "metadata": {},
   "outputs": [],
   "source": [
    "seu_cluster_data_original <- Idents(seu)\n",
    "scan_cluster_data_original <- py$adata$obs[[scanpy_clustering_algorithm]]"
   ]
  },
  {
   "cell_type": "markdown",
   "id": "9f06e61a",
   "metadata": {},
   "source": [
    "If data_input == \"seurat\": Apply cluster data from Seurat to Scanpy"
   ]
  },
  {
   "cell_type": "code",
   "execution_count": null,
   "id": "a746e8e2",
   "metadata": {},
   "outputs": [],
   "source": [
    "py_run_string('if data_input == \"seurat\" and (r.seu_inds == r.scan_inds):\n",
    "    adata.obs[r.scanpy_clustering_algorithm] = pd.Categorical(r.seu_clusters)')"
   ]
  },
  {
   "cell_type": "markdown",
   "id": "6b5f3d4e",
   "metadata": {},
   "source": [
    "If data_input == \"scanpy\": Apply cluster data from Scanpy to Seurat"
   ]
  },
  {
   "cell_type": "code",
   "execution_count": null,
   "id": "aeceee65",
   "metadata": {},
   "outputs": [],
   "source": [
    "if (data_input == \"scanpy\" && identical(seu_inds, scan_inds)) {\n",
    "    Idents(seu) <- scan_clusters\n",
    "    seu$seurat_clusters <- Idents(seu)\n",
    "}"
   ]
  },
  {
   "cell_type": "markdown",
   "id": "29bbe0f1",
   "metadata": {},
   "source": [
    "UMAP"
   ]
  },
  {
   "cell_type": "code",
   "execution_count": null,
   "id": "4db28fe7",
   "metadata": {},
   "outputs": [],
   "source": [
    "seu_umap_info <- RunUMAP(seu, dims = 1:seu_num_pcs, min.dist = seu_umap_min_dist, umap.method = seu_umap_method, seed.use = umap_seed_seu, metric = seu_umap_metric)\n",
    "# DimPlot(seu_umap_info, reduction = \"umap\") + scale_color_manual(values = ditto_colors)"
   ]
  },
  {
   "cell_type": "code",
   "execution_count": null,
   "id": "8c8f1820",
   "metadata": {},
   "outputs": [],
   "source": [
    "py_run_string('sc.tl.umap(adata, min_dist = r.scanpy_umap_min_dist, random_state = int(r.umap_seed_scan))\n",
    "# sc.pl.umap(adata, color=r.scanpy_clustering_algorithm, palette=r.ditto_colors, ax=ax, show=False, title=\"UMAP (Clustering)\")')"
   ]
  },
  {
   "cell_type": "markdown",
   "id": "ac6c2788",
   "metadata": {},
   "source": [
    "Plot UMAP"
   ]
  },
  {
   "cell_type": "code",
   "execution_count": null,
   "id": "2ae92225",
   "metadata": {},
   "outputs": [],
   "source": [
    "source(glue(\"{project_base_path}/scripts/plotting_and_stats.R\"))\n",
    "\n",
    "colors_group2 <- find_group2_colors(clus_df_gather, \"Seurat\", \"Scanpy\")\n",
    "\n",
    "umap_plots <- plot_umap(group1_umap_info = seu_umap_info$umap@cell.embeddings, group1_clusters = seu$seurat_clusters, group2_umap_info = py$adata$obsm[\"X_umap\"], group2_clusters = scanpy_clusters_renumbered, colors_group2 = colors_group2, save = c(file_paths$umap_seu, file_paths$umap_scan))\n",
    "seu_umap <- umap_plots[[1]]\n",
    "scan_umap <- umap_plots[[2]]\n",
    "\n",
    "seu_umap\n",
    "scan_umap\n",
    "\n",
    "\n",
    "# umap_plots_swapped_clusters <- plot_umap(group1_umap_info = seu_umap_info$umap@cell.embeddings, group1_clusters = scanpy_clusters_renumbered, group2_umap_info = py$adata$obsm[\"X_umap\"], group2_clusters = seu$seurat_clusters, colors_group1 = colors_group2, group1_title = \"Seurat UMAP with Scanpy clusters\", group2_title = \"Scanpy UMAP with Seurat clusters\", save = c(file_paths$umap_seu_clusters_scan, file_paths$umap_scan_clusters_seu))\n",
    "# seu_umap_scan_clusters <- umap_plots_swapped_clusters[[1]]\n",
    "# scan_umap_seu_clusters <- umap_plots_swapped_clusters[[2]]\n",
    "# \n",
    "# seu_umap_scan_clusters\n",
    "# scan_umap_seu_clusters"
   ]
  },
  {
   "cell_type": "markdown",
   "id": "9d669254",
   "metadata": {},
   "source": [
    "Compute KNN graph of UMAP space"
   ]
  },
  {
   "cell_type": "code",
   "execution_count": null,
   "id": "5eef70b3",
   "metadata": {},
   "outputs": [],
   "source": [
    "seu_umap_data <- seu_umap_info$umap@cell.embeddings\n",
    "scan_umap_data <- py$adata$obsm[\"X_umap\"]\n",
    "\n",
    "if (!all.equal(colnames(seu), as.vector(py$adata$obs_names$values))) {\n",
    "    seu_inds <- colnames(seu)\n",
    "    scan_inds <- as.vector(py$adata$obs_names$values)\n",
    "\n",
    "    rownames(scan_umap_data) <- scan_inds\n",
    "    scan_cluster_data_original <- setNames(scan_cluster_data_original, scan_inds)\n",
    "\n",
    "    overlapping_inds <- intersect(seu_inds, scan_inds)\n",
    "\n",
    "    seu_umap_data_filtered <- seu_umap_data[overlapping_inds, ]\n",
    "    seu_umap_data <- seu_umap_data_filtered[order(rownames(seu_umap_data_filtered)), ]\n",
    "\n",
    "    scan_umap_data_filtered <- scan_umap_data[overlapping_inds, ]\n",
    "    scan_umap_data <- scan_umap_data_filtered[order(rownames(scan_umap_data_filtered)), ]\n",
    "\n",
    "    seu_cluster_data_filtered <- seu_cluster_data_original[overlapping_inds]\n",
    "    seu_cluster_data_original <- seu_cluster_data_filtered[order(names(seu_cluster_data_filtered))]\n",
    "\n",
    "    scan_cluster_data_filtered <- scan_cluster_data_original[overlapping_inds]\n",
    "    scan_cluster_data_original <- scan_cluster_data_filtered[order(names(scan_cluster_data_filtered))]\n",
    "} else {\n",
    "    seu_cluster_data_filtered <- seu_cluster_data_original\n",
    "    scan_cluster_data_filtered <- scan_cluster_data_original\n",
    "}\n",
    "\n",
    "seu_umap_knn <- FNN::get.knn(seu_umap_data, k = umap_knn_k)\n",
    "scan_umap_knn <- FNN::get.knn(scan_umap_data, k = umap_knn_k)"
   ]
  },
  {
   "cell_type": "markdown",
   "id": "7dd4feeb",
   "metadata": {},
   "source": [
    "Find jaccard indices of KNN graphs from UMAP space"
   ]
  },
  {
   "cell_type": "code",
   "execution_count": null,
   "id": "c1782d43",
   "metadata": {},
   "outputs": [],
   "source": [
    "jaccards_all_cells <- calculate_knn_jaccards(seu_umap_knn$nn.index, scan_umap_knn$nn.index)\n",
    "\n",
    "median_jaccard_umap_knn <- median(jaccards_all_cells)\n",
    "\n",
    "if (file_paths$pca_knn_clustering_umap_file != FALSE) {\n",
    "    sink(file_paths$pca_knn_clustering_umap_file, append = TRUE, split = TRUE)\n",
    "}\n",
    "\n",
    "print(glue(\"Median jaccard of UMAP KNN: {median_jaccard_umap_knn}\"))\n",
    "\n",
    "if (file_paths$pca_knn_clustering_umap_file != FALSE) {\n",
    "    sink()\n",
    "}"
   ]
  },
  {
   "cell_type": "markdown",
   "id": "4932330a",
   "metadata": {},
   "source": [
    "Plot jaccard indices"
   ]
  },
  {
   "cell_type": "code",
   "execution_count": null,
   "id": "ce20f7ae",
   "metadata": {},
   "outputs": [],
   "source": [
    "jaccards_df <- data.frame(Cells = overlapping_inds, JaccardIndex = jaccards_all_cells, seu_clusters = seu_cluster_data_filtered, scan_clusters = scan_cluster_data_filtered)\n",
    "\n",
    "umap_jaccard_plot <- make_umap_jaccard_plot(jaccards_df, save = file_paths$umap_jaccard_knn_density)\n",
    "umap_jaccard_plot_seu_facet <- make_umap_jaccard_plot(jaccards_df, facet = \"seu_clusters\", save = file_paths$umap_jaccard_knn_density_seu_facet)\n",
    "umap_jaccard_plot_scan_facet <- make_umap_jaccard_plot(jaccards_df, facet = \"scan_clusters\", save = file_paths$umap_jaccard_knn_density_scan_facet)\n",
    "\n",
    "umap_jaccard_plot\n",
    "umap_jaccard_plot_seu_facet\n",
    "umap_jaccard_plot_scan_facet"
   ]
  },
  {
   "cell_type": "markdown",
   "id": "05ecf267",
   "metadata": {},
   "source": [
    "Run leiden clustering on KNN graphs from UMAP space"
   ]
  },
  {
   "cell_type": "code",
   "execution_count": null,
   "id": "d6ee1fb0",
   "metadata": {},
   "outputs": [],
   "source": [
    "withr::with_seed(umap_leiden_seed_seu, {seu_umap_knn_clusters <- bluster::clusterRows(seu_umap_data, NNGraphParam(shared = FALSE, BNPARAM = BiocNeighbors::KmknnParam(), k = umap_knn_k, cluster.fun = \"leiden\", cluster.args = list(resolution_parameter = umap_leiden_clustering_resolution, objective_function = \"modularity\", n_iterations = 2)))})\n",
    "\n",
    "withr::with_seed(umap_leiden_seed_scan, {scan_umap_knn_clusters <- bluster::clusterRows(scan_umap_data, NNGraphParam(shared = FALSE, BNPARAM = BiocNeighbors::KmknnParam(), k = umap_knn_k, cluster.fun = \"leiden\", cluster.args = list(resolution_parameter = umap_leiden_clustering_resolution, objective_function = \"modularity\", n_iterations = 2)))})\n",
    "\n",
    "seu_umap_knn_clusters <- reorder_clusters_descending(seu_umap_knn_clusters)\n",
    "scan_umap_knn_clusters <- reorder_clusters_descending(scan_umap_knn_clusters)"
   ]
  },
  {
   "cell_type": "markdown",
   "id": "58308d62",
   "metadata": {},
   "source": [
    "Compute ARI and plot alluvial plot of leiden clustering results on KNN graphs from UMAP space"
   ]
  },
  {
   "cell_type": "code",
   "execution_count": null,
   "id": "131efaed",
   "metadata": {},
   "outputs": [],
   "source": [
    "source(glue(\"{project_base_path}/scripts/data_analysis_helper.R\"))\n",
    "\n",
    "ari_value_umap <- mclust::adjustedRandIndex(as.vector(seu_umap_knn_clusters), as.vector(scan_umap_knn_clusters))\n",
    "\n",
    "if (file_paths$pca_knn_clustering_umap_file != FALSE) {\n",
    "    sink(file_paths$pca_knn_clustering_umap_file, append = TRUE, split = TRUE)\n",
    "}\n",
    "\n",
    "print(glue(\"Adjusted Rand index between UMAP clusters: {ari_value_umap}\"))\n",
    "\n",
    "if (file_paths$pca_knn_clustering_umap_file != FALSE) {\n",
    "    sink()\n",
    "}\n",
    "\n",
    "df_umap <- tibble(\n",
    "    Seurat = seu_umap_knn_clusters,\n",
    "    Scanpy = scan_umap_knn_clusters\n",
    ")\n",
    "\n",
    "clus_df_gather_umap <- get_alluvial_df(df_umap)\n",
    "\n",
    "clus_df_gather_umap <- clus_df_gather_umap %>% mutate(\n",
    "    group1_column_original_clusters := as.numeric(as.character(.data[[\"Seurat\"]])),\n",
    "    group2_column_original_clusters := as.numeric(as.character(.data[[\"Scanpy\"]]))\n",
    ")\n",
    "\n",
    "clus_df_gather_umap <- sort_clusters_by_agreement(clus_df_gather_umap, stable_column = \"Seurat\", reordered_column = \"Scanpy\")\n",
    "\n",
    "umap_alluvial_plot <- plot_alluvial(clus_df_gather_umap, color_boxes = TRUE, color_bands = FALSE, alluvial_alpha = 0.5, save = file_paths$umap_alluvial)\n",
    "umap_alluvial_plot_legend <- plot_alluvial(clus_df_gather_umap, color_boxes = TRUE, color_bands = TRUE, alluvial_alpha = 0.5, save = file_paths$umap_alluvial_legend)\n",
    "\n",
    "umap_alluvial_plot_legend"
   ]
  },
  {
   "cell_type": "markdown",
   "id": "8e712e21",
   "metadata": {},
   "source": [
    "Reorder Scanpy UMAP clusters to match ordering in alluvial"
   ]
  },
  {
   "cell_type": "code",
   "execution_count": null,
   "id": "1c4827a3",
   "metadata": {},
   "outputs": [],
   "source": [
    "unique_mapping <- clus_df_gather_umap %>%\n",
    "    ungroup() %>%\n",
    "    select(!!sym(\"Scanpy\"), group2_column_original_clusters) %>%\n",
    "    distinct() %>%\n",
    "    arrange(group2_column_original_clusters)\n",
    "\n",
    "scanpy_clusters_df <- data.frame(cell_id = overlapping_inds, group2_cluster = as.numeric(as.character(scan_umap_knn_clusters)))\n",
    "\n",
    "mapped_data <- scanpy_clusters_df %>% left_join(unique_mapping, by = c(\"group2_cluster\" = \"group2_column_original_clusters\"))\n",
    "\n",
    "mapped_data[[\"Scanpy\"]] <- as.character(mapped_data[[\"Scanpy\"]])\n",
    "\n",
    "named_vector <- setNames(mapped_data[[\"Scanpy\"]], mapped_data$cell_id)\n",
    "\n",
    "scanpy_clusters_renumbered_umap <- factor(named_vector)"
   ]
  },
  {
   "cell_type": "markdown",
   "id": "105529aa",
   "metadata": {},
   "source": [
    "UMAP with UMAP Leiden clusters"
   ]
  },
  {
   "cell_type": "code",
   "execution_count": null,
   "id": "69ebc61d",
   "metadata": {},
   "outputs": [],
   "source": [
    "colors_group2_umap <- find_group2_colors(clus_df_gather_umap, \"Seurat\", \"Scanpy\")\n",
    "\n",
    "seu_umap_knn_for_umap <- list(\"idx\" = seu_umap_knn$nn.index, \"dist\" = seu_umap_knn$nn.dist)\n",
    "scan_umap_knn_for_umap <- list(\"idx\" = scan_umap_knn$nn.index, \"dist\" = scan_umap_knn$nn.dist)\n",
    "\n",
    "withr::with_seed(umap_umap_seed_seu, {seu_umap_umap_data <- uwot::umap(seu_umap_data, n_neighbors = umap_knn_k, n_sgd_threads = 1, seed = as.integer(umap_umap_seed_seu), nn_method = seu_umap_knn_for_umap, ret_nn = FALSE)})\n",
    "withr::with_seed(umap_umap_seed_scan, {scan_umap_umap_data <- uwot::umap(scan_umap_data, n_neighbors = umap_knn_k, n_sgd_threads = 1, seed = as.integer(umap_umap_seed_scan), nn_method = scan_umap_knn_for_umap, ret_nn = FALSE)})\n",
    "\n",
    "umap_umap_plots <- plot_umap(group1_umap_info = seu_umap_umap_data, group1_clusters = seu_umap_knn_clusters, group2_umap_info = scan_umap_umap_data, group2_clusters = scanpy_clusters_renumbered_umap, colors_group2 = colors_group2_umap, group1 = \"Seurat\", group2 = \"Scanpy\", save = c(file_paths$umap_umap_leiden_seu, file_paths$umap_umap_leiden_scan))\n",
    "seu_umap_umap <- umap_umap_plots[[1]]\n",
    "scan_umap_umap <- umap_umap_plots[[2]]\n",
    "\n",
    "seu_umap_umap\n",
    "scan_umap_umap"
   ]
  },
  {
   "cell_type": "markdown",
   "id": "517fbb14",
   "metadata": {},
   "source": [
    "Find markers Seurat"
   ]
  },
  {
   "cell_type": "code",
   "execution_count": null,
   "id": "5d184cc4",
   "metadata": {},
   "outputs": [],
   "source": [
    "if (!file.exists(output_data_file_paths$markers)) {\n",
    "    if (analysis_methods == \"default\" || analysis_methods == \"seurat_like\") {\n",
    "        markers <- FindAllMarkers(seu)\n",
    "    } else if (analysis_methods == \"scanpy_like\") {\n",
    "        saveRDS(seu, file = output_data_file_paths$seu_object)\n",
    "        markers <- FindAllMarkers(seu, logfc.threshold = 0, min.pct = 0, return.thresh = 1.0001, min.cells.group = 1) # if this crashes R, then run comment this cell and the line below out and run seurat_scanpylike_de.R\n",
    "        markers$p_val_adj_bonferroni <- markers$p_val_adj\n",
    "        for (cluster_number in levels(Idents(seu))) {\n",
    "            cluster_markers <- subset(markers, cluster == cluster_number)\n",
    "            \n",
    "            adjusted_pvals <- p.adjust(cluster_markers$p_val, method = \"BH\", n = nrow(seu))\n",
    "            \n",
    "            markers <- markers %>% mutate(p_val_adj = ifelse(cluster == cluster_number, adjusted_pvals, p_val_adj))\n",
    "        }\n",
    "    }\n",
    "} else {\n",
    "    markers <- readRDS(output_data_file_paths$markers)\n",
    "}"
   ]
  },
  {
   "cell_type": "markdown",
   "id": "a5f2dedd",
   "metadata": {},
   "source": [
    "Find markers Scanpy"
   ]
  },
  {
   "cell_type": "code",
   "execution_count": null,
   "id": "4a399c3f",
   "metadata": {},
   "outputs": [],
   "source": [
    "py_run_string('return_pts = True\n",
    "sc.tl.rank_genes_groups(adata, r.scanpy_clustering_algorithm, use_raw=True, method=\\'wilcoxon\\', corr_method=r.scanpy_correction_method, pts = return_pts, tie_correct = r.scanpy_tie_correct)')"
   ]
  },
  {
   "cell_type": "code",
   "execution_count": null,
   "id": "463dc046",
   "metadata": {},
   "outputs": [],
   "source": [
    "num_clusters_scanpy <- length(levels(py$adata$obs[[scanpy_clustering_algorithm]]))"
   ]
  },
  {
   "cell_type": "code",
   "execution_count": null,
   "id": "901bd2df",
   "metadata": {},
   "outputs": [],
   "source": [
    "py_run_string('def create_rec_array(pts_df, number_of_clusters, adata):\n",
    "    cluster_order = sorted([str(i) for i in range(number_of_clusters)], key=lambda x: str(x))\n",
    "    \n",
    "    list_of_lists = []\n",
    "    \n",
    "    for a in range(len(adata.uns[\\'rank_genes_groups\\'][\\'names\\'])):\n",
    "        new_list = []\n",
    "        for cluster_number in range(number_of_clusters):\n",
    "            gene = adata.uns[\\'rank_genes_groups\\'][\\'names\\'][a][cluster_number]\n",
    "            pct = pts_df.loc[gene][cluster_order[cluster_number]]\n",
    "            new_list.append(pct)\n",
    "        list_of_lists.append(new_list)\n",
    "    \n",
    "    dtype = [(\\'field_{}\\'.format(i), float) for i in range(number_of_clusters)]\n",
    "    \n",
    "    pts_rec_array = np.empty(len(list_of_lists), dtype=dtype)\n",
    "    \n",
    "    for i, values in enumerate(list_of_lists):\n",
    "        # Create a tuple from the list of values\n",
    "        value_tuple = tuple(values)\n",
    "        # Assign this tuple to the i-th element of the structured array\n",
    "        pts_rec_array[i] = value_tuple\n",
    "    \n",
    "    return pts_rec_array\n",
    "\n",
    "if return_pts:\n",
    "    adata.uns[\\'rank_genes_groups\\'][\\'pts_rec_array\\'] = create_rec_array(adata.uns[\\'rank_genes_groups\\'][\\'pts\\'], r.num_clusters_scanpy, adata)\n",
    "    adata.uns[\\'rank_genes_groups\\'][\\'pts_rest_rec_array\\'] = create_rec_array(adata.uns[\\'rank_genes_groups\\'][\\'pts_rest\\'], r.num_clusters_scanpy, adata)')"
   ]
  },
  {
   "cell_type": "code",
   "execution_count": null,
   "id": "b057982b",
   "metadata": {},
   "outputs": [],
   "source": [
    "result <- get_py_de_results(\"adata\")\n",
    "\n",
    "if (py$return_pts) {\n",
    "    result$pts <- round(result$pts, 3)\n",
    "    result$pts_rest <- round(result$pts_rest, 3)\n",
    "}"
   ]
  },
  {
   "cell_type": "markdown",
   "id": "f1a5643a",
   "metadata": {},
   "source": [
    "Scanpy manual filtering if applying seurat-like filtering"
   ]
  },
  {
   "cell_type": "code",
   "execution_count": null,
   "id": "e9e5e67c",
   "metadata": {},
   "outputs": [],
   "source": [
    "if (analysis_methods == \"seurat_like\") {\n",
    "    result_unfiltered <- result\n",
    "\n",
    "    result <- result %>%\n",
    "        filter(!(pts < 0.01 & pts_rest < 0.01)) %>%\n",
    "        filter(!(abs(log_fc) < 0.1)) %>%\n",
    "        filter(p_value < 0.01) %>%\n",
    "        identity()\n",
    "    cat(\"Final number of rows in filtered:\", nrow(result), \"\\n\")\n",
    "}"
   ]
  },
  {
   "cell_type": "markdown",
   "id": "f558d9b2",
   "metadata": {},
   "source": [
    "Compare marker genes"
   ]
  },
  {
   "cell_type": "code",
   "execution_count": null,
   "id": "bb2c55a5",
   "metadata": {},
   "outputs": [],
   "source": [
    "# # Uncomment if running with scanpy_like methods and loading in markers after running seurat_scanpylike_de.R\n",
    "# if (analysis_methods == \"scanpy_like\") {\n",
    "#     markers <- readRDS(\"/workspace/analysis/seu_markers_after_de_scanlike.rds\")\n",
    "# }\n",
    "\n",
    "seu_filtered_markers <- markers %>%\n",
    "    filter(p_val_adj < 0.05)\n",
    "\n",
    "# vectorized_seu_unfiltered_markers <- unique(markers$gene)\n",
    "vectorized_seu_filtered_markers <- unique(seu_filtered_markers$gene)\n",
    "\n",
    "scan_filtered_markers <- result %>%\n",
    "    filter(p_value_adj < 0.05)\n",
    "\n",
    "vectorized_scan_filtered_markers <- unique(scan_filtered_markers$gene)\n",
    "\n",
    "markers_euler_genes_only <- make_euler_seurat_vs_scanpy(vectorized_seu_filtered_markers, vectorized_scan_filtered_markers, comparison = \"Marker Gene\", save_plot = file_paths$euler_after_qc_marker_genes_only, save_stats = file_paths$de_stats_file)\n",
    "markers_euler_genes_only\n",
    "\n",
    "upset_marker_gene_only <- make_upset_seurat_vs_scanpy(vectorized_seu_filtered_markers, vectorized_scan_filtered_markers, comparison = \"Marker Gene\", save = file_paths$upset_markers_genes_only)"
   ]
  },
  {
   "cell_type": "markdown",
   "id": "334e5693",
   "metadata": {},
   "source": [
    "Stop DE analysis if data input does not align (as without aligned cluster information, DE analysis is not meaningful)"
   ]
  },
  {
   "cell_type": "code",
   "execution_count": null,
   "id": "9e9dc1a2",
   "metadata": {},
   "outputs": [],
   "source": [
    "if (data_input == \"default\" || !identical(seu_inds, scan_inds)) {\n",
    "    if (save_data) {\n",
    "        saveRDS(markers, file = output_data_file_paths$markers)\n",
    "        saveRDS(result, file = output_data_file_paths$results_scan)\n",
    "        saveRDS(seu, file = output_data_file_paths$seu_object)\n",
    "        py$adata$write_h5ad(output_data_file_paths$scan_adata, compression = py$hdf5plugin$FILTERS$zstd)\n",
    "    }\n",
    "    sessionInfo()\n",
    "    stop(\"data_input == 'default' or cell sets not identical, so not running further DE analysis, which requires clusters to be in agreement.\")\n",
    "}"
   ]
  },
  {
   "cell_type": "markdown",
   "id": "f01f8d7c",
   "metadata": {},
   "source": [
    "Compare markers"
   ]
  },
  {
   "cell_type": "code",
   "execution_count": null,
   "id": "c92260c6",
   "metadata": {},
   "outputs": [],
   "source": [
    "# Select gene and cluster columns\n",
    "source(glue(\"{project_base_path}/scripts/plotting_and_stats.R\"))\n",
    "\n",
    "seu_markers_df <- markers %>% select(gene = gene, cluster = cluster)\n",
    "scan_markers_df <- result %>% select(gene = gene, cluster = cluster)\n",
    "\n",
    "vectorized_seu_markers <- paste(seu_markers_df$gene, seu_markers_df$cluster, sep = \"-\")\n",
    "vectorized_scan_markers <- paste(scan_markers_df$gene, scan_markers_df$cluster, sep = \"-\")\n",
    "\n",
    "markers_euler <- make_euler_seurat_vs_scanpy(vectorized_seu_markers, vectorized_scan_markers, comparison = \"Marker\", save_plot = file_paths$euler_after_qc_marker_file_path, save_stats = file_paths$de_stats_file)\n",
    "markers_euler\n",
    "\n",
    "upset_markers_all <- make_upset_seurat_vs_scanpy(vectorized_seu_markers, vectorized_scan_markers, comparison = \"Marker\", save = file_paths$upset_markers)"
   ]
  },
  {
   "cell_type": "markdown",
   "id": "75ccc8df",
   "metadata": {},
   "source": [
    "Combine all DE data in one dataframe markers2"
   ]
  },
  {
   "cell_type": "code",
   "execution_count": null,
   "id": "ac7f434f",
   "metadata": {},
   "outputs": [],
   "source": [
    "if (analysis_methods == \"seurat_like\") {\n",
    "    result <- result_unfiltered\n",
    "}\n",
    "\n",
    "markers2 <- markers |>\n",
    "    inner_join(result, by = c(\"cluster\", \"gene\"))\n",
    "\n",
    "markers2 <- markers2 |>\n",
    "    dplyr::rename(\n",
    "        p_val_r = p_val, logFC_r = avg_log2FC, p_val_adj_r = p_val_adj,\n",
    "        p_val_py = p_value, p_val_adj_py = p_value_adj,\n",
    "        logFC_py = log_fc, pct1_r = pct.1, pct1_py = pts, pct2_r = pct.2, pct2_py = pts_rest\n",
    "    )\n",
    "\n",
    "markers2 <- markers2 |>\n",
    "    mutate(cluster = factor(cluster, levels = as.character(seq_len(length(unique(cluster))) - 1)))\n",
    "\n",
    "markers2 <- markers2 |>\n",
    "    group_by(cluster) |>\n",
    "    mutate(rank_r = seq_along(gene))\n",
    "\n",
    "markers2$FC_r <- 2^markers2$logFC_r\n",
    "markers2$FC_py <- 2^markers2$logFC_py"
   ]
  },
  {
   "cell_type": "markdown",
   "id": "64e02411",
   "metadata": {},
   "source": [
    "Calculate mean magnitude of difference in log fold change between the 2 packages"
   ]
  },
  {
   "cell_type": "code",
   "execution_count": null,
   "id": "31612935",
   "metadata": {},
   "outputs": [],
   "source": [
    "markers2 <- calculate_de_stats(markers2, save = file_paths$de_stats_file)"
   ]
  },
  {
   "cell_type": "markdown",
   "id": "63ec90a1",
   "metadata": {},
   "source": [
    "Heatmap"
   ]
  },
  {
   "cell_type": "code",
   "execution_count": null,
   "id": "78d515a8",
   "metadata": {},
   "outputs": [],
   "source": [
    "# Plot heatmap\n",
    "markers %>%\n",
    "    group_by(cluster) %>%\n",
    "    dplyr::filter(avg_log2FC > 1) %>%\n",
    "    slice_head(n = 10) %>%\n",
    "    ungroup() -> top10\n",
    "DoHeatmap(seu, features = top10$gene, size = 4) + NoLegend() + theme(text = element_text(size = 4.5))"
   ]
  },
  {
   "cell_type": "markdown",
   "id": "2cc996e1",
   "metadata": {},
   "source": [
    "Plot scatterplots"
   ]
  },
  {
   "cell_type": "code",
   "execution_count": null,
   "id": "efa897cf",
   "metadata": {},
   "outputs": [],
   "source": [
    "markers2$p_val_adj_r[markers2$p_val_adj_r == 0] <- .Machine$double.xmin\n",
    "markers2$p_val_adj_py[markers2$p_val_adj_py == 0] <- .Machine$double.xmin\n",
    "\n",
    "seurat_vs_scanpy_logFC_scatterplot <- plot_scatterplot_de_logfc(markers2, ccc = markers2$CCC[1], save = file_paths$logFC_scatterplot_file_path, outliers_excluded = FALSE)\n",
    "seurat_vs_scanpy_pvaladj_scatterplot <- plot_scatterplot_de_wilcoxon(markers2, save = file_paths$wilcoxon_scatterplot_file_path, outliers_excluded = FALSE)\n",
    "\n",
    "seurat_vs_scanpy_logFC_scatterplot_with_legend <- plot_scatterplot_de_logfc(markers2, ccc = markers2$CCC[1], save = file_paths$logFC_scatterplot_file_path_with_legend, outliers_excluded = FALSE, show_legend = TRUE)\n",
    "\n",
    "seurat_vs_scanpy_logFC_scatterplot\n",
    "seurat_vs_scanpy_logFC_scatterplot_with_legend\n",
    "\n",
    "seurat_vs_scanpy_pvaladj_scatterplot"
   ]
  },
  {
   "cell_type": "markdown",
   "id": "4b2ecd1e",
   "metadata": {},
   "source": [
    "Save markers df, seu and scan objects"
   ]
  },
  {
   "cell_type": "code",
   "execution_count": null,
   "id": "67083606",
   "metadata": {},
   "outputs": [],
   "source": [
    "subset_markers2 <- markers2[, c(\"gene\", \"cluster\", \"logFC_py\", \"logFC_r\", \"p_val_adj_r\", \"p_val_adj_py\", \"logFC_difference_magnitude\", \"logFC_difference_signed\", \"pvaladj_difference_magnitude\", \"pvaladj_difference_signed\")]\n",
    "\n",
    "if (save_data) {\n",
    "    saveRDS(markers, file = output_data_file_paths$markers)\n",
    "    saveRDS(result, file = output_data_file_paths$results_scan)\n",
    "    saveRDS(subset_markers2, file = output_data_file_paths$markers2)\n",
    "    saveRDS(seu, file = output_data_file_paths$seu_object)\n",
    "    py$adata$write_h5ad(output_data_file_paths$scan_adata, compression = py$hdf5plugin$FILTERS$zstd)\n",
    "}"
   ]
  },
  {
   "cell_type": "code",
   "execution_count": null,
   "id": "39dfb11a",
   "metadata": {},
   "outputs": [],
   "source": [
    "sessionInfo()"
   ]
  }
 ],
 "metadata": {
  "language_info": {
   "name": "python"
  }
 },
 "nbformat": 4,
 "nbformat_minor": 5
}
