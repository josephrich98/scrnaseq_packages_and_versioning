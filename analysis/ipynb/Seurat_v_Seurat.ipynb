{
 "cells": [
  {
   "cell_type": "markdown",
   "id": "eed21569",
   "metadata": {},
   "source": [
    "---\n",
    "title: \"Seurat_v_Seurat\"\n",
    "output: html_document\n",
    "date: \"2024-01-01\"\n",
    "---\n",
    "\n",
    "Analysis settings"
   ]
  },
  {
   "cell_type": "code",
   "execution_count": null,
   "id": "ee1c7b26",
   "metadata": {},
   "outputs": [],
   "source": [
    "%%R\n",
    "data_input <- \"default\" # str[\"default\", \"seu1\", \"seu2\"]\n",
    "save_data <- TRUE\n",
    "\n",
    "seu1_name <- \"Full\"  # Must have no spaces\n",
    "seu2_name <- \"Downsampled_reads\"  # Must have no spaces\n",
    "\n",
    "# Input and output path specifications\n",
    "project_base_path <- dirname(getwd())  # also used for locating script files\n",
    "data_name <- \"SC3_v3_NextGem_SI_PBMC_10K\"  # str\n",
    "seurat_version <- \"5_0_2\"  # str (with _ in place of .)\n",
    "conda_env <- \"analysis_env\"\n",
    "R_random_seed <- 100 # including for cell downsampling  # also used for global R session seed and python seed\n",
    "\n",
    "seu1_matrix_generation_method <- \"kb\" # str[\"kb\", \"cellranger\"]  # also used for loading data\n",
    "seu1_matrix_generation_method_version <- \"0_28_0\"  # str (with _ in place of .)\n",
    "\n",
    "seu1_cell_fraction_after_downsampling <- \"1_0\" # fraction of cells after downsampling - any number from (0,1.0] (with _ in place of .)   # also used for performing cell downsampling\n",
    "seu1_read_fraction_after_downsampling <- \"1_0\" # fraction of reads after downsampling - any number from (0,1.0] (with _ in place of .)\n",
    "seu1_read_downsample_seed <- \"0\" # random seqtk seed for downsampling reads - 0 for no downsampling, integer >1 for downsampled seed\n",
    "\n",
    "\n",
    "seu2_matrix_generation_method <- \"kb\" # str[\"kb\", \"cellranger\"]  # also used for loading data\n",
    "seu2_matrix_generation_method_version <- \"0_28_0\"  # str (with _ in place of .)\n",
    "\n",
    "seu2_cell_fraction_after_downsampling <- \"1_0\" # fraction of cells after downsampling - any number from (0,1.0] (with _ in place of .)   # also used for performing cell downsampling\n",
    "seu2_read_fraction_after_downsampling <- \"1_0\" # fraction of reads after downsampling - any number from (0,1.0] (with _ in place of .)\n",
    "seu2_read_downsample_seed <- \"0\" # random seqtk seed for downsampling reads - 0 for no downsampling, integer >1 for downsampled seed\n",
    "\n",
    "seu1_data_path <- glue::glue(\"{project_base_path}/count_matrix_collection/{data_name}/{seu1_matrix_generation_method}{seu1_matrix_generation_method_version}/frac{seu1_read_fraction_after_downsampling}_seed{seu1_read_downsample_seed}\")\n",
    "seu2_data_path <- glue::glue(\"{project_base_path}/count_matrix_collection/{data_name}/{seu2_matrix_generation_method}{seu2_matrix_generation_method_version}/frac{seu2_read_fraction_after_downsampling}_seed{seu2_read_downsample_seed}\")\n",
    "\n",
    "\n",
    "# Specifications for downloading data\n",
    "doi <- \"AAAAA\"  # FILL IN\n",
    "data_path_root <- glue::glue(\"{project_base_path}/count_matrix_collection/{data_name}\")\n",
    "seu1_data_name_from_download <- glue::glue(\"{seu1_matrix_generation_method}{seu1_matrix_generation_method_version}_frac{seu1_read_fraction_after_downsampling}_seed{seu1_read_downsample_seed}\")\n",
    "seu2_data_name_from_download <- glue::glue(\"{seu2_matrix_generation_method}{seu2_matrix_generation_method_version}_frac{seu2_read_fraction_after_downsampling}_seed{seu2_read_downsample_seed}\")\n",
    "\n",
    "\n",
    "# Custom parameters\n",
    "seu1_inflection_UMI_manual <- NULL # number >=0; or NULL to have automatic selection, especially necessary for lower fracs (e.g., 30 for frac=0.02, 20 for frac=0.01)\n",
    "seu2_inflection_UMI_manual <- NULL # number >=0; or NULL to have automatic selection, especially necessary for lower fracs (e.g., 30 for frac=0.02, 20 for frac=0.01)\n",
    "\n",
    "seu1_min_cells <- 3\n",
    "seu1_min_features <- 200\n",
    "\n",
    "seu2_min_cells <- 3\n",
    "seu2_min_features <- 200\n",
    "\n",
    "max_pct_mct <- 20 # default 5\n",
    "seu1_num_pcs <- 50 # number 1-50; or NULL to select after elbow plot visualization\n",
    "seu2_num_pcs <- 50\n",
    "umap_knn_k <- 50\n",
    "umap_leiden_clustering_resolution <- 0.8\n",
    "\n",
    "pca_seed1 <- 42\n",
    "pca_seed2 <- 42\n",
    "clustering_seed1 <- 0\n",
    "clustering_seed2 <- 0\n",
    "umap_seed1 <- 42\n",
    "umap_seed2 <- 42\n",
    "\n",
    "dpi <- 300\n",
    "\n",
    "\n",
    "if (seu1_matrix_generation_method == seu2_matrix_generation_method && seu1_matrix_generation_method_version == seu2_matrix_generation_method_version) {\n",
    "    matrix_generation_method_full <- glue::glue(\"{seu1_matrix_generation_method}{seu1_matrix_generation_method_version}\")\n",
    "} else {\n",
    "    matrix_generation_method_full <- glue::glue(\"seu1_{seu1_matrix_generation_method}{seu1_matrix_generation_method_version}_vs_seu2_{seu2_matrix_generation_method}{seu2_matrix_generation_method_version}\")\n",
    "}\n",
    "\n",
    "cell_fraction_after_downsampling <- ifelse(seu1_cell_fraction_after_downsampling == seu2_cell_fraction_after_downsampling, seu1_cell_fraction_after_downsampling,\n",
    "    paste(\"seu1\", seu1_cell_fraction_after_downsampling, \"vs\", \"seu2\", seu2_cell_fraction_after_downsampling, sep = \"_\")\n",
    ")\n",
    "\n",
    "if (cell_fraction_after_downsampling != \"1_0\") {\n",
    "    cell_fraction_after_downsampling <- glue::glue(\"{cell_fraction_after_downsampling}_seed{R_random_seed}\")\n",
    "}\n",
    "\n",
    "read_fraction_after_downsampling <- ifelse(seu1_read_fraction_after_downsampling == seu2_read_fraction_after_downsampling, seu1_read_fraction_after_downsampling,\n",
    "    paste(\"seu1\", seu1_read_fraction_after_downsampling, \"vs\", \"seu2\", seu2_read_fraction_after_downsampling, sep = \"_\")\n",
    ")\n",
    "\n",
    "if (seu1_read_fraction_after_downsampling != \"1_0\") {\n",
    "    read_fraction_after_downsampling <- glue::glue(\"{read_fraction_after_downsampling}_seed{seu1_read_downsample_seed}\")\n",
    "}\n",
    "\n",
    "if (seu2_read_fraction_after_downsampling != \"1_0\") {\n",
    "    read_fraction_after_downsampling <- glue::glue(\"{read_fraction_after_downsampling}_seed{seu2_read_downsample_seed}\")\n",
    "}\n",
    "\n",
    "output_base_path <- glue::glue(\"{project_base_path}/output/{data_name}/seuratv{seurat_version}/input_{data_input}/{matrix_generation_method_full}/cell_fraction_{cell_fraction_after_downsampling}/read_fraction_{read_fraction_after_downsampling}\")"
   ]
  },
  {
   "cell_type": "markdown",
   "id": "9ec92c18",
   "metadata": {},
   "source": [
    "R Setting up variables"
   ]
  },
  {
   "cell_type": "code",
   "execution_count": null,
   "id": "d3cdd50e",
   "metadata": {},
   "outputs": [],
   "source": [
    "%%R\n",
    "set.seed(R_random_seed)\n",
    "seurat_group_names <- list(Seurat1 = seu1_name, Seurat2 = seu2_name)\n",
    "\n",
    "if ((seu1_read_fraction_after_downsampling != seu2_read_fraction_after_downsampling) || (seu1_cell_fraction_after_downsampling != seu2_cell_fraction_after_downsampling)) {\n",
    "    group1_color <- \"#FFCB57\"\n",
    "    group2_color <- \"#6C27CC\"\n",
    "} else {\n",
    "    group1_color <- \"#009E73\"\n",
    "    group2_color <- \"#CC79A7\"\n",
    "}"
   ]
  },
  {
   "cell_type": "markdown",
   "id": "2bbb3816",
   "metadata": {},
   "source": [
    "File path definitions"
   ]
  },
  {
   "cell_type": "code",
   "execution_count": null,
   "id": "d1759c0b",
   "metadata": {},
   "outputs": [],
   "source": [
    "%%R\n",
    "output_data_file_paths <- list(\n",
    "    markers_seu1 = glue::glue(\"{output_base_path}/data_files/markers_{seu1_name}.rds\"),\n",
    "    markers_seu2 = glue::glue(\"{output_base_path}/data_files/markers_{seu2_name}.rds\"),\n",
    "    markers2 = glue::glue(\"{output_base_path}/data_files/markers2.rds\"),\n",
    "    seu1_object = glue::glue(\"{output_base_path}/data_files/seu1.rds\"),\n",
    "    seu2_object = glue::glue(\"{output_base_path}/data_files/seu2.rds\")\n",
    ")\n",
    "\n",
    "# FALSE to have no save\n",
    "file_paths <- list(\n",
    "    filter_arguments = glue::glue(\"{output_base_path}/stats/filter_stats.txt\"),\n",
    "    euler_stats_after_QC_file = glue::glue(\"{output_base_path}/stats/euler_stats_afterQC.txt\"),\n",
    "    pca_knn_clustering_umap_file = glue::glue(\"{output_base_path}/stats/pca_knn_clustering_umap_stats.txt\"),\n",
    "    de_stats_file = glue::glue(\"{output_base_path}/stats/de_stats.txt\"),\n",
    "    \n",
    "    pre_filtering_upset_cell = FALSE, # glue::glue(\"{output_base_path}/plots/pre_filtering_upset_cell.tiff\"),\n",
    "    pre_filtering_upset_gene = FALSE, # glue::glue(\"{output_base_path}/plots/pre_filtering_upset_gene.tiff\"),\n",
    "    knee_plot1 = FALSE, # glue::glue(\"{output_base_path}/plots/knee_plot_{seu1_name}.tiff\"),\n",
    "    knee_plot2 = FALSE, # glue::glue(\"{output_base_path}/plots/knee_plot_{seu2_name}.tiff\"),\n",
    "    umi_scatterplot = glue::glue(\"{output_base_path}/plots/umi_scatterplot.tiff\"),\n",
    "    violin_counts_comparison = glue::glue(\"{output_base_path}/plots/violin_counts_comparison.tiff\"),\n",
    "    seu1_violin_file_path = FALSE, # glue::glue(\"{output_base_path}/plots/seu_{seu1_name}_violin_plot.tiff\"),\n",
    "    seu2_violin_file_path = FALSE, # glue::glue(\"{output_base_path}/plots/seu_{seu2_name}_violin_plot.tiff\"),\n",
    "\n",
    "    upset_cells = glue::glue(\"{output_base_path}/plots/upset_cells.tiff\"),\n",
    "    upset_genes = glue::glue(\"{output_base_path}/plots/upset_genes.tiff\"),\n",
    "    upset_hvgs = glue::glue(\"{output_base_path}/plots/upset_hvgs.tiff\"),\n",
    "    upset_markers_genes_only = glue::glue(\"{output_base_path}/plots/upset_marker_genes_only.tiff\"),\n",
    "    upset_markers = glue::glue(\"{output_base_path}/plots/upset_markers.tiff\"),\n",
    "    euler_before_qc_cell_file_path = FALSE, # glue::glue(\"{output_base_path}/plots/euler_cells_beforeQC.tiff\"),\n",
    "    euler_before_qc_gene_file_path = FALSE, # glue::glue(\"{output_base_path}/plots/euler_genes_beforeQC.tiff\"),\n",
    "\n",
    "    euler_after_qc_cell_file_path = FALSE, # glue::glue(\"{output_base_path}/plots/euler_cells_afterQC.tiff\"),\n",
    "    euler_after_qc_gene_file_path = FALSE, # glue::glue(\"{output_base_path}/plots/euler_genes_afterQC.tiff\"),\n",
    "    euler_after_qc_hvg_file_path = FALSE, # glue::glue(\"{output_base_path}/plots/euler_hvgs_afterQC.tiff\"),\n",
    "    euler_after_qc_marker_file_path = FALSE, # glue::glue(\"{output_base_path}/plots/euler_markers.tiff\"),\n",
    "    euler_after_qc_marker_manual_bonferroni_file_path = FALSE, # glue::glue(\"{output_base_path}/plots/euler_markers_manual_bonferroni.tiff\"),\n",
    "    euler_after_qc_marker_genes_only = FALSE, # glue::glue(\"{output_base_path}/plots/euler_markers_genes.tiff\"),\n",
    "\n",
    "    pca_elbow_filepath_combined = FALSE, # glue::glue(\"{output_base_path}/plots/pca_elbow_combined.tiff\"),\n",
    "    pca_12_overlay_filepath = glue::glue(\"{output_base_path}/plots/pca_scatterplot_12.tiff\"),\n",
    "    pca_34_overlay_filepath = FALSE, # glue::glue(\"{output_base_path}/plots/pca_scatterplot_34.tiff\"),\n",
    "    pca_loading_diffs = FALSE, # glue::glue(\"{output_base_path}/plots/pc_loading_diffs.tiff\"),\n",
    "    pca_eigs_diff = FALSE, # glue::glue(\"{output_base_path}/plots/pc_eig_diff.tiff\"),\n",
    "    pca_cluster_filepath_seu1 = FALSE, # glue::glue(\"{output_base_path}/plots/pca_scatterplot_clusters_seu_{seu1_name}.tiff\"),\n",
    "    pca_cluster_filepath_seu2 = FALSE, # glue::glue(\"{output_base_path}/plots/pca_scatterplot_clusters_seu_{seu2_name}.tiff\"),\n",
    "    combined_pc_variance_loadings_plot = glue::glue(\"{output_base_path}/plots/combined_pc_variance_loadings_plot.tiff\"),\n",
    "    jaccards = FALSE, # glue::glue(\"{output_base_path}/plots/jaccards.tiff\"),\n",
    "    knn_scatterplot = FALSE, # glue::glue(\"{output_base_path}/plots/knn_scatterplot.tiff\"),\n",
    "    jaccard_degree_scatterplot = glue::glue(\"{output_base_path}/plots/jaccard_degree_scatterplot.tiff\"),\n",
    "    pheatmap = FALSE, # glue::glue(\"{output_base_path}/plots/cluster_pheatmap.tiff\"),\n",
    "    alluvial = glue::glue(\"{output_base_path}/plots/cluster_alluvial.tiff\"),\n",
    "    alluvial_legend = glue::glue(\"{output_base_path}/plots/cluster_alluvial_legend.tiff\"),\n",
    "    alluvial_legend_high_alpha = FALSE, # glue::glue(\"{output_base_path}/plots/cluster_alluvial_legend_high_alpha.tiff\"),\n",
    "    umap_seu1 = glue::glue(\"{output_base_path}/plots/umap_seu_{seu1_name}.tiff\"),\n",
    "    umap_seu2 = glue::glue(\"{output_base_path}/plots/umap_seu_{seu2_name}.tiff\"),\n",
    "    umap_seu1_clusters_seu2 = FALSE, # glue::glue(\"{output_base_path}/plots/umap_seu_{seu1_name}_clusters_{seu2_name}.tiff\"),\n",
    "    umap_seu2_clusters_seu1 = FALSE, # glue::glue(\"{output_base_path}/plots/umap_seu_{seu2_name}_clusters_{seu1_name}.tiff\"),\n",
    "    umap_jaccard_degree_scatterplot = glue::glue(\"{output_base_path}/plots/umap_jaccard_degree_scatterplot.tiff\"),\n",
    "    umap_jaccard_knn_density = glue::glue(\"{output_base_path}/plots/umap_jaccard_knn_density.tiff\"),\n",
    "    umap_jaccard_knn_density_seu1_facet = glue::glue(\"{output_base_path}/plots/umap_jaccard_knn_density_seu1_facet.tiff\"),\n",
    "    umap_jaccard_knn_density_seu2_facet = glue::glue(\"{output_base_path}/plots/umap_jaccard_knn_density_seu2_facet.tiff\"),\n",
    "    umap_alluvial = glue::glue(\"{output_base_path}/plots/umap_alluvial.tiff\"),\n",
    "    umap_alluvial_legend = glue::glue(\"{output_base_path}/plots/umap_alluvial_legend.tiff\"),\n",
    "    umap_umap_leiden_seu1 = glue::glue(\"{output_base_path}/plots/umap_umap_leiden_seu1.tiff\"),\n",
    "    umap_umap_leiden_seu2 = glue::glue(\"{output_base_path}/plots/umap_umap_leiden_seu2.tiff\"),\n",
    "    logFC_histogram_magnitude_file_path = FALSE, # glue::glue(\"{output_base_path}/plots/logFC_histogram_magnitude.tiff\"),\n",
    "    logFC_histogram_signed_file_path = FALSE, # glue::glue(\"{output_base_path}/plots/logFC_histogram_signed.tiff\"),\n",
    "    wilcoxon_histogram_magnitude_file_path = FALSE, # glue::glue(\"{output_base_path}/plots/wilcoxon_histogram_magnitude.tiff\"),\n",
    "    wilcoxon_histogram_signed_file_path = FALSE, # glue::glue(\"{output_base_path}/plots/wilcoxon_histogram_signed.tiff\"),\n",
    "\n",
    "    logFC_scatterplot_file_path = glue::glue(\"{output_base_path}/plots/logFC_scatterplot.tiff\"),\n",
    "    wilcoxon_scatterplot_file_path = glue::glue(\"{output_base_path}/plots/wilcoxon_scatterplot.tiff\"),\n",
    "    logFC_scatterplot_file_path_with_legend = glue::glue(\"{output_base_path}/plots/logFC_scatterplot_with_legend.tiff\"),\n",
    "    logFC_scatterplot_outliers_removed_file_path = FALSE, # glue::glue(\"{output_base_path}/plots/logFC_scatterplot_no_outliers.tiff\"),\n",
    "    wilcoxon_scatterplot_outliers_removed_file_path = FALSE, # glue::glue(\"{output_base_path}/plots/wilcoxon_scatterplot_no_outliers.tiff\"),\n",
    "\n",
    "    logFC_boxplot_magnitude_file_path = FALSE, # glue::glue(\"{output_base_path}/plots/logFC_boxplot_magnitude.tiff\"),\n",
    "    logFC_boxplot_signed_file_path = FALSE, # glue::glue(\"{output_base_path}/plots/logFC_boxplot_signed.tiff\"),\n",
    "    wilcoxon_boxplot_magnitude_file_path = FALSE, # glue::glue(\"{output_base_path}/plots/wilcoxon_boxplot_magnitude.tiff\"),\n",
    "    wilcoxon_boxplot_signed_file_path = FALSE, # glue::glue(\"{output_base_path}/plots/wilcoxon_boxplot_signed.tiff\"),\n",
    "\n",
    "    FC_histogram_magnitude_file_path = FALSE, # glue::glue(\"{output_base_path}/plots/FC_histogram_magnitude.tiff\"),\n",
    "    FC_histogram_signed_file_path = FALSE # glue::glue(\"{output_base_path}/plots/FC_histogram_signed.tiff\")\n",
    ")\n",
    "\n",
    "if (save_data) {\n",
    "    for (path in output_data_file_paths) {\n",
    "        dir.create(dirname(path), recursive = TRUE, showWarnings = FALSE)\n",
    "    }\n",
    "        \n",
    "    for (path in file_paths) {\n",
    "        if (is.character(path)) {\n",
    "            # Extract the directory part of the path\n",
    "            specific_output_path <- dirname(path)\n",
    "\n",
    "            # Create the directory if it does not exist\n",
    "            if (!dir.exists(specific_output_path)) {\n",
    "                dir.create(specific_output_path, recursive = TRUE, showWarnings = FALSE)\n",
    "            }\n",
    "        }\n",
    "    }\n",
    "    \n",
    "    for (file in c(file_paths$euler_stats_after_QC_file, file_paths$pca_knn_clustering_umap_file, file_paths$de_stats_file)) {\n",
    "        if (is.character(file)) {\n",
    "            sink(file = file, append = FALSE)\n",
    "            sink()\n",
    "        }\n",
    "    }\n",
    "} else {\n",
    "    for (i in seq_along(file_paths)) {\n",
    "        file_paths[[i]] <- FALSE\n",
    "    }\n",
    "}"
   ]
  },
  {
   "cell_type": "markdown",
   "id": "3d818692",
   "metadata": {},
   "source": [
    "R Imports"
   ]
  },
  {
   "cell_type": "code",
   "execution_count": null,
   "id": "952acd48",
   "metadata": {},
   "outputs": [],
   "source": [
    "%%R\n",
    "Sys.setenv(RETICULATE_PYTHON = paste(\"/home/rstudio/.conda/envs\", conda_env, \"bin/python3.9\", sep = \"/\"))\n",
    "library(reticulate)\n",
    "use_condaenv(conda_env)\n",
    "library(Seurat)\n",
    "library(Matrix)\n",
    "library(tidyverse)\n",
    "library(patchwork)\n",
    "library(eulerr)\n",
    "library(scattermore)\n",
    "library(DropletUtils)\n",
    "library(glue)\n",
    "library(bluster)\n",
    "library(ggforce)\n",
    "library(ggplotify)\n",
    "library(grid)\n",
    "library(gtable)\n",
    "library(ggalluvial)\n",
    "theme_set(theme_bw(base_family = \"Arial\"))\n",
    "\n",
    "source(glue(\"{project_base_path}/scripts/data_analysis_helper.R\"))\n",
    "source(glue(\"{project_base_path}/scripts/plotting_and_stats.R\"))"
   ]
  },
  {
   "cell_type": "markdown",
   "id": "f32424b0",
   "metadata": {},
   "source": [
    "Set arguments for functions"
   ]
  },
  {
   "cell_type": "code",
   "execution_count": null,
   "id": "f92b14c9",
   "metadata": {},
   "outputs": [],
   "source": [
    "%%R\n",
    "seurat_hvg_flavor <- \"vst\"\n",
    "seu_mean_cutoff <- c(0.1, 8)\n",
    "seu_dispersion_cutoff <- c(1, Inf)\n",
    "seu_vars_to_regress <- NULL\n",
    "seurat_scale_max <- 10\n",
    "seu_n_neighbors <- 20\n",
    "seurat_clustering_algorithm <- \"louvain\"\n",
    "seu_resolution <- 0.8\n",
    "seu_umap_method <- \"uwot\"\n",
    "seu_umap_min_dist <- 0.5\n",
    "seu_umap_metric <- \"correlation\"\n",
    "# correction method = bonferroni"
   ]
  },
  {
   "cell_type": "markdown",
   "id": "504aa437",
   "metadata": {},
   "source": [
    "Download data if necessary"
   ]
  },
  {
   "cell_type": "code",
   "execution_count": null,
   "id": "78aa0dc1",
   "metadata": {},
   "outputs": [],
   "source": [
    "from scripts.download_data import *\n",
    "\n",
    "if not os.path.exists(r.seu1_data_path) or not os.listdir(r.seu1_data_path):\n",
    "    r.seu1_data_path = download_and_extract(r.doi, r.seu1_data_name_from_download, r.data_path_root, r.seu1_data_path)\n",
    "if not os.path.exists(r.seu2_data_path) or not os.listdir(r.seu2_data_path):\n",
    "    r.seu2_data_path = download_and_extract(r.doi, r.seu2_data_name_from_download, r.data_path_root, r.seu2_data_path)"
   ]
  },
  {
   "cell_type": "markdown",
   "id": "2228a5e8",
   "metadata": {},
   "source": [
    "Read the data into Seurat1 and create knee plot:"
   ]
  },
  {
   "cell_type": "code",
   "execution_count": null,
   "id": "18a20eb7",
   "metadata": {},
   "outputs": [],
   "source": [
    "%%R\n",
    "if (seu1_matrix_generation_method == \"kb\") {\n",
    "    res_mat1 <- read_count_output_modified(seu1_data_path, name = \"cells_x_genes\", tcc = FALSE)\n",
    "} else if (seu1_matrix_generation_method == \"cellranger\") {\n",
    "    res_mat1 <- Read10X(seu1_data_path, gene.column = 1)\n",
    "} else {\n",
    "    print(seu1_matrix_generation_method, \"is not a valid input for seu_matrix_generation_method\")\n",
    "}\n",
    "\n",
    "if (seu1_cell_fraction_after_downsampling != \"1_0\") {\n",
    "    total_cells <- ncol(res_mat1)\n",
    "    numeric_seu1_cell_fraction_after_downsampling <- gsub(\"_\", \".\", seu1_cell_fraction_after_downsampling) %>% as.numeric()\n",
    "    cells_to_sample <- round(total_cells * numeric_seu1_cell_fraction_after_downsampling)\n",
    "    sampled_cells <- sample(total_cells, cells_to_sample)\n",
    "    res_mat1 <- res_mat1[, sampled_cells]\n",
    "}\n",
    "\n",
    "tot_counts1 <- Matrix::colSums(res_mat1)\n",
    "bc_rank1 <- barcodeRanks(res_mat1)"
   ]
  },
  {
   "cell_type": "markdown",
   "id": "7cf8efbe",
   "metadata": {},
   "source": [
    "Knee plot"
   ]
  },
  {
   "cell_type": "code",
   "execution_count": null,
   "id": "cc682282",
   "metadata": {},
   "outputs": [],
   "source": [
    "%%R\n",
    "knee_plot1 <- make_knee_plot(bc_rank1, save = file_paths$knee_plot1)\n",
    "knee_plot1"
   ]
  },
  {
   "cell_type": "markdown",
   "id": "b7c9eba0",
   "metadata": {},
   "source": [
    "Select threshold for knee plot"
   ]
  },
  {
   "cell_type": "code",
   "execution_count": null,
   "id": "f7d04f40",
   "metadata": {},
   "outputs": [],
   "source": [
    "%%R\n",
    "if (!is.null(seu1_inflection_UMI_manual)) {\n",
    "    UMI_cutoff1 <- seu1_inflection_UMI_manual\n",
    "} else {\n",
    "    UMI_cutoff1 <- metadata(bc_rank1)$inflection\n",
    "}\n",
    "rank_at_inflection1 <- max(bc_rank1$rank[bc_rank1$total > UMI_cutoff1])"
   ]
  },
  {
   "cell_type": "markdown",
   "id": "8374d9f2",
   "metadata": {},
   "source": [
    "Apply filtering from knee plot"
   ]
  },
  {
   "cell_type": "code",
   "execution_count": null,
   "id": "6a086fde",
   "metadata": {},
   "outputs": [],
   "source": [
    "%%R\n",
    "res_mat_filtered1 <- res_mat1[, tot_counts1 > UMI_cutoff1]\n",
    "res_mat_filtered1 <- res_mat_filtered1[Matrix::rowSums(res_mat_filtered1) > 0, ]\n",
    "dim(res_mat_filtered1)\n",
    "seu1 <- CreateSeuratObject(counts = res_mat_filtered1, min.cells = seu1_min_cells, min.features = seu1_min_features)"
   ]
  },
  {
   "cell_type": "markdown",
   "id": "8a5169d2",
   "metadata": {},
   "source": [
    "Read the data into Seurat2 and create knee plot:"
   ]
  },
  {
   "cell_type": "code",
   "execution_count": null,
   "id": "90c36edf",
   "metadata": {},
   "outputs": [],
   "source": [
    "%%R\n",
    "if (seu2_matrix_generation_method == \"kb\") {\n",
    "    res_mat2 <- read_count_output_modified(seu2_data_path, name = \"cells_x_genes\", tcc = FALSE)\n",
    "} else if (seu2_matrix_generation_method == \"cellranger\") {\n",
    "    res_mat2 <- Read10X(seu2_data_path, gene.column = 1)\n",
    "} else {\n",
    "    print(seu2_matrix_generation_method, \"is not a valid input for seu_matrix_generation_method\")\n",
    "}\n",
    "\n",
    "if (seu2_cell_fraction_after_downsampling != \"1_0\") {\n",
    "    total_cells <- ncol(res_mat2)\n",
    "    numeric_seu2_cell_fraction_after_downsampling <- gsub(\"_\", \".\", seu2_cell_fraction_after_downsampling) %>% as.numeric()\n",
    "    cells_to_sample <- round(total_cells * numeric_seu2_cell_fraction_after_downsampling)\n",
    "    sampled_cells <- sample(total_cells, cells_to_sample)\n",
    "    res_mat2 <- res_mat2[, sampled_cells]\n",
    "}\n",
    "\n",
    "tot_counts2 <- Matrix::colSums(res_mat2)\n",
    "bc_rank2 <- barcodeRanks(res_mat2)"
   ]
  },
  {
   "cell_type": "markdown",
   "id": "978c4080",
   "metadata": {},
   "source": [
    "Knee plot"
   ]
  },
  {
   "cell_type": "code",
   "execution_count": null,
   "id": "2ec00155",
   "metadata": {},
   "outputs": [],
   "source": [
    "%%R\n",
    "knee_plot2 <- make_knee_plot(bc_rank2, save = file_paths$knee_plot2)\n",
    "knee_plot2"
   ]
  },
  {
   "cell_type": "markdown",
   "id": "dd3a2781",
   "metadata": {},
   "source": [
    "Select threshold for knee plot"
   ]
  },
  {
   "cell_type": "code",
   "execution_count": null,
   "id": "02a67430",
   "metadata": {},
   "outputs": [],
   "source": [
    "%%R\n",
    "if (!is.null(seu2_inflection_UMI_manual)) {\n",
    "    UMI_cutoff2 <- seu2_inflection_UMI_manual\n",
    "} else {\n",
    "    UMI_cutoff2 <- metadata(bc_rank2)$inflection\n",
    "}\n",
    "rank_at_inflection2 <- max(bc_rank2$rank[bc_rank2$total > UMI_cutoff2])"
   ]
  },
  {
   "cell_type": "markdown",
   "id": "a88be348",
   "metadata": {},
   "source": [
    "Apply filtering from knee plot"
   ]
  },
  {
   "cell_type": "code",
   "execution_count": null,
   "id": "22c1e4ff",
   "metadata": {},
   "outputs": [],
   "source": [
    "%%R\n",
    "res_mat_filtered2 <- res_mat2[, tot_counts2 > UMI_cutoff2]\n",
    "res_mat_filtered2 <- res_mat_filtered2[Matrix::rowSums(res_mat_filtered2) > 0, ]\n",
    "dim(res_mat_filtered2)\n",
    "seu2 <- CreateSeuratObject(counts = res_mat_filtered2, min.cells = seu2_min_cells, min.features = seu2_min_features)"
   ]
  },
  {
   "cell_type": "markdown",
   "id": "e584a52c",
   "metadata": {},
   "source": [
    "Record numbers used for filtering"
   ]
  },
  {
   "cell_type": "code",
   "execution_count": null,
   "id": "6a6eb862",
   "metadata": {},
   "outputs": [],
   "source": [
    "%%R\n",
    "if (is.character(file_paths$filter_arguments)) {\n",
    "    UMI_cutoff1_automatic_or_manual <- ifelse(is.null(seu1_inflection_UMI_manual), \"automatic\", \"manual\")\n",
    "    UMI_cutoff2_automatic_or_manual <- ifelse(is.null(seu2_inflection_UMI_manual), \"automatic\", \"manual\")\n",
    "    sink(file_paths$filter_arguments, append = FALSE, split = FALSE)\n",
    "    print(glue(\"UMI cutoff, seu1 ({seu1_name}): {UMI_cutoff1}\"))\n",
    "    print(glue(\"UMI cutoff automatic or manual, seu1 ({seu1_name}): {UMI_cutoff1_automatic_or_manual}\"))\n",
    "    print(glue(\"UMI cutoff, seu2 ({seu2_name}): {UMI_cutoff2}\"))\n",
    "    print(glue(\"UMI cutoff automatic or manual, seu2 ({seu2_name}): {UMI_cutoff2_automatic_or_manual}\"))\n",
    "    print(glue(\"Minimum cells per gene, seu1 ({seu1_name}): {seu1_min_cells}\"))\n",
    "    print(glue(\"Minimum cells per gene, seu2 ({seu2_name}): {seu2_min_cells}\"))\n",
    "    print(glue(\"Minimum genes per cell, seu1 ({seu1_name}): {seu1_min_features}\"))\n",
    "    print(glue(\"Minimum genes per cell, seu2 ({seu2_name}): {seu2_min_features}\"))\n",
    "    sink()\n",
    "}"
   ]
  },
  {
   "cell_type": "markdown",
   "id": "1f3c9b53",
   "metadata": {},
   "source": [
    "Upset plots before filtering by cells, genes, MT genes"
   ]
  },
  {
   "cell_type": "code",
   "execution_count": null,
   "id": "d31b94ca",
   "metadata": {},
   "outputs": [],
   "source": [
    "%%R\n",
    "# pre_filtering_upset_cell <- make_upset_seurat(group1 = res_mat1, group2 = res_mat2, comparison = \"Cell\", group_names = seurat_group_names, before_filtering = TRUE, as_ggplot = FALSE, save = file_paths$pre_filtering_upset_cell)xxx\n",
    "# pre_filtering_upset_gene <- make_upset_seurat(group1 = res_mat1, group2 = res_mat2, comparison = \"Gene\", group_names = seurat_group_names, before_filtering = TRUE, as_ggplot = FALSE, save = file_paths$pre_filtering_upset_gene)"
   ]
  },
  {
   "cell_type": "markdown",
   "id": "f8c46b82",
   "metadata": {},
   "source": [
    "Euler plots of cell, gene overlap before QC"
   ]
  },
  {
   "cell_type": "code",
   "execution_count": null,
   "id": "4811240a",
   "metadata": {},
   "outputs": [],
   "source": [
    "%%R\n",
    "# make_euler_seurat(seu1, seu2, comparison = \"Gene\", group_names = seurat_group_names, save_plot = file_paths$euler_after_qc_gene_file_path, save_stats = file_paths$euler_stats_before_QC_file, before_QC = TRUE)\n",
    "# make_euler_seurat(seu1, seu2, comparison = \"Cell\", group_names = seurat_group_names, save_plot = file_paths$euler_after_qc_gene_file_path,  save_stats = file_paths$euler_stats_before_QC_file, before_QC = TRUE)"
   ]
  },
  {
   "cell_type": "markdown",
   "id": "ce6fe34a",
   "metadata": {},
   "source": [
    "UMI scatterplot between the two groups  #*"
   ]
  },
  {
   "cell_type": "code",
   "execution_count": null,
   "id": "386d7c93",
   "metadata": {},
   "outputs": [],
   "source": [
    "%%R\n",
    "# umi_scatterplot <- make_umi_scatterplot(res_mat1 = res_mat1, res_mat2 = res_mat2, UMI_cutoff1 = UMI_cutoff1, UMI_cutoff2 = UMI_cutoff2, res_mat1_name = seurat_group_names$Seurat1, res_mat2_name = seurat_group_names$Seurat2, point_density = FALSE, color_points = FALSE, save = file_paths$umi_scatterplot) # set point_density = TRUE for finer-grained point density\n",
    "# umi_scatterplot"
   ]
  },
  {
   "cell_type": "markdown",
   "id": "aba6cede",
   "metadata": {},
   "source": [
    "Find list of mitochondrial Ensembl gene names"
   ]
  },
  {
   "cell_type": "code",
   "execution_count": null,
   "id": "f7de979b",
   "metadata": {},
   "outputs": [],
   "source": [
    "%%R\n",
    "# # ensembl <- biomaRt::useMart(\"ensembl\", dataset = \"hsapiens_gene_ensembl\")  # Service may be down on this mirror\n",
    "ensembl <- biomaRt::useEnsembl(biomart = \"ensembl\", dataset = \"hsapiens_gene_ensembl\", mirror = \"useast\")\n",
    "mt_genes <- biomaRt::getBM(attributes = c('ensembl_gene_id', 'external_gene_name'), filters = 'chromosome_name', values = 'MT', mart = ensembl)\n",
    "\n",
    "# mt_genes <- data.frame(ensembl_gene_id = c(\"ENSG00000210049\", \"ENSG00000211459\", \"ENSG00000210077\", \"ENSG00000210082\", \"ENSG00000209082\", \"ENSG00000198888\", \"ENSG00000210100\", \"ENSG00000210107\", \"ENSG00000210112\", \"ENSG00000198763\", \"ENSG00000210117\", \"ENSG00000210127\", \"ENSG00000210135\", \"ENSG00000210140\", \"ENSG00000210144\", \"ENSG00000198804\", \"ENSG00000210151\", \"ENSG00000210154\", \"ENSG00000198712\", \"ENSG00000210156\", \"ENSG00000228253\", \"ENSG00000198899\", \"ENSG00000198938\", \"ENSG00000210164\", \"ENSG00000198840\", \"ENSG00000210174\", \"ENSG00000212907\", \"ENSG00000198886\", \"ENSG00000210176\", \"ENSG00000210184\", \"ENSG00000210191\", \"ENSG00000198786\", \"ENSG00000198695\", \"ENSG00000210194\", \"ENSG00000198727\", \"ENSG00000210195\", \"ENSG00000210196\"))"
   ]
  },
  {
   "cell_type": "markdown",
   "id": "0fbee20e",
   "metadata": {},
   "source": [
    "QC Seurat1, Violin plots"
   ]
  },
  {
   "cell_type": "code",
   "execution_count": null,
   "id": "fde2836c",
   "metadata": {},
   "outputs": [],
   "source": [
    "%%R\n",
    "assay_gene_names1 <- rownames(seu1[[\"RNA\"]])\n",
    "assay_gene_names_trimmed1 <- gsub(\"\\\\..*\", \"\", assay_gene_names1)\n",
    "common_genes1 <- intersect(mt_genes$ensembl_gene_id, assay_gene_names_trimmed1)\n",
    "common_genes_with_version1 <- assay_gene_names1[match(common_genes1, assay_gene_names_trimmed1)]\n",
    "seu1[[\"pct_mt\"]] <- PercentageFeatureSet(seu1, features = common_genes_with_version1)\n",
    "\n",
    "violin_plot1 <- make_violin_plot(seu1, show_points = FALSE, color = group1_color, save = file_paths$seu1_violin_file_path)\n",
    "violin_plot1"
   ]
  },
  {
   "cell_type": "markdown",
   "id": "9645deef",
   "metadata": {},
   "source": [
    "QC Seurat2, Violin plots"
   ]
  },
  {
   "cell_type": "code",
   "execution_count": null,
   "id": "93ca6bf0",
   "metadata": {},
   "outputs": [],
   "source": [
    "%%R\n",
    "assay_gene_names2 <- rownames(seu2[[\"RNA\"]])\n",
    "assay_gene_names_trimmed2 <- gsub(\"\\\\..*\", \"\", assay_gene_names2)\n",
    "common_genes2 <- intersect(mt_genes$ensembl_gene_id, assay_gene_names_trimmed2)\n",
    "common_genes_with_version2 <- assay_gene_names2[match(common_genes2, assay_gene_names_trimmed2)]\n",
    "seu2[[\"pct_mt\"]] <- PercentageFeatureSet(seu2, features = common_genes_with_version2)\n",
    "\n",
    "violin_plot2 <- make_violin_plot(seu2, show_points = FALSE, color = group2_color, save = file_paths$seu2_violin_file_path)\n",
    "violin_plot2"
   ]
  },
  {
   "cell_type": "markdown",
   "id": "6aacdec2",
   "metadata": {},
   "source": [
    "Compare violin plots"
   ]
  },
  {
   "cell_type": "code",
   "execution_count": null,
   "id": "ebb2aae7",
   "metadata": {},
   "outputs": [],
   "source": [
    "%%R\n",
    "source(glue(\"{project_base_path}/scripts/plotting_and_stats.R\"))\n",
    "violin_features <- make_violin_nfeatures_seu(seu1, seu2, group1_name = seu1_name, group2_name = seu2_name, save = file_paths$violin_counts_comparison)\n",
    "violin_features"
   ]
  },
  {
   "cell_type": "markdown",
   "id": "60b81134",
   "metadata": {},
   "source": [
    "Filter high mito cells out of seu1, seu2"
   ]
  },
  {
   "cell_type": "code",
   "execution_count": null,
   "id": "230e9f5c",
   "metadata": {},
   "outputs": [],
   "source": [
    "%%R\n",
    "seu1 <- subset(seu1, pct_mt < max_pct_mct)\n",
    "seu2 <- subset(seu2, pct_mt < max_pct_mct)"
   ]
  },
  {
   "cell_type": "markdown",
   "id": "4f547d48",
   "metadata": {},
   "source": [
    "Euler plots of cell, gene overlap after QC"
   ]
  },
  {
   "cell_type": "code",
   "execution_count": null,
   "id": "9e676ba2",
   "metadata": {},
   "outputs": [],
   "source": [
    "%%R\n",
    "euler_cell_afterqc <- make_euler_seurat(seu1, seu2, comparison = \"Cell\", group_names = seurat_group_names, save_plot = file_paths$euler_after_qc_cell_file_path, save_stats = file_paths$euler_stats_after_QC_file)\n",
    "euler_gene_afterqc <- make_euler_seurat(seu1, seu2, comparison = \"Gene\", group_names = seurat_group_names, save_plot = file_paths$euler_after_qc_gene_file_path, save_stats = file_paths$euler_stats_after_QC_file)\n",
    "\n",
    "euler_cell_afterqc\n",
    "euler_gene_afterqc"
   ]
  },
  {
   "cell_type": "markdown",
   "id": "6c001fcb",
   "metadata": {},
   "source": [
    "Upset plots of cell, gene overlap after QC"
   ]
  },
  {
   "cell_type": "code",
   "execution_count": null,
   "id": "64b81187",
   "metadata": {},
   "outputs": [],
   "source": [
    "%%R\n",
    "source(glue(\"{project_base_path}/scripts/plotting_and_stats.R\"))\n",
    "upset_cell <- make_upset_seurat(group1 = seu1, group2 = seu2, comparison = \"Cell\", group_names = seurat_group_names, save = file_paths$upset_cells)\n",
    "upset_gene <- make_upset_seurat(group1 = seu1, group2 = seu2, comparison = \"Gene\", group_names = seurat_group_names, save = file_paths$upset_genes)"
   ]
  },
  {
   "cell_type": "markdown",
   "id": "92891cfa",
   "metadata": {},
   "source": [
    "Create cell and gene lists"
   ]
  },
  {
   "cell_type": "code",
   "execution_count": null,
   "id": "a46e667f",
   "metadata": {},
   "outputs": [],
   "source": [
    "%%R\n",
    "seu1_inds <- colnames(seu1)\n",
    "seu1_genes <- rownames(seu1)\n",
    "\n",
    "seu2_inds <- colnames(seu2)\n",
    "seu2_genes <- rownames(seu2)\n",
    "\n",
    "overlapping_inds <- intersect(seu1_inds, seu2_inds)\n",
    "overlapping_genes <- intersect(seu1_genes, seu2_genes)"
   ]
  },
  {
   "cell_type": "markdown",
   "id": "74b85f6b",
   "metadata": {},
   "source": [
    "If data_input == \"seu1\" or \"seu2\": Apply Cells and Genes to be the same for both objects"
   ]
  },
  {
   "cell_type": "code",
   "execution_count": null,
   "id": "ddd2a14d",
   "metadata": {},
   "outputs": [],
   "source": [
    "%%R\n",
    "if (data_input == \"seu1\") {\n",
    "    if (seu2_matrix_generation_method == \"kb\") {\n",
    "        res_mat2 <- read_count_output_modified(seu2_data_path, name = \"cells_x_genes\", unspliced = seu2_matrix_include_unspliced, tcc = FALSE)\n",
    "    } else if (seu2_matrix_generation_method == \"cellranger\") {\n",
    "        res_mat2 <- Read10X(seu2_data_path, gene.column = 1)\n",
    "    }\n",
    "\n",
    "    if (seu2_cell_fraction_after_downsampling != \"1_0\") {\n",
    "        res_mat2 <- res_mat2[, sampled_cells]\n",
    "        res_mat_filtered2 <- res_mat2[, tot_counts2 > UMI_cutoff2]\n",
    "\n",
    "        seu2 <- CreateSeuratObject(counts = res_mat_filtered2)\n",
    "        seu2 <- subset(seu2, features = seu1_genes)\n",
    "\n",
    "        assay_gene_names2 <- rownames(seu2[[\"RNA\"]])\n",
    "        assay_gene_names_trimmed2 <- gsub(\"\\\\..*\", \"\", assay_gene_names2)\n",
    "        common_genes2 <- intersect(mt_genes$ensembl_gene_id, assay_gene_names_trimmed2)\n",
    "        common_genes_with_version2 <- assay_gene_names2[match(common_genes2, assay_gene_names_trimmed2)]\n",
    "        seu2[[\"pct_mt\"]] <- PercentageFeatureSet(seu2, features = common_genes_with_version2)\n",
    "    } else {\n",
    "        # res_mat2 <- res_mat2[, tot_counts2 > UMI_cutoff2] # uncomment if wanting faster execution\n",
    "        seu2 <- CreateSeuratObject(counts = res_mat2)\n",
    "        seu2 <- subset(seu2, cells = seu1_inds, features = seu1_genes)\n",
    "        seu2[[\"pct_mt\"]] <- seu1[[\"pct_mt\"]]\n",
    "        if (length(colnames(seu1)) != length(colnames(seu2))) {\n",
    "            seu1 <- subset(seu1, cells = colnames(seu2))\n",
    "        }\n",
    "    }\n",
    "}\n",
    "\n",
    "\n",
    "if (data_input == \"seu2\") {\n",
    "    if (seu1_matrix_generation_method == \"kb\") {\n",
    "        res_mat1 <- read_count_output_modified(seu1_data_path, name = \"cells_x_genes\", unspliced = seu1_matrix_include_unspliced, tcc = FALSE)\n",
    "    } else if (seu1_matrix_generation_method == \"cellranger\") {\n",
    "        res_mat1 <- Read10X(seu1_data_path, gene.column = 1)\n",
    "    }\n",
    "\n",
    "    if (seu1_cell_fraction_after_downsampling != \"1_0\") {\n",
    "        res_mat1 <- res_mat1[, sampled_cells]\n",
    "        res_mat_filtered1 <- res_mat1[, tot_counts1 > UMI_cutoff1]\n",
    "\n",
    "        seu1 <- CreateSeuratObject(counts = res_mat_filtered1)\n",
    "        seu1 <- subset(seu1, features = seu2_genes)\n",
    "\n",
    "        assay_gene_names1 <- rownames(seu1[[\"RNA\"]])\n",
    "        assay_gene_names_trimmed1 <- gsub(\"\\\\..*\", \"\", assay_gene_names1)\n",
    "        common_genes1 <- intersect(mt_genes$ensembl_gene_id, assay_gene_names_trimmed1)\n",
    "        common_genes_with_version1 <- assay_gene_names1[match(common_genes1, assay_gene_names_trimmed1)]\n",
    "        seu1[[\"pct_mt\"]] <- PercentageFeatureSet(seu1, features = common_genes_with_version1)\n",
    "    } else {\n",
    "        # res_mat1 <- res_mat1[, tot_counts1 > UMI_cutoff1]   # uncomment if wanting faster execution\n",
    "        seu1 <- CreateSeuratObject(counts = res_mat1)\n",
    "        seu1 <- subset(seu1, cells = seu2_inds, features = seu2_genes)\n",
    "        seu1[[\"pct_mt\"]] <- seu2[[\"pct_mt\"]]\n",
    "        if (length(colnames(seu1)) != length(colnames(seu2))) {\n",
    "            seu2 <- subset(seu1, cells = colnames(seu1))\n",
    "        }\n",
    "    }\n",
    "}"
   ]
  },
  {
   "cell_type": "markdown",
   "id": "e668014e",
   "metadata": {},
   "source": [
    "If data_input is not default, then recompute cell and gene lists"
   ]
  },
  {
   "cell_type": "code",
   "execution_count": null,
   "id": "8fc7455e",
   "metadata": {},
   "outputs": [],
   "source": [
    "%%R\n",
    "if (data_input != \"default\") {\n",
    "    seu1_inds <- colnames(seu1)\n",
    "    seu1_genes <- rownames(seu1)\n",
    "\n",
    "    seu2_inds <- colnames(seu2)\n",
    "    seu2_genes <- rownames(seu2)\n",
    "\n",
    "    overlapping_inds <- intersect(seu1_inds, seu2_inds)\n",
    "    overlapping_genes <- intersect(seu1_genes, seu2_genes)\n",
    "\n",
    "    print(paste0(\"Cell vectors equal: \", all.equal(seu1_inds, seu2_inds)))\n",
    "    print(paste0(\"Gene vectors equal: \", all.equal(seu1_genes, seu2_genes)))\n",
    "}"
   ]
  },
  {
   "cell_type": "markdown",
   "id": "f2445f51",
   "metadata": {},
   "source": [
    "Normalization"
   ]
  },
  {
   "cell_type": "code",
   "execution_count": null,
   "id": "4b687933",
   "metadata": {},
   "outputs": [],
   "source": [
    "%%R\n",
    "FeatureScatter(seu1, feature1 = \"nCount_RNA\", feature2 = \"nFeature_RNA\")\n",
    "seu1 <- NormalizeData(seu1, verbose = FALSE)\n",
    "\n",
    "FeatureScatter(seu2, feature1 = \"nCount_RNA\", feature2 = \"nFeature_RNA\")\n",
    "seu2 <- NormalizeData(seu2, verbose = FALSE)"
   ]
  },
  {
   "cell_type": "markdown",
   "id": "a50ca17d",
   "metadata": {},
   "source": [
    "Check equivalency of normalization methods (assuming identical input)"
   ]
  },
  {
   "cell_type": "code",
   "execution_count": null,
   "id": "777cd3df",
   "metadata": {},
   "outputs": [],
   "source": [
    "%%R\n",
    "mat_r1 <- GetAssayData(seu1, \"RNA\")\n",
    "mat_r2 <- GetAssayData(seu2, \"RNA\")\n",
    "equal_after_normalization <- all.equal(mat_r1@x, mat_r2@x)\n",
    "\n",
    "if (file_paths$euler_stats_after_QC_file != FALSE) {\n",
    "    sink(file_paths$euler_stats_after_QC_file, split = TRUE, append = TRUE)\n",
    "}\n",
    "\n",
    "print(glue(\"Equal after normalization: {equal_after_normalization}\"))\n",
    "\n",
    "if (file_paths$euler_stats_after_QC_file != FALSE) {\n",
    "    sink()\n",
    "}"
   ]
  },
  {
   "cell_type": "markdown",
   "id": "01ff0676",
   "metadata": {},
   "source": [
    "Find HVGs"
   ]
  },
  {
   "cell_type": "code",
   "execution_count": null,
   "id": "02f2381b",
   "metadata": {},
   "outputs": [],
   "source": [
    "%%R\n",
    "seu1 <- FindVariableFeatures(seu1, verbose = FALSE, selection.method = seurat_hvg_flavor, mean.cutoff = seu_mean_cutoff, dispersion.cutoff = seu_dispersion_cutoff, nfeatures = 2000)\n",
    "\n",
    "top10_1 <- head(VariableFeatures(seu1), 10)\n",
    "LabelPoints(VariableFeaturePlot(seu1), points = top10_1, repel = TRUE)\n",
    "\n",
    "\n",
    "seu2 <- FindVariableFeatures(seu2, verbose = FALSE, selection.method = seurat_hvg_flavor, mean.cutoff = seu_mean_cutoff, dispersion.cutoff = seu_dispersion_cutoff, nfeatures = 2000)\n",
    "\n",
    "top10_2 <- head(VariableFeatures(seu2), 10)\n",
    "LabelPoints(VariableFeaturePlot(seu2), points = top10_2, repel = TRUE)"
   ]
  },
  {
   "cell_type": "markdown",
   "id": "875004cf",
   "metadata": {},
   "source": [
    "Euler plot of HVG overlap"
   ]
  },
  {
   "cell_type": "code",
   "execution_count": null,
   "id": "a51e4304",
   "metadata": {},
   "outputs": [],
   "source": [
    "%%R\n",
    "euler_hvg_afterqc <- make_euler_seurat(seu1, seu2, comparison = \"HVG\", group_names = seurat_group_names, save_plot = file_paths$euler_after_qc_hvg_file_path, save_stats = file_paths$euler_stats_after_QC_file)\n",
    "euler_hvg_afterqc\n",
    "\n",
    "upset_hvg <- make_upset_seurat(seu1, seu2, comparison = \"HVG\", group_names = seurat_group_names, save = file_paths$upset_hvgs)"
   ]
  },
  {
   "cell_type": "markdown",
   "id": "b9e8c192",
   "metadata": {},
   "source": [
    "If data_input == \"seu1\" or \"seu2\": Apply HVGs from to be the same"
   ]
  },
  {
   "cell_type": "code",
   "execution_count": null,
   "id": "1a1e94b6",
   "metadata": {},
   "outputs": [],
   "source": [
    "%%R\n",
    "if (data_input == \"seu2\") {\n",
    "    VariableFeatures(seu1) <- VariableFeatures(seu2)\n",
    "}\n",
    "\n",
    "if (data_input == \"seu1\") {\n",
    "    VariableFeatures(seu2) <- VariableFeatures(seu1)\n",
    "}"
   ]
  },
  {
   "cell_type": "markdown",
   "id": "a14b3c7e",
   "metadata": {},
   "source": [
    "Make a combined list of HVGs"
   ]
  },
  {
   "cell_type": "code",
   "execution_count": null,
   "id": "9ccfaddb",
   "metadata": {},
   "outputs": [],
   "source": [
    "%%R\n",
    "hvgs <- list(Seurat1 = VariableFeatures(seu1), Seurat2 = VariableFeatures(seu2))"
   ]
  },
  {
   "cell_type": "markdown",
   "id": "6d6661b8",
   "metadata": {},
   "source": [
    "Scaling +/- regression"
   ]
  },
  {
   "cell_type": "code",
   "execution_count": null,
   "id": "af711fdc",
   "metadata": {},
   "outputs": [],
   "source": [
    "%%R\n",
    "seu1 <- ScaleData(seu1, verbose = FALSE, scale.max = seurat_scale_max, vars.to.regress = seu_vars_to_regress)\n",
    "seu2 <- ScaleData(seu2, verbose = FALSE, scale.max = seurat_scale_max, vars.to.regress = seu_vars_to_regress)"
   ]
  },
  {
   "cell_type": "markdown",
   "id": "bd967972",
   "metadata": {},
   "source": [
    "PCA"
   ]
  },
  {
   "cell_type": "code",
   "execution_count": null,
   "id": "956d1fb7",
   "metadata": {},
   "outputs": [],
   "source": [
    "%%R\n",
    "seu1 <- RunPCA(seu1, npcs = 50, verbose = FALSE, seed.use = pca_seed1)\n",
    "seu1_elbow <- Seurat::ElbowPlot(seu1, 50)\n",
    "seu1_elbow\n",
    "\n",
    "if (is.null(seu1_num_pcs)) {\n",
    "    seu1_num_pcs <- 50 # optimize as needed\n",
    "}\n",
    "\n",
    "seu2 <- RunPCA(seu2, npcs = 50, verbose = FALSE, seed.use = pca_seed2)\n",
    "seu2_elbow <- Seurat::ElbowPlot(seu2, 50)\n",
    "seu2_elbow\n",
    "\n",
    "if (is.null(seu2_num_pcs)) {\n",
    "    seu2_num_pcs <- 50 # optimize as needed\n",
    "}"
   ]
  },
  {
   "cell_type": "markdown",
   "id": "16694b62",
   "metadata": {},
   "source": [
    "Scree plot"
   ]
  },
  {
   "cell_type": "code",
   "execution_count": null,
   "id": "3f62c5f7",
   "metadata": {},
   "outputs": [],
   "source": [
    "%%R\n",
    "tot_variance1 <- Misc(Reductions(seu1, \"pca\"))[[\"total.variance\"]]\n",
    "var_explained1 <- Stdev(seu1, reduction = \"pca\")^2 / tot_variance1\n",
    "\n",
    "tot_variance2 <- Misc(Reductions(seu2, \"pca\"))[[\"total.variance\"]]\n",
    "var_explained2 <- Stdev(seu2, reduction = \"pca\")^2 / tot_variance2\n",
    "\n",
    "eigs_df <- tibble(\n",
    "    Seurat1 = var_explained1,\n",
    "    Seurat2 = var_explained2,\n",
    "    PC = 1:50\n",
    ")"
   ]
  },
  {
   "cell_type": "code",
   "execution_count": null,
   "id": "d75e52bb",
   "metadata": {},
   "outputs": [],
   "source": [
    "%%R\n",
    "combined_pc_variance <- plot_var_explained(eigs_df, npcs = 50, group_names = unlist(seurat_group_names), save = file_paths$pca_elbow_filepath_combined)\n",
    "combined_pc_variance"
   ]
  },
  {
   "cell_type": "markdown",
   "id": "7a3ae538",
   "metadata": {},
   "source": [
    "PCA scatterplot"
   ]
  },
  {
   "cell_type": "code",
   "execution_count": null,
   "id": "11d2d72e",
   "metadata": {},
   "outputs": [],
   "source": [
    "%%R\n",
    "PCAPlot(seu1) + theme(legend.position = \"none\") + ggtitle(glue(\"PCA, seu {seu1_name}\")) # cols = \"#D55E00\"\n",
    "PCAPlot(seu2) + theme(legend.position = \"none\") + ggtitle(glue(\"PCA, seu {seu2_name}\")) # cols = \"#56B4E9\""
   ]
  },
  {
   "cell_type": "markdown",
   "id": "f9b9392d",
   "metadata": {},
   "source": [
    "Create a collection of PCA embeddings"
   ]
  },
  {
   "cell_type": "code",
   "execution_count": null,
   "id": "3a2dc0de",
   "metadata": {},
   "outputs": [],
   "source": [
    "%%R\n",
    "pca_embeddings1 <- Embeddings(seu1, reduction = \"pca\")\n",
    "pca_embeddings2 <- Embeddings(seu2, reduction = \"pca\")\n",
    "\n",
    "all.equal(pca_embeddings1, pca_embeddings2)"
   ]
  },
  {
   "cell_type": "markdown",
   "id": "296e8825",
   "metadata": {},
   "source": [
    "Overlay PCA scatterplots"
   ]
  },
  {
   "cell_type": "code",
   "execution_count": null,
   "id": "10df1161",
   "metadata": {},
   "outputs": [],
   "source": [
    "%%R\n",
    "source(glue(\"{project_base_path}/scripts/plotting_and_stats.R\"))\n",
    "source(glue(\"{project_base_path}/scripts/data_analysis_helper.R\"))\n",
    "\n",
    "if (!identical(seu1_inds, seu2_inds)) {\n",
    "    pca_embeddings1 <- pca_embeddings1[rownames(pca_embeddings1) %in% overlapping_inds, ]\n",
    "    pca_embeddings2 <- pca_embeddings2[rownames(pca_embeddings2) %in% overlapping_inds, ]\n",
    "    \n",
    "    pca_embeddings2 <- pca_embeddings2[match(rownames(pca_embeddings1), rownames(pca_embeddings2)), ]\n",
    "}\n",
    "\n",
    "pca12_plot <- plot_pca_compare(pca_embeddings1, pca_embeddings2, group1_name = \"Seurat1\", group2_name = \"Seurat2\", group_labels = unlist(seurat_group_names), save = file_paths$pca_12_overlay_filepath)\n",
    "pca34_plot <- plot_pca_compare(pca_embeddings1, pca_embeddings2, group1_name = \"Seurat1\", group2_name = \"Seurat2\", group_labels = unlist(seurat_group_names), pcs = 3:4, save = file_paths$pca_34_overlay_filepath)\n",
    "\n",
    "pca12_plot\n",
    "pca34_plot"
   ]
  },
  {
   "cell_type": "markdown",
   "id": "dd1de394",
   "metadata": {},
   "source": [
    "Plot PCA eigenvectors (loadings), eigenvalues"
   ]
  },
  {
   "cell_type": "code",
   "execution_count": null,
   "id": "ecb36ae2",
   "metadata": {},
   "outputs": [],
   "source": [
    "%%R\n",
    "pca_loadings_seu1 <- Loadings(seu1, reduction = \"pca\")\n",
    "pca_loadings_seu2 <- Loadings(seu2, reduction = \"pca\")\n",
    "\n",
    "df_loadings <- make_pc_diffs_df(list(\n",
    "    Seurat1 = pca_loadings_seu1,\n",
    "    Seurat2 = pca_loadings_seu2\n",
    "), npcs = 50)\n",
    "\n",
    "mean_loadings_diff <- mean(df_loadings$differences[1:3])\n",
    "\n",
    "if (file_paths$pca_knn_clustering_umap_file != FALSE) {\n",
    "    sink(file_paths$pca_knn_clustering_umap_file, split = TRUE, append = TRUE)\n",
    "}\n",
    "\n",
    "print(glue(\"Mean loading difference of PC1-3: {mean_loadings_diff}\"))\n",
    "\n",
    "if (file_paths$pca_knn_clustering_umap_file != FALSE) {\n",
    "    sink()\n",
    "}\n",
    "\n",
    "mylist <- list(\n",
    "    Seurat1 = pca_loadings_seu1,\n",
    "    Seurat2 = pca_loadings_seu2\n",
    ")\n",
    "\n",
    "loading_diffs <- plot_loading_diffs(df_loadings, save = file_paths$pca_loading_diffs)\n",
    "\n",
    "df_eigs <- tibble(\n",
    "    `Seurat1 vs. Seurat2` = abs(var_explained1 - var_explained2),\n",
    "    PC = 1:50\n",
    ")\n",
    "\n",
    "df_eigs <- df_eigs |>\n",
    "    pivot_longer(-PC, names_to = \"type\", values_to = \"value\")\n",
    "\n",
    "eigs_diff <- plot_eigs_diffs(df_eigs, save = file_paths$pca_eigs_diff)\n",
    "\n",
    "loading_diffs\n",
    "eigs_diff"
   ]
  },
  {
   "cell_type": "markdown",
   "id": "f34fa01c",
   "metadata": {},
   "source": [
    "Combine scree plot and eigenvector plot"
   ]
  },
  {
   "cell_type": "code",
   "execution_count": null,
   "id": "ccfd8d8c",
   "metadata": {},
   "outputs": [],
   "source": [
    "%%R\n",
    "combined_plot <- make_combined_pc_variance_loadings_plot(combined_pc_variance, loading_diffs, save = file_paths$combined_pc_variance_loadings_plot)\n",
    "combined_plot"
   ]
  },
  {
   "cell_type": "markdown",
   "id": "edc7d66c",
   "metadata": {},
   "source": [
    "If data_input == \"seu1\" or \"seu2\": Apply PCs to be the same"
   ]
  },
  {
   "cell_type": "code",
   "execution_count": null,
   "id": "814f337d",
   "metadata": {},
   "outputs": [],
   "source": [
    "%%R\n",
    "if (data_input == \"seu1\" && identical(seu1_inds, seu2_inds)) {\n",
    "    seu2[[\"pca\"]] <- CreateDimReducObject(embeddings = as.matrix(Embeddings(seu1, reduction = \"pca\")), key = \"PC_\", assay = DefaultAssay(seu1))\n",
    "    seu2[[\"pca\"]]@feature.loadings <- pca_loadings_seu1\n",
    "}\n",
    "\n",
    "if (data_input == \"seu2\" && identical(seu1_inds, seu2_inds)) {\n",
    "    seu1[[\"pca\"]] <- CreateDimReducObject(embeddings = as.matrix(Embeddings(seu2, reduction = \"pca\")), key = \"PC_\", assay = DefaultAssay(seu2))\n",
    "    seu1[[\"pca\"]]@feature.loadings <- pca_loadings_seu2\n",
    "}"
   ]
  },
  {
   "cell_type": "markdown",
   "id": "7252f0f9",
   "metadata": {},
   "source": [
    "Neighbors"
   ]
  },
  {
   "cell_type": "code",
   "execution_count": null,
   "id": "955d1dd3",
   "metadata": {},
   "outputs": [],
   "source": [
    "%%R\n",
    "seu1 <- FindNeighbors(seu1, reduction = \"pca\", dims = 1:seu1_num_pcs, k.param = seu_n_neighbors)\n",
    "snn_graph_seu1 <- seu1@graphs$RNA_snn\n",
    "knn_graph_seu1 <- seu1@graphs$RNA_nn\n",
    "\n",
    "seu2 <- FindNeighbors(seu2, reduction = \"pca\", dims = 1:seu2_num_pcs, k.param = seu_n_neighbors)\n",
    "snn_graph_seu2 <- seu2@graphs$RNA_snn\n",
    "knn_graph_seu2 <- seu2@graphs$RNA_nn"
   ]
  },
  {
   "cell_type": "markdown",
   "id": "b4a67fdd",
   "metadata": {},
   "source": [
    "Plot SNN graph jaccard indices (ie similarity of neighborhoods) and degrees (ie size of neighborhoods)"
   ]
  },
  {
   "cell_type": "code",
   "execution_count": null,
   "id": "fb449932",
   "metadata": {},
   "outputs": [],
   "source": [
    "%%R\n",
    "seu_snn_b1 <- snn_graph_seu1 > 0\n",
    "seu_snn_b2 <- snn_graph_seu2 > 0\n",
    "\n",
    "if (!identical(seu1_inds, seu2_inds)) {\n",
    "    seu_snn_b1 <- seu_snn_b1[overlapping_inds, overlapping_inds]\n",
    "    seu_snn_b2 <- seu_snn_b2[overlapping_inds, overlapping_inds]\n",
    "}\n",
    "\n",
    "seu1_list <- mat2list(seu_snn_b1)\n",
    "seu2_list <- mat2list(seu_snn_b2)\n",
    "\n",
    "jaccards <- find_jaccards(list(Seurat1 = seu1_list, Seurat2 = seu2_list))\n",
    "\n",
    "median_jaccard <- median(jaccards$Jaccard)\n",
    "\n",
    "jaccard_plot <- make_jaccard_plot(jaccards, median_jaccard, save = file_paths$jaccards)\n",
    "\n",
    "jaccard_plot\n",
    "\n",
    "nei_sizes <- tibble(\n",
    "    Seurat1 = lengths(seu1_list),\n",
    "    Seurat2 = lengths(seu2_list)\n",
    ")\n",
    "\n",
    "nei_pairs <- make_pairwise_df(nei_sizes)\n",
    "\n",
    "knn_scatterplot <- make_knn_scatterplot(nei_pairs, save = file_paths$knn_scatterplot)\n",
    "\n",
    "knn_scatterplot\n",
    "\n",
    "jaccards$degree_ratio <- nei_pairs$value1 / nei_pairs$value2\n",
    "jaccards$logged_degree_ratio <- log(jaccards$degree_ratio, base = 2)\n",
    "\n",
    "jaccards$logged_degree_ratio[jaccards$logged_degree_ratio == -Inf] <- -10\n",
    "jaccards$logged_degree_ratio[jaccards$logged_degree_ratio == Inf] <- 10\n",
    "\n",
    "jaccards$jaccard_logged <- log(jaccards$Jaccard, base = 2)\n",
    "\n",
    "median_magnitude_logged_degree_ratio <- median(abs(jaccards$logged_degree_ratio))\n",
    "\n",
    "if (file_paths$pca_knn_clustering_umap_file != FALSE) {\n",
    "    sink(file_paths$pca_knn_clustering_umap_file, append = TRUE, split = TRUE)\n",
    "}\n",
    "\n",
    "print(glue(\"Median jaccard of SNN: {median_jaccard}\"))\n",
    "print(glue(\"Median magnitude of log degree ratio of SNN: {median_magnitude_logged_degree_ratio}\"))\n",
    "\n",
    "if (file_paths$pca_knn_clustering_umap_file != FALSE) {\n",
    "    sink()\n",
    "}"
   ]
  },
  {
   "cell_type": "markdown",
   "id": "b2bc1aa7",
   "metadata": {},
   "source": [
    "Combine jaccard indices and degree ratios into a single plot"
   ]
  },
  {
   "cell_type": "code",
   "execution_count": null,
   "id": "27531b45",
   "metadata": {},
   "outputs": [],
   "source": [
    "%%R\n",
    "jaccard_degree_scatterplot <- make_snn_jaccard_degree_scatterplot(jaccards, save = file_paths$jaccard_degree_scatterplot)\n",
    "jaccard_degree_scatterplot"
   ]
  },
  {
   "cell_type": "markdown",
   "id": "be9b5d77",
   "metadata": {},
   "source": [
    "If data_input == \"seu1\" or \"seu2\": Apply KNN and SNN graph to be the same"
   ]
  },
  {
   "cell_type": "code",
   "execution_count": null,
   "id": "e1d604a7",
   "metadata": {},
   "outputs": [],
   "source": [
    "%%R\n",
    "if (data_input == \"seu1\" && identical(seu1_inds, seu2_inds)) {\n",
    "    seu2@graphs$RNA_snn <- seu1@graphs$RNA_snn\n",
    "    seu2@graphs$RNA_nn <- seu1@graphs$RNA_nn\n",
    "    snn_graph_seu2 <- seu2@graphs$RNA_nn\n",
    "    knn_graph_seu2 <- seu2@graphs$RNA_nn\n",
    "}\n",
    "\n",
    "if (data_input == \"seu2\" && identical(seu1_inds, seu2_inds)) {\n",
    "    seu1@graphs$RNA_snn <- seu2@graphs$RNA_snn\n",
    "    seu1@graphs$RNA_nn <- seu2@graphs$RNA_nn\n",
    "    snn_graph_seu1 <- seu1@graphs$RNA_nn\n",
    "    knn_graph_seu1 <- seu1@graphs$RNA_nn\n",
    "}"
   ]
  },
  {
   "cell_type": "markdown",
   "id": "a4297487",
   "metadata": {},
   "source": [
    "Clustering"
   ]
  },
  {
   "cell_type": "code",
   "execution_count": null,
   "id": "839b19e8",
   "metadata": {},
   "outputs": [],
   "source": [
    "%%R\n",
    "if (seurat_clustering_algorithm == \"louvain\") {\n",
    "    seurat_clustering_algorithm <- 1\n",
    "} else if (seurat_clustering_algorithm == \"leiden\") {\n",
    "    seurat_clustering_algorithm <- 4\n",
    "}\n",
    "\n",
    "seu1 <- FindClusters(seu1, verbose = FALSE, algorithm = seurat_clustering_algorithm, resolution = seu_resolution, random.seed = clustering_seed1)\n",
    "seu1_clusters <- Idents(seu1)\n",
    "\n",
    "seu2 <- FindClusters(seu2, verbose = FALSE, algorithm = seurat_clustering_algorithm, resolution = seu_resolution, random.seed = clustering_seed2)\n",
    "seu2_clusters <- Idents(seu2)"
   ]
  },
  {
   "cell_type": "markdown",
   "id": "17005867",
   "metadata": {},
   "source": [
    "PCA scatterplots with clusters"
   ]
  },
  {
   "cell_type": "code",
   "execution_count": null,
   "id": "fd122856",
   "metadata": {},
   "outputs": [],
   "source": [
    "%%R\n",
    "new_cluster_pca1 <- DimPlot(seu1, label = TRUE, group.by = \"seurat_clusters\", label.size = 3) + scale_color_manual(values = ditto_colors) + ggtitle(glue(\"PCA with clusters, seu {seu1_name}\"))\n",
    "new_cluster_pca1\n",
    "\n",
    "new_cluster_pca2 <- DimPlot(seu2, label = TRUE, group.by = \"seurat_clusters\", label.size = 3) + scale_color_manual(values = ditto_colors) + ggtitle(glue(\"PCA with clusters, seu {seu1_name}\"))\n",
    "new_cluster_pca2\n",
    "\n",
    "if (file_paths$pca_cluster_filepath_seu1 != FALSE) {\n",
    "    ggsave(file_paths$pca_cluster_filepath_seu1, plot = new_cluster_pca1, dpi = dpi_color)\n",
    "}\n",
    "\n",
    "if (file_paths$pca_cluster_filepath_seu2 != FALSE) {\n",
    "    ggsave(file_paths$pca_cluster_filepath_seu2, plot = new_cluster_pca2, dpi = dpi_color)\n",
    "}"
   ]
  },
  {
   "cell_type": "markdown",
   "id": "070dba52",
   "metadata": {},
   "source": [
    "Compute adjusted Rand index to compare cluster similarity"
   ]
  },
  {
   "cell_type": "code",
   "execution_count": null,
   "id": "82453d9a",
   "metadata": {},
   "outputs": [],
   "source": [
    "%%R\n",
    "if (!identical(seu1_inds, seu2_inds)) {\n",
    "    seu1_clusters <- seu1_clusters[names(seu1_clusters) %in% overlapping_inds]\n",
    "    seu2_clusters <- seu2_clusters[names(seu2_clusters) %in% overlapping_inds]\n",
    "\n",
    "    cell_order <- names(seu1_clusters)\n",
    "    seu2_clusters <- seu2_clusters[match(cell_order, names(seu2_clusters))]\n",
    "}\n",
    "\n",
    "seu1_clusters_vector <- as.vector(seu1_clusters)\n",
    "seu2_clusters_vector <- as.vector(seu2_clusters)\n",
    "ari_value <- mclust::adjustedRandIndex(seu1_clusters_vector, seu2_clusters_vector)\n",
    "\n",
    "\n",
    "if (file_paths$pca_knn_clustering_umap_file != FALSE) {\n",
    "    sink(file_paths$pca_knn_clustering_umap_file, append = TRUE, split = TRUE)\n",
    "}\n",
    "\n",
    "print(glue(\"Adjusted Rand index between clusters: {ari_value}\"))\n",
    "\n",
    "if (file_paths$pca_knn_clustering_umap_file != FALSE) {\n",
    "    sink()\n",
    "}"
   ]
  },
  {
   "cell_type": "markdown",
   "id": "b7ef2b79",
   "metadata": {},
   "source": [
    "Heatmap of clusters"
   ]
  },
  {
   "cell_type": "code",
   "execution_count": null,
   "id": "b93c2651",
   "metadata": {},
   "outputs": [],
   "source": [
    "%%R\n",
    "jacc_seu1_seu2 <- linkClustersMatrix(seu1_clusters, seu2_clusters)\n",
    "\n",
    "cluster_heatmap <- plot_heatmap(jacc_seu1_seu2, ari_value, show_axis_titles = TRUE, show_trees = FALSE, save = file_paths$pheatmap)\n",
    "cluster_heatmap"
   ]
  },
  {
   "cell_type": "markdown",
   "id": "ec31d207",
   "metadata": {},
   "source": [
    "Alluvial plot of clusters"
   ]
  },
  {
   "cell_type": "code",
   "execution_count": null,
   "id": "3e068dcc",
   "metadata": {},
   "outputs": [],
   "source": [
    "%%R\n",
    "df <- tibble(\n",
    "    Seurat1 = seu1_clusters,\n",
    "    Seurat2 = seu2_clusters\n",
    ")\n",
    "\n",
    "df <- setNames(df, unlist(seurat_group_names))\n",
    "\n",
    "clus_df_gather <- get_alluvial_df(df)\n",
    "\n",
    "clus_df_gather <- clus_df_gather %>% mutate(\n",
    "    group1_column_original_clusters := as.numeric(as.character(.data[[seu1_name]])),\n",
    "    group2_column_original_clusters := as.numeric(as.character(.data[[seu2_name]]))\n",
    ")\n",
    "\n",
    "clus_df_gather <- sort_clusters_by_agreement(clus_df_gather, stable_column = seu1_name, reordered_column = seu2_name)\n",
    "# clus_df_gather <- sort_clusters_by_agreement(clus_df_gather, stable_column = seu1_name, reordered_column = seu2_name)\n",
    "\n",
    "alluvial_plot <- plot_alluvial(clus_df_gather, color_boxes = TRUE, color_bands = FALSE, group1_name = seu1_name, group2_name = seu2_name, save = file_paths$alluvial)\n",
    "alluvial_plot_legend <- plot_alluvial(clus_df_gather, color_boxes = TRUE, color_bands = TRUE, alluvial_alpha = 0.5, group1_name = seu1_name, group2_name = seu2_name, save = file_paths$alluvial_legend)\n",
    "alluvial_plot_legend_high_alpha <- plot_alluvial(clus_df_gather, color_boxes = TRUE, color_bands = TRUE, alluvial_alpha = 1, group1_name = seu1_name, group2_name = seu2_name, save = file_paths$alluvial_legend_high_alpha)\n",
    "\n",
    "alluvial_plot\n",
    "alluvial_plot_legend"
   ]
  },
  {
   "cell_type": "markdown",
   "id": "c70333c5",
   "metadata": {},
   "source": [
    "Reorder seu2 clusters to match ordering in alluvial"
   ]
  },
  {
   "cell_type": "code",
   "execution_count": null,
   "id": "5ab09ab7",
   "metadata": {},
   "outputs": [],
   "source": [
    "%%R\n",
    "unique_mapping <- clus_df_gather %>%\n",
    "    ungroup() %>%\n",
    "    select(!!sym(seu2_name), group2_column_original_clusters) %>%\n",
    "    distinct() %>%\n",
    "    arrange(group2_column_original_clusters)\n",
    "\n",
    "seurat_clusters_df <- data.frame(cell_id = names(seu2$seurat_clusters), group2_cluster = as.numeric(as.character(seu2$seurat_clusters)))\n",
    "\n",
    "mapped_data <- seurat_clusters_df %>% left_join(unique_mapping, by = c(\"group2_cluster\" = \"group2_column_original_clusters\"))\n",
    "\n",
    "mapped_data[[seu2_name]] <- as.character(mapped_data[[seu2_name]])\n",
    "\n",
    "named_vector <- setNames(mapped_data[[seu2_name]], mapped_data$cell_id)\n",
    "\n",
    "seu2_clusters_renumbered <- factor(named_vector)"
   ]
  },
  {
   "cell_type": "code",
   "execution_count": null,
   "id": "e81f5b0b",
   "metadata": {},
   "outputs": [],
   "source": [
    "%%R\n",
    "seu1_cluster_data_original <- Idents(seu1)\n",
    "seu2_cluster_data_original <- Idents(seu2)"
   ]
  },
  {
   "cell_type": "markdown",
   "id": "2c14fb28",
   "metadata": {},
   "source": [
    "If data_input == \"seu1\" or \"seu2\": Apply cluster data to be the same"
   ]
  },
  {
   "cell_type": "code",
   "execution_count": null,
   "id": "dd81027e",
   "metadata": {},
   "outputs": [],
   "source": [
    "%%R\n",
    "if (data_input == \"seu1\" && identical(seu1_inds, seu2_inds)) {\n",
    "    Idents(seu2) <- Idents(seu1)\n",
    "    seu2$seurat_clusters <- Idents(seu1)\n",
    "}\n",
    "\n",
    "if (data_input == \"seu2\" && identical(seu1_inds, seu2_inds)) {\n",
    "    Idents(seu1) <- Idents(seu2)\n",
    "    seu1$seurat_clusters <- Idents(seu2)\n",
    "}"
   ]
  },
  {
   "cell_type": "markdown",
   "id": "c5706768",
   "metadata": {},
   "source": [
    "UMAP"
   ]
  },
  {
   "cell_type": "code",
   "execution_count": null,
   "id": "c3790eed",
   "metadata": {},
   "outputs": [],
   "source": [
    "%%R\n",
    "seu1_umap_info <- RunUMAP(seu1, dims = 1:seu1_num_pcs, min.dist = seu_umap_min_dist, umap.method = seu_umap_method, seed.use = umap_seed1, metric = seu_umap_metric)\n",
    "# DimPlot(seu1_umap_info, reduction = \"umap\") + scale_color_manual(values = ditto_colors)\n",
    "seu2_umap_info <- RunUMAP(seu2, dims = 1:seu2_num_pcs, min.dist = seu_umap_min_dist, umap.method = seu_umap_method, seed.use = umap_seed2, metric = seu_umap_metric)\n",
    "# DimPlot(seu2_umap_info, reduction = \"umap\") + scale_color_manual(values = ditto_colors)"
   ]
  },
  {
   "cell_type": "markdown",
   "id": "7df745c9",
   "metadata": {},
   "source": [
    "Plot UMAP"
   ]
  },
  {
   "cell_type": "code",
   "execution_count": null,
   "id": "df8052b0",
   "metadata": {},
   "outputs": [],
   "source": [
    "%%R\n",
    "colors_group2 <- find_group2_colors(clus_df_gather, seu1_name, seu2_name)\n",
    "\n",
    "umap_plots <- plot_umap(group1_umap_info = seu1_umap_info$umap@cell.embeddings, group1_clusters = seu1$seurat_clusters, group2_umap_info = seu2_umap_info$umap@cell.embeddings, group2_clusters = seu2_clusters_renumbered, group1 = seu1_name, group2 = seu2_name, colors_group2 = colors_group2, save = c(file_paths$umap_seu1, file_paths$umap_seu2))\n",
    "seu1_umap <- umap_plots[[1]]\n",
    "seu2_umap <- umap_plots[[2]]\n",
    "\n",
    "seu1_umap\n",
    "seu2_umap\n",
    "\n",
    "# if (identical(seu1_inds, seu2_inds)) {\n",
    "#     umap_plots_swapped_clusters <- plot_umap(group1_umap_info = seu1_umap_info$umap@cell.embeddings, group1_clusters = seu2_clusters_renumbered, group2_umap_info = seu2_umap_info$umap@cell.embeddings, group2_clusters = seu1$seurat_clusters, group1 = seu1_name, group2 = seu2_name, colors_group1 = colors_group2, group1_title = glue(\"Seurat {seu1_name} UMAP with {seu2_name} clusters\"), group2_title = glue(\"Seurat {seu2_name} UMAP with {seu1_name} clusters\"), save = c(file_paths$umap_seu1_clusters_seu2, file_paths$umap_seu2_clusters_seu1))\n",
    "#     umap_seu1_clusters_seu2 <- umap_plots_swapped_clusters[[1]]\n",
    "#     umap_seu2_clusters_seu1 <- umap_plots_swapped_clusters[[2]]\n",
    "# \n",
    "#     print(umap_seu1_clusters_seu2)\n",
    "#     print(umap_seu2_clusters_seu1)\n",
    "# }"
   ]
  },
  {
   "cell_type": "markdown",
   "id": "e95d1a97",
   "metadata": {},
   "source": [
    "Compute KNN graph of UMAP space"
   ]
  },
  {
   "cell_type": "code",
   "execution_count": null,
   "id": "731534d9",
   "metadata": {},
   "outputs": [],
   "source": [
    "%%R\n",
    "seu1_umap_data <- seu1_umap_info$umap@cell.embeddings\n",
    "seu2_umap_data <- seu2_umap_info$umap@cell.embeddings\n",
    "\n",
    "if (!isTRUE(all.equal(colnames(seu1), colnames(seu2)))) {\n",
    "    seu1_inds <- colnames(seu1)\n",
    "    seu2_inds <- colnames(seu2)\n",
    "\n",
    "    overlapping_inds <- intersect(seu1_inds, seu2_inds)\n",
    "\n",
    "    seu1_umap_data_filtered <- seu1_umap_data[overlapping_inds, ]\n",
    "    seu1_umap_data <- seu1_umap_data_filtered[order(rownames(seu1_umap_data_filtered)), ]\n",
    "\n",
    "    seu2_umap_data_filtered <- seu2_umap_data[overlapping_inds, ]\n",
    "    seu2_umap_data <- seu2_umap_data_filtered[order(rownames(seu2_umap_data_filtered)), ]\n",
    "\n",
    "    seu1_cluster_data_filtered <- seu1_cluster_data_original[overlapping_inds]\n",
    "    seu2_cluster_data_filtered <- seu2_cluster_data_original[overlapping_inds]\n",
    "} else {\n",
    "    seu1_cluster_data_filtered <- seu1_cluster_data_original\n",
    "    seu2_cluster_data_filtered <- seu2_cluster_data_original\n",
    "}\n",
    "\n",
    "seu1_umap_knn <- dbscan::kNN(seu1_umap_data, k = umap_knn_k)\n",
    "seu2_umap_knn <- dbscan::kNN(seu2_umap_data, k = umap_knn_k)"
   ]
  },
  {
   "cell_type": "markdown",
   "id": "3e3484d8",
   "metadata": {},
   "source": [
    "Find jaccard indices of KNN graphs from UMAP space"
   ]
  },
  {
   "cell_type": "code",
   "execution_count": null,
   "id": "9aa727c3",
   "metadata": {},
   "outputs": [],
   "source": [
    "%%R\n",
    "jaccards_all_cells <- calculate_knn_jaccards(seu1_umap_knn$id, seu2_umap_knn$id)\n",
    "\n",
    "median_jaccard_umap_knn <- median(jaccards_all_cells)\n",
    "\n",
    "if (file_paths$pca_knn_clustering_umap_file != FALSE) {\n",
    "    sink(file_paths$pca_knn_clustering_umap_file, append = TRUE, split = TRUE)\n",
    "}\n",
    "\n",
    "print(glue(\"Median jaccard of UMAP KNN: {median_jaccard_umap_knn}\"))\n",
    "\n",
    "if (file_paths$pca_knn_clustering_umap_file != FALSE) {\n",
    "    sink()\n",
    "}"
   ]
  },
  {
   "cell_type": "markdown",
   "id": "3cd5c8f3",
   "metadata": {},
   "source": [
    "Plot jaccard indices"
   ]
  },
  {
   "cell_type": "code",
   "execution_count": null,
   "id": "34e2a5fe",
   "metadata": {},
   "outputs": [],
   "source": [
    "%%R\n",
    "jaccards_df <- data.frame(Cells = overlapping_inds, JaccardIndex = jaccards_all_cells, seu1_clusters = seu1_cluster_data_filtered, seu2_clusters = seu2_cluster_data_filtered)\n",
    "\n",
    "umap_jaccard_plot <- make_umap_jaccard_plot(jaccards_df, save = file_paths$umap_jaccard_knn_density)\n",
    "umap_jaccard_plot_seu1_facet <- make_umap_jaccard_plot(jaccards_df, facet = \"seu1_clusters\", save = file_paths$umap_jaccard_knn_density_seu1_facet)\n",
    "umap_jaccard_plot_seu2_facet <- make_umap_jaccard_plot(jaccards_df, facet = \"seu2_clusters\", save = file_paths$umap_jaccard_knn_density_seu2_facet)\n",
    "\n",
    "umap_jaccard_plot\n",
    "umap_jaccard_plot_seu1_facet\n",
    "umap_jaccard_plot_seu2_facet"
   ]
  },
  {
   "cell_type": "markdown",
   "id": "1206a829",
   "metadata": {},
   "source": [
    "Run leiden clustering on KNN graphs from UMAP space"
   ]
  },
  {
   "cell_type": "code",
   "execution_count": null,
   "id": "63d777eb",
   "metadata": {},
   "outputs": [],
   "source": [
    "%%R\n",
    "set.seed(R_random_seed)\n",
    "\n",
    "seu1_umap_knn_clusters <- bluster::clusterRows(seu1_umap_data, NNGraphParam(shared = FALSE, k = umap_knn_k, BNPARAM = BiocNeighbors::AnnoyParam(), cluster.fun = \"leiden\", cluster.args = list(resolution_parameter = umap_leiden_clustering_resolution, objective_function = \"modularity\", n_iterations = 2, beta = 0.01)))\n",
    "seu2_umap_knn_clusters <- bluster::clusterRows(seu2_umap_data, NNGraphParam(shared = FALSE, k = umap_knn_k, BNPARAM = BiocNeighbors::AnnoyParam(), cluster.fun = \"leiden\", cluster.args = list(resolution_parameter = umap_leiden_clustering_resolution, objective_function = \"modularity\", n_iterations = 2, beta = 0.01)))\n",
    "\n",
    "seu1_umap_knn_clusters <- reorder_clusters_descending(seu1_umap_knn_clusters)\n",
    "seu2_umap_knn_clusters <- reorder_clusters_descending(seu2_umap_knn_clusters)"
   ]
  },
  {
   "cell_type": "markdown",
   "id": "97dbc86e",
   "metadata": {},
   "source": [
    "Compute ARI and plot alluvial plot of leiden clustering results on KNN graphs from UMAP space"
   ]
  },
  {
   "cell_type": "code",
   "execution_count": null,
   "id": "d14370a3",
   "metadata": {},
   "outputs": [],
   "source": [
    "%%R\n",
    "ari_value_umap <- mclust::adjustedRandIndex(as.vector(seu1_umap_knn_clusters), as.vector(seu2_umap_knn_clusters))\n",
    "\n",
    "if (file_paths$pca_knn_clustering_umap_file != FALSE) {\n",
    "    sink(file_paths$pca_knn_clustering_umap_file, append = TRUE, split = TRUE)\n",
    "}\n",
    "\n",
    "print(glue(\"Adjusted Rand index between UMAP clusters: {ari_value_umap}\"))\n",
    "\n",
    "if (file_paths$pca_knn_clustering_umap_file != FALSE) {\n",
    "    sink()\n",
    "}\n",
    "\n",
    "df_umap <- tibble(\n",
    "    Seurat1 = seu1_umap_knn_clusters,\n",
    "    Seurat2 = seu2_umap_knn_clusters\n",
    ")\n",
    "\n",
    "df_umap <- setNames(df_umap, unlist(seurat_group_names))\n",
    "\n",
    "clus_df_gather_umap <- get_alluvial_df(df_umap)\n",
    "\n",
    "clus_df_gather_umap <- clus_df_gather_umap %>% mutate(\n",
    "    group1_column_original_clusters := as.numeric(as.character(.data[[seu1_name]])),\n",
    "    group2_column_original_clusters := as.numeric(as.character(.data[[seu2_name]]))\n",
    ")\n",
    "\n",
    "clus_df_gather_umap <- sort_clusters_by_agreement(clus_df_gather_umap, stable_column = seu1_name, reordered_column = seu2_name)\n",
    "\n",
    "umap_alluvial_plot <- plot_alluvial(clus_df_gather_umap, color_boxes = TRUE, color_bands = FALSE, group1_name = seu1_name, group2_name = seu2_name, save = file_paths$umap_alluvial)\n",
    "umap_alluvial_plot_legend <- plot_alluvial(clus_df_gather_umap, color_boxes = TRUE, color_bands = TRUE, alluvial_alpha = 0.5, group1_name = seu1_name, group2_name = seu2_name, save = file_paths$umap_alluvial_legend)\n",
    "\n",
    "umap_alluvial_plot_legend"
   ]
  },
  {
   "cell_type": "markdown",
   "id": "d3e0e3c9",
   "metadata": {},
   "source": [
    "Reorder seu2 UMAP clusters to match ordering in alluvial"
   ]
  },
  {
   "cell_type": "code",
   "execution_count": null,
   "id": "4d6d73df",
   "metadata": {},
   "outputs": [],
   "source": [
    "%%R\n",
    "unique_mapping <- clus_df_gather_umap %>%\n",
    "    ungroup() %>%\n",
    "    select(!!sym(seu2_name), group2_column_original_clusters) %>%\n",
    "    distinct() %>%\n",
    "    arrange(group2_column_original_clusters)\n",
    "\n",
    "seurat_clusters_df <- data.frame(cell_id = overlapping_inds, group2_cluster = as.numeric(as.character(seu2_umap_knn_clusters)))\n",
    "\n",
    "mapped_data <- seurat_clusters_df %>% left_join(unique_mapping, by = c(\"group2_cluster\" = \"group2_column_original_clusters\"))\n",
    "\n",
    "mapped_data[[seu2_name]] <- as.character(mapped_data[[seu2_name]])\n",
    "\n",
    "named_vector <- setNames(mapped_data[[seu2_name]], mapped_data$cell_id)\n",
    "\n",
    "seu2_clusters_renumbered_umap <- factor(named_vector)"
   ]
  },
  {
   "cell_type": "markdown",
   "id": "50fbd1b7",
   "metadata": {},
   "source": [
    "UMAP with UMAP Leiden clusters"
   ]
  },
  {
   "cell_type": "code",
   "execution_count": null,
   "id": "53c45ee9",
   "metadata": {},
   "outputs": [],
   "source": [
    "%%R\n",
    "colors_group2_umap <- find_group2_colors(clus_df_gather_umap, seu1_name, seu2_name)\n",
    "\n",
    "umap_plots <- plot_umap(group1_umap_info = seu1_umap_data, group1_clusters = seu1_umap_knn_clusters, group2_umap_info = seu2_umap_data, group2_clusters = seu2_clusters_renumbered_umap, colors_group2 = colors_group2_umap, group1 = seu1_name, group2 = seu2_name, save = c(file_paths$umap_umap_leiden_seu1, file_paths$umap_umap_leiden_seu2))\n",
    "seu1_umap <- umap_plots[[1]]\n",
    "seu2_umap <- umap_plots[[2]]\n",
    "\n",
    "seu1_umap\n",
    "seu2_umap"
   ]
  },
  {
   "cell_type": "markdown",
   "id": "e0a74e03",
   "metadata": {},
   "source": [
    "Find markers Seu1"
   ]
  },
  {
   "cell_type": "code",
   "execution_count": null,
   "id": "761c1124",
   "metadata": {},
   "outputs": [],
   "source": [
    "%%R\n",
    "if (!file.exists(output_data_file_paths$markers_seu1)) {\n",
    "    markers_seu1 <- FindAllMarkers(seu1, logfc.threshold = 0.1, min.pct = 0.01)\n",
    "} else {\n",
    "    markers_seu1 <- readRDS(output_data_file_paths$markers_seu1)\n",
    "}"
   ]
  },
  {
   "cell_type": "markdown",
   "id": "5aed2925",
   "metadata": {},
   "source": [
    "Find markers Seu2"
   ]
  },
  {
   "cell_type": "code",
   "execution_count": null,
   "id": "b3bc6a7f",
   "metadata": {},
   "outputs": [],
   "source": [
    "%%R\n",
    "if (!file.exists(output_data_file_paths$markers_seu2)) {\n",
    "    markers_seu2 <- FindAllMarkers(seu2)\n",
    "} else {\n",
    "    markers_seu2 <- readRDS(output_data_file_paths$markers_seu2)\n",
    "}"
   ]
  },
  {
   "cell_type": "markdown",
   "id": "c2caf708",
   "metadata": {},
   "source": [
    "Compare marker genes"
   ]
  },
  {
   "cell_type": "code",
   "execution_count": null,
   "id": "802c48d2",
   "metadata": {},
   "outputs": [],
   "source": [
    "%%R\n",
    "seu1_filtered_markers <- markers_seu1 %>% filter(p_val_adj < 0.05)\n",
    "seu2_filtered_markers <- markers_seu2 %>% filter(p_val_adj < 0.05)\n",
    "\n",
    "# vectorized_seu_unfiltered_markers <- unique(markers$gene)\n",
    "vectorized_seu1_filtered_markers <- unique(seu1_filtered_markers$gene)\n",
    "vectorized_seu2_filtered_markers <- unique(seu2_filtered_markers$gene)\n",
    "\n",
    "markers_euler_genes_only <- make_euler_seurat(vectorized_seu1_filtered_markers, vectorized_seu2_filtered_markers, comparison = \"Marker Gene\", group_names = seurat_group_names, save_plot = file_paths$euler_after_qc_marker_genes_only, save_stats = file_paths$de_stats_file)\n",
    "markers_euler_genes_only\n",
    "\n",
    "upset_marker_gene_only <- make_upset_seurat(vectorized_seu1_filtered_markers, vectorized_seu2_filtered_markers, comparison = \"Marker Gene\", group_names = seurat_group_names, save = file_paths$upset_markers_genes_only)"
   ]
  },
  {
   "cell_type": "markdown",
   "id": "d0bd2dc0",
   "metadata": {},
   "source": [
    "Stop DE analysis if data input does not align (as without aligned cluster information, DE analysis is not meaningful)"
   ]
  },
  {
   "cell_type": "code",
   "execution_count": null,
   "id": "1715ef9d",
   "metadata": {},
   "outputs": [],
   "source": [
    "%%R\n",
    "if (data_input == \"default\" || !identical(seu1_inds, seu2_inds)) {\n",
    "    if (save_data) {\n",
    "        saveRDS(markers_seu1, file = output_data_file_paths$markers_seu1)\n",
    "        saveRDS(seu1, file = output_data_file_paths$seu1_object)\n",
    "        saveRDS(markers_seu2, file = output_data_file_paths$markers_seu2)\n",
    "        saveRDS(seu2, file = output_data_file_paths$seu2_object)\n",
    "    }\n",
    "    sessionInfo()\n",
    "    stop(\"The groups have unequal cell sets, so not running further DE analysis, which requires clusters to be in agreement.\")\n",
    "}"
   ]
  },
  {
   "cell_type": "markdown",
   "id": "61ab0139",
   "metadata": {},
   "source": [
    "Compare markers"
   ]
  },
  {
   "cell_type": "code",
   "execution_count": null,
   "id": "e5ea51ca",
   "metadata": {},
   "outputs": [],
   "source": [
    "%%R\n",
    "# Select gene and cluster columns\n",
    "source(glue(\"{project_base_path}/scripts/plotting_and_stats.R\"))\n",
    "seu1_markers_df <- markers_seu1 %>% select(gene = gene, cluster = cluster)\n",
    "seu2_markers_df <- markers_seu2 %>% select(gene = gene, cluster = cluster)\n",
    "\n",
    "vectorized_seu1_markers <- paste(seu1_markers_df$gene, seu1_markers_df$cluster, sep = \"-\")\n",
    "vectorized_seu2_markers <- paste(seu2_markers_df$gene, seu2_markers_df$cluster, sep = \"-\")\n",
    "\n",
    "markers_euler <- make_euler_seurat(vectorized_seu1_markers, vectorized_seu2_markers, comparison = \"Marker\", group_names = seurat_group_names, save_plot = file_paths$euler_after_qc_marker_file_path, save_stats = file_paths$de_stats_file)\n",
    "markers_euler\n",
    "\n",
    "upset_markers_all <- make_upset_seurat(vectorized_seu1_markers, vectorized_seu2_markers, comparison = \"Marker\", group_names = seurat_group_names, save = file_paths$upset_markers)"
   ]
  },
  {
   "cell_type": "markdown",
   "id": "2d4a8662",
   "metadata": {},
   "source": [
    "Combine all DE data in one dataframe markers2"
   ]
  },
  {
   "cell_type": "code",
   "execution_count": null,
   "id": "6f3dd484",
   "metadata": {},
   "outputs": [],
   "source": [
    "%%R\n",
    "markers2 <- markers_seu1 |>\n",
    "    inner_join(markers_seu2, by = c(\"cluster\", \"gene\"), suffix = c(glue(\".{seu1_name}\"), glue(\".{seu2_name}\")))\n",
    "\n",
    "markers2 <- markers2 |>\n",
    "    mutate(cluster = factor(cluster, levels = as.character(seq_len(length(unique(cluster))) - 1)))\n",
    "\n",
    "markers2 <- markers2 |>\n",
    "    group_by(cluster) |>\n",
    "    mutate(rank_r = seq_along(gene))\n",
    "\n",
    "\n",
    "markers2[[glue(\"FC.{seu1_name}\")]] <- 2^markers2[[glue(\"avg_log2FC.{seu1_name}\")]]\n",
    "markers2[[glue(\"FC.{seu2_name}\")]] <- 2^markers2[[glue(\"avg_log2FC.{seu2_name}\")]]"
   ]
  },
  {
   "cell_type": "markdown",
   "id": "5fe1f6f4",
   "metadata": {},
   "source": [
    "Calculate mean magnitude of difference in log fold change between the 2 packages"
   ]
  },
  {
   "cell_type": "code",
   "execution_count": null,
   "id": "62557cbf",
   "metadata": {},
   "outputs": [],
   "source": [
    "%%R\n",
    "markers2 <- calculate_de_stats(markers2, group1_name = seu1_name, group2_name = seu2_name, save = file_paths$de_stats_file) "
   ]
  },
  {
   "cell_type": "markdown",
   "id": "3a86c9d5",
   "metadata": {},
   "source": [
    "Plot scatterplots"
   ]
  },
  {
   "cell_type": "code",
   "execution_count": null,
   "id": "204582e6",
   "metadata": {},
   "outputs": [],
   "source": [
    "%%R\n",
    "markers2[[glue(\"p_val_adj.{seu1_name}\")]][markers2[[glue(\"p_val_adj.{seu1_name}\")]] == 0] <- .Machine$double.xmin\n",
    "markers2[[glue(\"p_val_adj.{seu2_name}\")]][markers2[[glue(\"p_val_adj.{seu2_name}\")]] == 0] <- .Machine$double.xmin\n",
    "source(glue(\"{project_base_path}/scripts/plotting_and_stats.R\"))\n",
    "logFC_scatterplot <- plot_scatterplot_de_logfc(markers2, group1_name = seu1_name, group2_name = seu2_name, ccc = markers2$CCC[1], save = file_paths$logFC_scatterplot_file_path, outliers_excluded = FALSE)\n",
    "pvaladj_scatterplot <- plot_scatterplot_de_wilcoxon(markers2, group1_name = seu1_name, group2_name = seu2_name, save = file_paths$wilcoxon_scatterplot_file_path, outliers_excluded = FALSE)\n",
    "\n",
    "logFC_scatterplot_with_legend <- plot_scatterplot_de_logfc(markers2, group1_name = seu1_name, group2_name = seu2_name, ccc = markers2$CCC[1], save = file_paths$logFC_scatterplot_file_path_with_legend, outliers_excluded = FALSE, show_legend = TRUE)\n",
    "\n",
    "\n",
    "logFC_scatterplot\n",
    "logFC_scatterplot_with_legend\n",
    "\n",
    "pvaladj_scatterplot"
   ]
  },
  {
   "cell_type": "markdown",
   "id": "a5b28a95",
   "metadata": {},
   "source": [
    "Save markers df"
   ]
  },
  {
   "cell_type": "code",
   "execution_count": null,
   "id": "022982e1",
   "metadata": {},
   "outputs": [],
   "source": [
    "%%R\n",
    "subset_markers2 <- markers2[, c(\"gene\", \"cluster\", glue(\"avg_log2FC.{seu1_name}\"), glue(\"avg_log2FC.{seu2_name}\"), glue(\"p_val_adj.{seu1_name}\"), glue(\"p_val_adj.{seu1_name}\"), \"logFC_difference_magnitude\", \"logFC_difference_signed\", \"pvaladj_difference_magnitude\", \"pvaladj_difference_signed\")]\n",
    "\n",
    "if (save_data) {\n",
    "    saveRDS(markers_seu1, file = output_data_file_paths$markers_seu1)\n",
    "    saveRDS(seu1, file = output_data_file_paths$seu1_object)\n",
    "    saveRDS(markers_seu2, file = output_data_file_paths$markers_seu2)\n",
    "    saveRDS(seu2, file = output_data_file_paths$seu2_object)\n",
    "    saveRDS(subset_markers2, file = output_data_file_paths$markers2)\n",
    "}"
   ]
  },
  {
   "cell_type": "code",
   "execution_count": null,
   "id": "a5d1002f",
   "metadata": {},
   "outputs": [],
   "source": [
    "%%R\n",
    "sessionInfo()"
   ]
  }
 ],
 "metadata": {},
 "nbformat": 4,
 "nbformat_minor": 5
}
