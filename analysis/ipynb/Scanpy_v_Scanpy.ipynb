{
 "cells": [
  {
   "cell_type": "markdown",
   "id": "bd6f6e6a",
   "metadata": {},
   "source": [
    "---\n",
    "title: \"Scanpy_v_Scanpy\"\n",
    "output: html_document\n",
    "date: \"2024-01-01\"\n",
    "---\n",
    "\n",
    "Select yaml file"
   ]
  },
  {
   "cell_type": "code",
   "execution_count": null,
   "id": "c75b42aa",
   "metadata": {},
   "outputs": [],
   "source": [
    "yaml_file <- \"Supp_Fig8\"  # Supp_Fig8, Supp_Fig8_DE, Supp_Fig10"
   ]
  },
  {
   "cell_type": "code",
   "execution_count": null,
   "id": "7dac6bfd",
   "metadata": {},
   "outputs": [],
   "source": [
    "if (!requireNamespace(\"reticulate\", quietly = TRUE)) remotes::install_version(\"reticulate\", version = \"1.34.0\", upgrade = \"never\")\n",
    "\n",
    "using_colab <- reticulate::py_run_string(\"\n",
    "try:\n",
    "    import google.colab\n",
    "    using_colab = True\n",
    "except ImportError:\n",
    "    using_colab = False\n",
    "using_colab\n",
    "\")$using_colab\n",
    "\n",
    "if (using_colab) {\n",
    "    system(\"git clone https://github.com/josephrich98/scrnaseq_packages_and_versioning.git\", intern = FALSE)\n",
    "}"
   ]
  },
  {
   "cell_type": "markdown",
   "id": "c41628c0",
   "metadata": {},
   "source": [
    "Load contents of yaml file into global R environment"
   ]
  },
  {
   "cell_type": "code",
   "execution_count": null,
   "id": "25b96be1",
   "metadata": {},
   "outputs": [],
   "source": [
    "yaml_dir <- glue::glue(\"{dirname(getwd())}/yaml\")\n",
    "yaml_file_path <- glue::glue(\"{yaml_dir}/{yaml_file}.yaml\")\n",
    "\n",
    "source(glue::glue(\"{dirname(getwd())}/scripts/load_yaml_contents.R\"))\n",
    "load_yaml_contents(yaml_file_path)"
   ]
  },
  {
   "cell_type": "code",
   "execution_count": null,
   "id": "80248115",
   "metadata": {},
   "outputs": [],
   "source": [
    "seurat_version_for_download <- gsub(\"_\", \".\", seurat_version)\n",
    "scanpy_version_for_download <- gsub(\"_\", \".\", scanpy_version)\n",
    "\n",
    "if (using_colab) {\n",
    "    py_command <- sprintf(\"import subprocess; subprocess.run(['pip', 'install', 'scanpy==%s', 'python-igraph==0.10.8', 'leidenalg==0.10.1', 'anndata==0.10.2', 'hdf5plugin==4.2.0', 'kb-python==0.27.3', 'umap-learn==0.5.2', 'louvain==0.8.1', 'git+https://github.com/has2k1/scikit-misc.git@269f61e'])\", scanpy_version_for_download)\n",
    "    \n",
    "    reticulate::py_run_string(py_command)\n",
    "}\n",
    "\n",
    "if (!requireNamespace(\"remotes\", quietly = TRUE)) install.packages(\"remotes\")\n",
    "\n",
    "if (!requireNamespace(\"tidyverse\", quietly = TRUE)) remotes::install_version(\"tidyverse\", version = \"2.0.0\", upgrade = \"never\")\n",
    "if (!requireNamespace(\"rmarkdown\", quietly = TRUE)) remotes::install_version(\"rmarkdown\", version = \"2.25\", upgrade = \"never\")\n",
    "\n",
    "if (!requireNamespace(\"igraph\", quietly = TRUE)) pak::pak(\"igraph/rigraph\")\n",
    "if (!requireNamespace(\"Seurat\", quietly = TRUE)) remotes::install_version(\"Seurat\", version = seurat_version_for_download, upgrade = \"never\")\n",
    "if (!requireNamespace(\"Matrix\", quietly = TRUE)) remotes::install_version(\"Matrix\", version = \"1.6.4\", upgrade = \"never\")\n",
    "if (!requireNamespace(\"patchwork\", quietly = TRUE)) remotes::install_version(\"patchwork\", version = \"1.1.3\", upgrade = \"never\")\n",
    "if (!requireNamespace(\"eulerr\", quietly = TRUE)) remotes::install_version(\"eulerr\", version = \"7.0.0\", upgrade = \"never\")\n",
    "if (!requireNamespace(\"scattermore\", quietly = TRUE)) remotes::install_version(\"scattermore\", version = \"1.2\", upgrade = \"never\")\n",
    "if (!requireNamespace(\"assertthat\", quietly = TRUE)) remotes::install_version(\"assertthat\", version = \"0.2.1\", upgrade = \"never\")\n",
    "if (!requireNamespace(\"pheatmap\", quietly = TRUE)) remotes::install_version(\"pheatmap\", version = \"1.0.12\", upgrade = \"never\")\n",
    "if (!requireNamespace(\"ggforce\", quietly = TRUE)) remotes::install_version(\"ggforce\", version = \"0.4.1\", upgrade = \"never\")\n",
    "if (!requireNamespace(\"ggplotify\", quietly = TRUE)) remotes::install_version(\"ggplotify\", version = \"0.1.2\", upgrade = \"never\")\n",
    "if (!requireNamespace(\"mclust\", quietly = TRUE)) remotes::install_version(\"mclust\", version = \"6.0.1\", upgrade = \"never\")\n",
    "if (!requireNamespace(\"ggalluvial\", quietly = TRUE)) remotes::install_version(\"ggalluvial\", version = \"0.12.5\", upgrade = \"never\")\n",
    "if (!requireNamespace(\"UpSetR\", quietly = TRUE)) remotes::install_version(\"UpSetR\", version = \"1.4.0\", upgrade = \"never\")\n",
    "if (!requireNamespace(\"ggpointdensity\", quietly = TRUE)) remotes::install_version(\"ggpointdensity\", version = \"0.1.0\", upgrade = \"never\")\n",
    "if (!requireNamespace(\"dbscan\", quietly = TRUE)) remotes::install_version(\"dbscan\", version = \"1.1.12\", upgrade = \"never\")\n",
    "if (!requireNamespace(\"presto\", quietly = TRUE)) remotes::install_github(\"immunogenomics/presto@31dc97f\", upgrade = \"never\")\n",
    "\n",
    "\n",
    "if (!requireNamespace(\"BiocManager\", quietly = TRUE)) remotes::install_version(\"BiocManager\", version = \"1.30.22\", upgrade = \"never\")\n",
    "bioconductor_version <- \"3.18\"\n",
    "\n",
    "if (!requireNamespace(\"BUSpaRse\", quietly = TRUE)) BiocManager::install(\"BUSpaRse\", version = bioconductor_version, update = FALSE)\n",
    "if (!requireNamespace(\"DropletUtils\", quietly = TRUE)) BiocManager::install(\"DropletUtils\", version = bioconductor_version, update = FALSE)\n",
    "if (!requireNamespace(\"biomaRt\", quietly = TRUE)) BiocManager::install(\"biomaRt\", version = bioconductor_version, update = FALSE)"
   ]
  },
  {
   "cell_type": "markdown",
   "id": "99848ed4",
   "metadata": {},
   "source": [
    "HYPERPARAMETERS"
   ]
  },
  {
   "cell_type": "code",
   "execution_count": null,
   "id": "5a51f68d",
   "metadata": {},
   "outputs": [],
   "source": [
    "data_input <- \"default\" # str[\"default\", \"scan1\", \"scan2\"]\n",
    "save_data <- TRUE\n",
    "\n",
    "scan1_name <- \"Full\"  # Must have no spaces\n",
    "scan2_name <- \"Downsampled_reads\"  # Must have no spaces\n",
    "\n",
    "# Input and output path specifications\n",
    "project_base_path <- dirname(getwd())  # also used for locating script files\n",
    "data_name <- \"SC3_v3_NextGem_SI_PBMC_10K\"  # str\n",
    "scanpy_version <- \"1_9_5\"  # str (with _ in place of .)\n",
    "conda_env <- \"analysis_env\"\n",
    "R_random_seed <- 100 # including for cell downsampling  # also used for global R session seed and python seed\n",
    "\n",
    "scan1_matrix_generation_method <- \"kb\" # str[\"kb\", \"cellranger\"]  # also used for loading data\n",
    "scan1_matrix_generation_method_version <- \"0_28_0\"  # str (with _ in place of .)\n",
    "\n",
    "scan1_cell_fraction_after_downsampling <- \"1_0\" # fraction of cells after downsampling - any number from (0,1.0] (with _ in place of .)   # also used for performing cell downsampling\n",
    "scan1_read_fraction_after_downsampling <- \"1_0\" # fraction of reads after downsampling - any number from (0,1.0] (with _ in place of .)\n",
    "scan1_read_downsample_seed <- \"0\" # random seqtk seed for downsampling reads - 0 for no downsampling, integer >1 for downsampled seed\n",
    "\n",
    "\n",
    "scan2_matrix_generation_method <- \"kb\" # str[\"kb\", \"cellranger\"]  # also used for loading data\n",
    "scan2_matrix_generation_method_version <- \"0_28_0\"  # str (with _ in place of .)\n",
    "\n",
    "scan2_cell_fraction_after_downsampling <- \"1_0\" # fraction of cells after downsampling - any number from (0,1.0] (with _ in place of .)   # also used for performing cell downsampling\n",
    "scan2_read_fraction_after_downsampling <- \"1_0\" # fraction of reads after downsampling - any number from (0,1.0] (with _ in place of .)\n",
    "scan2_read_downsample_seed <- \"0\" # random seqtk seed for downsampling reads - 0 for no downsampling, integer >1 for downsampled seed\n",
    "\n",
    "scan1_data_path <- glue::glue(\"{project_base_path}/count_matrix_collection/{data_name}/{scan1_matrix_generation_method}{scan1_matrix_generation_method_version}/frac{scan1_read_fraction_after_downsampling}_seed{scan1_read_downsample_seed}\")\n",
    "scan2_data_path <- glue::glue(\"{project_base_path}/count_matrix_collection/{data_name}/{scan2_matrix_generation_method}{scan2_matrix_generation_method_version}/frac{scan2_read_fraction_after_downsampling}_seed{scan2_read_downsample_seed}\")\n",
    "\n",
    "\n",
    "# Specifications for downloading data\n",
    "doi <- \"AAAAAAA\"  # FILL IN\n",
    "data_path_root <- glue::glue(\"{project_base_path}/count_matrix_collection/{data_name}\")\n",
    "scan1_data_name_from_download <- glue::glue(\"{scan1_matrix_generation_method}{scan1_matrix_generation_method_version}_frac{scan1_read_fraction_after_downsampling}_seed{scan1_read_downsample_seed}\")\n",
    "scan2_data_name_from_download <- glue::glue(\"{scan2_matrix_generation_method}{scan2_matrix_generation_method_version}_frac{scan2_read_fraction_after_downsampling}_seed{scan2_read_downsample_seed}\")\n",
    "\n",
    "\n",
    "# Custom parameters\n",
    "scan1_inflection_UMI_manual <- NULL # number >=0; or NULL to have automatic selection, especially necessary for lower fracs (e.g., 30 for frac=0.02, 20 for frac=0.01)\n",
    "scan2_inflection_UMI_manual <- NULL # number >=0; or NULL to have automatic selection, especially necessary for lower fracs (e.g., 30 for frac=0.02, 20 for frac=0.01)\n",
    "\n",
    "scan1_min_cells <- 3\n",
    "scan1_min_features <- 200\n",
    "\n",
    "scan2_min_cells <- 3\n",
    "scan2_min_features <- 200\n",
    "\n",
    "scan1_max_n_genes_by_counts_scanpy <- 12000 # default 2500\n",
    "scan2_max_n_genes_by_counts_scanpy <- 12000 # default 2500\n",
    "max_pct_mct <- 20 # default 5\n",
    "scan1_num_pcs <- 50 # number 1-50; or NULL to select after elbow plot visualization\n",
    "scan2_num_pcs <- 50\n",
    "umap_knn_k <- 50\n",
    "umap_leiden_clustering_resolution <- 0.8\n",
    "\n",
    "pca_seed1 <- 42\n",
    "pca_seed2 <- 42\n",
    "clustering_seed1 <- 0\n",
    "clustering_seed2 <- 0\n",
    "umap_seed1 <- 42\n",
    "umap_seed2 <- 42\n",
    "\n",
    "dpi <- 300\n",
    "\n",
    "\n",
    "if (scan1_matrix_generation_method == scan2_matrix_generation_method && scan1_matrix_generation_method_version == scan2_matrix_generation_method_version) {\n",
    "    matrix_generation_method_full <- glue::glue(\"{scan1_matrix_generation_method}{scan1_matrix_generation_method_version}\")\n",
    "} else {\n",
    "    matrix_generation_method_full <- glue::glue(\"scan1_{scan1_matrix_generation_method}{scan1_matrix_generation_method_version}_vs_scan2_{scan2_matrix_generation_method}{scan2_matrix_generation_method_version}\")\n",
    "}\n",
    "\n",
    "cell_fraction_after_downsampling <- ifelse(scan1_cell_fraction_after_downsampling == scan2_cell_fraction_after_downsampling, scan1_cell_fraction_after_downsampling,\n",
    "    paste(\"scan1\", scan1_cell_fraction_after_downsampling, \"vs\", \"scan2\", scan2_cell_fraction_after_downsampling, sep = \"_\")\n",
    ")\n",
    "\n",
    "if (cell_fraction_after_downsampling != \"1_0\") {\n",
    "    cell_fraction_after_downsampling <- glue::glue(\"{cell_fraction_after_downsampling}_seed{R_random_seed}\")\n",
    "}\n",
    "\n",
    "read_fraction_after_downsampling <- ifelse(scan1_read_fraction_after_downsampling == scan2_read_fraction_after_downsampling, scan1_read_fraction_after_downsampling,\n",
    "    paste(\"scan1\", scan1_read_fraction_after_downsampling, \"vs\", \"scan2\", scan2_read_fraction_after_downsampling, sep = \"_\")\n",
    ")\n",
    "\n",
    "if (scan1_read_fraction_after_downsampling != \"1_0\") {\n",
    "    read_fraction_after_downsampling <- glue::glue(\"{read_fraction_after_downsampling}_seed{scan1_read_downsample_seed}\")\n",
    "}\n",
    "\n",
    "if (scan2_read_fraction_after_downsampling != \"1_0\") {\n",
    "    read_fraction_after_downsampling <- glue::glue(\"{read_fraction_after_downsampling}_seed{scan2_read_downsample_seed}\")\n",
    "}\n",
    "\n",
    "if (exists(\"using_colab\") && get(\"using_colab\")) {\n",
    "    project_base_path <- \"/content/scrnaseq_packages_and_versioning/analysis\"\n",
    "    setwd(project_base_path)\n",
    "}\n",
    "\n",
    "output_base_path <- glue::glue(\"{project_base_path}/output/{data_name}/scanpyv{scanpy_version}/input_{data_input}/{matrix_generation_method_full}/cell_fraction_{cell_fraction_after_downsampling}/read_fraction_{read_fraction_after_downsampling}\")"
   ]
  },
  {
   "cell_type": "markdown",
   "id": "437e5b80",
   "metadata": {},
   "source": [
    "R Setting up variables"
   ]
  },
  {
   "cell_type": "code",
   "execution_count": null,
   "id": "64d38bb9",
   "metadata": {},
   "outputs": [],
   "source": [
    "set.seed(R_random_seed)\n",
    "scanpy_group_names <- list(Scanpy1 = scan1_name, Scanpy2 = scan2_name)\n",
    "\n",
    "if ((scan1_read_fraction_after_downsampling != scan2_read_fraction_after_downsampling) || (scan1_cell_fraction_after_downsampling != scan2_cell_fraction_after_downsampling)) {\n",
    "    group1_color <- \"#FFCB57\"\n",
    "    group2_color <- \"#6C27CC\"\n",
    "} else {\n",
    "    group1_color <- \"#009E73\"\n",
    "    group2_color <- \"#CC79A7\"\n",
    "}\n",
    "\n",
    "scanpy_minor_version <- as.integer(strsplit(scanpy_version, \"_\")[[1]][2])"
   ]
  },
  {
   "cell_type": "markdown",
   "id": "a1d7666c",
   "metadata": {},
   "source": [
    "File path definitions"
   ]
  },
  {
   "cell_type": "code",
   "execution_count": null,
   "id": "96751a44",
   "metadata": {},
   "outputs": [],
   "source": [
    "output_data_file_paths <- list(\n",
    "    markers_scan1 = glue::glue(\"{output_base_path}/data_files/markers_{scan1_name}.rds\"),\n",
    "    markers_scan2 = glue::glue(\"{output_base_path}/data_files/markers_{scan2_name}.rds\"),\n",
    "    markers2 = glue::glue(\"{output_base_path}/data_files/markers2.rds\"),\n",
    "    adata1_object = glue::glue(\"{output_base_path}/data_files/adata1.h5ad\"),\n",
    "    adata2_object = glue::glue(\"{output_base_path}/data_files/adata2.h5ad\"),\n",
    "    adata1_object_all_genes = glue::glue(\"{output_base_path}/data_files/adata1_object_all_genes.h5ad\"),\n",
    "    adata2_object_all_genes = glue::glue(\"{output_base_path}/data_files/adata2_object_all_genes.h5ad\")\n",
    ")\n",
    "\n",
    "# FALSE to have no save\n",
    "file_paths <- list(\n",
    "    filter_arguments = glue::glue(\"{output_base_path}/stats/filter_stats.txt\"),\n",
    "    euler_stats_before_QC_file = FALSE, # glue::glue(\"{output_base_path}/stats/euler_stats_beforeQC.txt\"),\n",
    "    euler_stats_after_QC_file = glue::glue(\"{output_base_path}/stats/euler_stats_afterQC.txt\"),\n",
    "    pca_knn_clustering_umap_file = glue::glue(\"{output_base_path}/stats/pca_knn_clustering_umap_stats.txt\"),\n",
    "    de_stats_file = glue::glue(\"{output_base_path}/stats/de_stats.txt\"),\n",
    "    \n",
    "    pre_filtering_upset_cell = FALSE, # glue::glue(\"{output_base_path}/plots/pre_filtering_upset_cell.tiff\"),\n",
    "    pre_filtering_upset_gene = FALSE, # glue::glue(\"{output_base_path}/plots/pre_filtering_upset_gene.tiff\"),\n",
    "    knee_plot1 = FALSE, # glue::glue(\"{output_base_path}/plots/knee_plot_{scan1_name}.tiff\"),\n",
    "    knee_plot2 = FALSE, # glue::glue(\"{output_base_path}/plots/knee_plot_{scan2_name}.tiff\"),\n",
    "    umi_scatterplot = glue::glue(\"{output_base_path}/plots/umi_scatterplot.tiff\"),\n",
    "    violin_counts_comparison = glue::glue(\"{output_base_path}/plots/violin_counts_comparison.tiff\"),\n",
    "    scan1_violin_file_path_genes = FALSE, # glue::glue(\"{output_base_path}/plots/scan_violin_plot_genes.tiff\"),\n",
    "    scan1_violin_file_path_counts = FALSE, # glue::glue(\"{output_base_path}/plots/scan_violin_plot_counts.tiff\"),\n",
    "    scan1_violin_file_path_mt = FALSE, # glue::glue(\"{output_base_path}/plots/scan_violin_plot_mt.tiff\"),\n",
    "    scan2_violin_file_path_genes = FALSE, # glue::glue(\"{output_base_path}/plots/scan_violin_plot_genes.tiff\"),\n",
    "    scan2_violin_file_path_counts = FALSE, # glue::glue(\"{output_base_path}/plots/scan_violin_plot_counts.tiff\"),\n",
    "    scan2_violin_file_path_mt = FALSE, # glue::glue(\"{output_base_path}/plots/scan_violin_plot_mt.tiff\"),\n",
    "\n",
    "    upset_cells = glue::glue(\"{output_base_path}/plots/upset_cells.tiff\"),\n",
    "    upset_genes = glue::glue(\"{output_base_path}/plots/upset_genes.tiff\"),\n",
    "    upset_hvgs = glue::glue(\"{output_base_path}/plots/upset_hvgs.tiff\"),\n",
    "    upset_markers_genes_only = glue::glue(\"{output_base_path}/plots/upset_marker_genes_only.tiff\"),\n",
    "    upset_markers = glue::glue(\"{output_base_path}/plots/upset_markers.tiff\"),\n",
    "    euler_before_qc_cell_file_path = FALSE, # glue::glue(\"{output_base_path}/plots/euler_cells_beforeQC.tiff\"),\n",
    "    euler_before_qc_gene_file_path = FALSE, # glue::glue(\"{output_base_path}/plots/euler_genes_beforeQC.tiff\"),\n",
    "\n",
    "    euler_after_qc_cell_file_path = FALSE, # glue::glue(\"{output_base_path}/plots/euler_cells_afterQC.tiff\"),\n",
    "    euler_after_qc_gene_file_path = FALSE, # glue::glue(\"{output_base_path}/plots/euler_genes_afterQC.tiff\"),\n",
    "    euler_after_qc_hvg_file_path = FALSE, # glue::glue(\"{output_base_path}/plots/euler_hvgs_afterQC.tiff\"),\n",
    "    euler_after_qc_marker_file_path = FALSE, # glue::glue(\"{output_base_path}/plots/euler_markers.tiff\"),\n",
    "    euler_after_qc_marker_manual_bonferroni_file_path = FALSE, # glue::glue(\"{output_base_path}/plots/euler_markers_manual_bonferroni.tiff\"),\n",
    "    euler_after_qc_marker_genes_only = FALSE, # glue::glue(\"{output_base_path}/plots/euler_markers_genes.tiff\"),\n",
    "\n",
    "    pca_elbow_filepath_combined = FALSE, # glue::glue(\"{output_base_path}/plots/pca_elbow_combined.tiff\"),\n",
    "    pca_12_overlay_filepath = glue::glue(\"{output_base_path}/plots/pca_scatterplot_12.tiff\"),\n",
    "    pca_34_overlay_filepath = FALSE, # glue::glue(\"{output_base_path}/plots/pca_scatterplot_34.tiff\"),\n",
    "    pca_loading_diffs = FALSE, # glue::glue(\"{output_base_path}/plots/pc_loading_diffs.tiff\"),\n",
    "    pca_eigs_diff = FALSE, # glue::glue(\"{output_base_path}/plots/pc_eig_diff.tiff\"),\n",
    "    pca_cluster_filepath_scan1 = FALSE, # glue::glue(\"{output_base_path}/plots/pca_scatterplot_clusters_scan_{scan1_name}.tiff\"),\n",
    "    pca_cluster_filepath_scan2 = FALSE, # glue::glue(\"{output_base_path}/plots/pca_scatterplot_clusters_scan_{scan2_name}.tiff\"),\n",
    "    combined_pc_variance_loadings_plot = glue::glue(\"{output_base_path}/plots/combined_pc_variance_loadings_plot.tiff\"),\n",
    "    jaccards = FALSE, # glue::glue(\"{output_base_path}/plots/jaccards.tiff\"),\n",
    "    knn_scatterplot = FALSE, # glue::glue(\"{output_base_path}/plots/knn_scatterplot.tiff\"),\n",
    "    jaccard_degree_scatterplot = glue::glue(\"{output_base_path}/plots/jaccard_degree_scatterplot.tiff\"),\n",
    "    pheatmap = FALSE, # glue::glue(\"{output_base_path}/plots/cluster_pheatmap.tiff\"),\n",
    "    alluvial = glue::glue(\"{output_base_path}/plots/cluster_alluvial.tiff\"),\n",
    "    alluvial_legend = glue::glue(\"{output_base_path}/plots/cluster_alluvial_legend.tiff\"),\n",
    "    alluvial_legend_high_alpha = glue::glue(\"{output_base_path}/plots/cluster_alluvial_legend_high_alpha.tiff\"),\n",
    "    umap_scan1 = glue::glue(\"{output_base_path}/plots/umap_scan_{scan1_name}.tiff\"),\n",
    "    umap_scan2 = glue::glue(\"{output_base_path}/plots/umap_scan_{scan2_name}.tiff\"),\n",
    "    umap_scan1_clusters_scan2 = glue::glue(\"{output_base_path}/plots/umap_scan_{scan1_name}_clusters_{scan2_name}.tiff\"),\n",
    "    umap_scan2_clusters_scan1 = glue::glue(\"{output_base_path}/plots/umap_scan_{scan2_name}_clusters_{scan1_name}.tiff\"),\n",
    "    umap_jaccard_degree_scatterplot = glue::glue(\"{output_base_path}/plots/umap_jaccard_degree_scatterplot.tiff\"),\n",
    "    umap_jaccard_knn_density = glue::glue(\"{output_base_path}/plots/umap_jaccard_knn_density.tiff\"),\n",
    "    umap_jaccard_knn_density_scan1_facet = glue::glue(\"{output_base_path}/plots/umap_jaccard_knn_density_scan1_facet.tiff\"),\n",
    "    umap_jaccard_knn_density_scan2_facet = glue::glue(\"{output_base_path}/plots/umap_jaccard_knn_density_scan2_facet.tiff\"),\n",
    "    umap_alluvial = glue::glue(\"{output_base_path}/plots/umap_alluvial.tiff\"),\n",
    "    umap_alluvial_legend = glue::glue(\"{output_base_path}/plots/umap_alluvial_legend.tiff\"),\n",
    "    umap_umap_leiden_scan1 = glue::glue(\"{output_base_path}/plots/umap_umap_leiden_scan1.tiff\"),\n",
    "    umap_umap_leiden_scan2 = glue::glue(\"{output_base_path}/plots/umap_umap_leiden_scan2.tiff\"),\n",
    "    logFC_histogram_magnitude_file_path = FALSE, # glue::glue(\"{output_base_path}/plots/logFC_histogram_magnitude.tiff\"),\n",
    "    logFC_histogram_signed_file_path = FALSE, # glue::glue(\"{output_base_path}/plots/logFC_histogram_signed.tiff\"),\n",
    "    wilcoxon_histogram_magnitude_file_path = FALSE, # glue::glue(\"{output_base_path}/plots/wilcoxon_histogram_magnitude.tiff\"),\n",
    "    wilcoxon_histogram_signed_file_path = FALSE, # glue::glue(\"{output_base_path}/plots/wilcoxon_histogram_signed.tiff\"),\n",
    "\n",
    "    logFC_scatterplot_file_path = glue::glue(\"{output_base_path}/plots/logFC_scatterplot.tiff\"),\n",
    "    wilcoxon_scatterplot_file_path = glue::glue(\"{output_base_path}/plots/wilcoxon_scatterplot.tiff\"),\n",
    "    logFC_scatterplot_file_path_with_legend = glue::glue(\"{output_base_path}/plots/logFC_scatterplot_with_legend.tiff\"),\n",
    "    logFC_scatterplot_outliers_removed_file_path = FALSE, # glue::glue(\"{output_base_path}/plots/logFC_scatterplot_no_outliers.tiff\"),\n",
    "    wilcoxon_scatterplot_outliers_removed_file_path = FALSE, # glue::glue(\"{output_base_path}/plots/wilcoxon_scatterplot_no_outliers.tiff\"),\n",
    "\n",
    "    logFC_boxplot_magnitude_file_path = FALSE, # glue::glue(\"{output_base_path}/plots/logFC_boxplot_magnitude.tiff\"),\n",
    "    logFC_boxplot_signed_file_path = FALSE, # glue::glue(\"{output_base_path}/plots/logFC_boxplot_signed.tiff\"),\n",
    "    wilcoxon_boxplot_magnitude_file_path = FALSE, # glue::glue(\"{output_base_path}/plots/wilcoxon_boxplot_magnitude.tiff\"),\n",
    "    wilcoxon_boxplot_signed_file_path = FALSE, # glue::glue(\"{output_base_path}/plots/wilcoxon_boxplot_signed.tiff\"),\n",
    "\n",
    "    FC_histogram_magnitude_file_path = FALSE, # glue::glue(\"{output_base_path}/plots/FC_histogram_magnitude.tiff\"),\n",
    "    FC_histogram_signed_file_path = FALSE # glue::glue(\"{output_base_path}/plots/FC_histogram_signed.tiff\")\n",
    ")\n",
    "\n",
    "if (save_data) {\n",
    "    for (path in output_data_file_paths) {\n",
    "        dir.create(dirname(path), recursive = TRUE, showWarnings = FALSE)\n",
    "    }\n",
    "    \n",
    "    for (path in file_paths) {\n",
    "        if (is.character(path)) {\n",
    "            # Extract the directory part of the path\n",
    "            specific_output_path <- dirname(path)\n",
    "\n",
    "            # Create the directory if it does not exist\n",
    "            if (!dir.exists(specific_output_path)) {\n",
    "                dir.create(specific_output_path, recursive = TRUE, showWarnings = FALSE)\n",
    "            }\n",
    "        }\n",
    "    }\n",
    "    \n",
    "    for (file in c(file_paths$euler_stats_after_QC_file, file_paths$pca_knn_clustering_umap_file, file_paths$de_stats_file)) {\n",
    "        if (is.character(file)) {\n",
    "            sink(file = file, append = FALSE)\n",
    "            sink()\n",
    "        }\n",
    "    }\n",
    "} else {\n",
    "    for (i in seq_along(file_paths)) {\n",
    "        file_paths[[i]] <- FALSE\n",
    "    }\n",
    "}"
   ]
  },
  {
   "cell_type": "markdown",
   "id": "56f48daa",
   "metadata": {},
   "source": [
    "R Imports"
   ]
  },
  {
   "cell_type": "code",
   "execution_count": null,
   "id": "82f715fc",
   "metadata": {},
   "outputs": [],
   "source": [
    "Sys.setenv(RETICULATE_PYTHON = paste(\"/home/rstudio/.conda/envs\", conda_env, \"bin/python3.9\", sep = \"/\"))\n",
    "library(reticulate)\n",
    "use_condaenv(conda_env)\n",
    "library(Seurat)\n",
    "library(Matrix)\n",
    "library(tidyverse)\n",
    "library(patchwork)\n",
    "library(eulerr)\n",
    "library(scattermore)\n",
    "library(DropletUtils)\n",
    "library(glue)\n",
    "library(bluster)\n",
    "library(ggforce)\n",
    "library(ggplotify)\n",
    "library(grid)\n",
    "library(gtable)\n",
    "library(ggalluvial)\n",
    "theme_set(theme_bw(base_family = \"Arial\"))\n",
    "\n",
    "source(glue(\"{project_base_path}/scripts/data_analysis_helper.R\"))\n",
    "source(glue(\"{project_base_path}/scripts/plotting_and_stats.R\"))"
   ]
  },
  {
   "cell_type": "markdown",
   "id": "93ec4104",
   "metadata": {},
   "source": [
    "Set arguments for functions"
   ]
  },
  {
   "cell_type": "code",
   "execution_count": null,
   "id": "ebdb4c2c",
   "metadata": {},
   "outputs": [],
   "source": [
    "scanpy_hvg_flavor <- \"seurat\"\n",
    "n_top_genes <- NULL\n",
    "scanpy_scale_max <- NULL\n",
    "scanpy_pca_zero_center <- TRUE\n",
    "scan_n_neighbors <- 15\n",
    "scanpy_clustering_algorithm <- \"leiden\"\n",
    "scanpy_resolution <- 1\n",
    "scanpy_cluster_iters <- -1\n",
    "scanpy_umap_min_dist <- 0.5\n",
    "scanpy_correction_method <- \"benjamini-hochberg\""
   ]
  },
  {
   "cell_type": "markdown",
   "id": "8ed9d243",
   "metadata": {},
   "source": [
    "Download data if necessary"
   ]
  },
  {
   "cell_type": "code",
   "execution_count": null,
   "id": "bac68bea",
   "metadata": {},
   "outputs": [],
   "source": [
    "py_run_string('import sys\n",
    "sys.path.append(f\"{r.project_base_path}/scripts\")\n",
    "from download_data import *\n",
    "\n",
    "if not os.path.exists(r.scan1_data_path) or not os.listdir(r.scan1_data_path):\n",
    "    r.scan1_data_path = download_and_extract(r.doi, r.scan1_data_name_from_download, r.data_path_root, r.scan1_data_path)\n",
    "if not os.path.exists(r.scan2_data_path) or not os.listdir(r.scan2_data_path):\n",
    "    r.scan2_data_path = download_and_extract(r.doi, r.scan2_data_name_from_download, r.data_path_root, r.scan2_data_path)')"
   ]
  },
  {
   "cell_type": "markdown",
   "id": "f31985e2",
   "metadata": {},
   "source": [
    "Python imports and setting up variables"
   ]
  },
  {
   "cell_type": "code",
   "execution_count": null,
   "id": "e21c6922",
   "metadata": {},
   "outputs": [],
   "source": [
    "py_run_string('import os \n",
    "import shutil\n",
    "import scanpy as sc\n",
    "import pandas as pd\n",
    "import matplotlib.pyplot as plt\n",
    "import numpy as np\n",
    "import anndata\n",
    "import hdf5plugin\n",
    "import pickle\n",
    "import copy\n",
    "import kb_python.utils as kb_utils\n",
    "\n",
    "np.random.seed(int(r.R_random_seed))\n",
    "\n",
    "\n",
    "scan1_read_fraction_after_downsampling = r.scan1_read_fraction_after_downsampling\n",
    "scan2_read_fraction_after_downsampling = r.scan2_read_fraction_after_downsampling\n",
    "\n",
    "scan1_matrix_generation_method = r.scan1_matrix_generation_method\n",
    "scan2_matrix_generation_method = r.scan2_matrix_generation_method\n",
    "\n",
    "scan1_data_path = r.scan1_data_path\n",
    "scan2_data_path = r.scan2_data_path\n",
    "\n",
    "scan1_num_pcs = r.scan1_num_pcs\n",
    "scan2_num_pcs = r.scan2_num_pcs\n",
    "\n",
    "data_input = r.data_input\n",
    "\n",
    "if r.n_top_genes:\n",
    "    n_top_genes = int(r.n_top_genes)\n",
    "else:\n",
    "    n_top_genes = r.n_top_genes\n",
    "    \n",
    "def save_scanpy_image(filepath):\n",
    "    if filepath:\n",
    "        save_file = os.path.basename(filepath)\n",
    "    else:\n",
    "        save_file = None\n",
    "    return save_file')"
   ]
  },
  {
   "cell_type": "markdown",
   "id": "9c5320f0",
   "metadata": {},
   "source": [
    "Import adata1"
   ]
  },
  {
   "cell_type": "code",
   "execution_count": null,
   "id": "2b24c9fd",
   "metadata": {},
   "outputs": [],
   "source": [
    "py_run_string('if (scan1_matrix_generation_method==\"kb\"):\n",
    "    adata1 = kb_utils.import_matrix_as_anndata(f\"{scan1_data_path}/cells_x_genes.mtx\",f\"{scan1_data_path}/cells_x_genes.barcodes.txt\",f\"{scan1_data_path}/cells_x_genes.genes.txt\")\n",
    "elif scan1_matrix_generation_method==\"cellranger\":\n",
    "    adata1 = sc.read_10x_mtx(scan1_data_path, var_names=\\'gene_ids\\')\n",
    "\n",
    "adata1_unfiltered = adata1.copy()\n",
    "\n",
    "if r.scan1_cell_fraction_after_downsampling != \"1_0\":\n",
    "    total_cells1 = adata1.n_obs\n",
    "    numeric_scan1_cell_fraction_after_downsampling = float(r.scan1_cell_fraction_after_downsampling.replace(\"_\", \".\"))\n",
    "    cells_to_sample1 = round(total_cells1 * numeric_scan1_cell_fraction_after_downsampling)\n",
    "    sampled_cells_indices1 = np.random.choice(total_cells1, cells_to_sample1, replace=False)\n",
    "    adata1 = adata1[sampled_cells_indices1]')"
   ]
  },
  {
   "cell_type": "markdown",
   "id": "2eeaf32d",
   "metadata": {},
   "source": [
    "Knee plot"
   ]
  },
  {
   "cell_type": "code",
   "execution_count": null,
   "id": "285517c8",
   "metadata": {},
   "outputs": [],
   "source": [
    "if (scan1_matrix_generation_method == \"kb\") {\n",
    "    res_mat1 <- read_count_output_modified(scan1_data_path, name = \"cells_x_genes\", tcc = FALSE)\n",
    "} else if (scan1_matrix_generation_method == \"cellranger\") {\n",
    "    res_mat1 <- Read10X(scan1_data_path, gene.column = 1)\n",
    "} else {\n",
    "    print(scan1_matrix_generation_method, \"is not a valid input for scan1_matrix_generation_method\")\n",
    "}\n",
    "\n",
    "if (scan1_cell_fraction_after_downsampling != \"1_0\") {\n",
    "    total_cells <- ncol(res_mat1)\n",
    "    numeric_scan1_cell_fraction_after_downsampling <- gsub(\"_\", \".\", scan1_cell_fraction_after_downsampling) %>% as.numeric()\n",
    "    cells_to_sample <- round(total_cells * numeric_scan1_cell_fraction_after_downsampling)\n",
    "    sampled_cells <- sample(total_cells, cells_to_sample)\n",
    "    res_mat1 <- res_mat1[, sampled_cells]\n",
    "}\n",
    "\n",
    "tot_counts1 <- Matrix::colSums(res_mat1)\n",
    "bc_rank1 <- barcodeRanks(res_mat1)\n",
    "\n",
    "knee_plot1 <- make_knee_plot(bc_rank1, save = file_paths$knee_plot1)\n",
    "knee_plot1"
   ]
  },
  {
   "cell_type": "markdown",
   "id": "529a7a51",
   "metadata": {},
   "source": [
    "Select threshold for knee plot"
   ]
  },
  {
   "cell_type": "code",
   "execution_count": null,
   "id": "f1a40f05",
   "metadata": {},
   "outputs": [],
   "source": [
    "if (scan1_inflection_UMI_manual == \"\") {\n",
    "    UMI_cutoff1 <- scan1_inflection_UMI_manual\n",
    "} else {\n",
    "    UMI_cutoff1 <- metadata(bc_rank1)$inflection\n",
    "}\n",
    "rank_at_inflection1 <- max(bc_rank1$rank[bc_rank1$total > UMI_cutoff1])"
   ]
  },
  {
   "cell_type": "markdown",
   "id": "7d745ca0",
   "metadata": {},
   "source": [
    "Apply filtering from knee plot"
   ]
  },
  {
   "cell_type": "code",
   "execution_count": null,
   "id": "61366dde",
   "metadata": {},
   "outputs": [],
   "source": [
    "py_run_string('# Apply filtering of knee plot\n",
    "sc.pp.filter_cells(adata1, min_counts=r.UMI_cutoff1)  # r.UMI_cutoff (same cutoff as R default) OR custom number\n",
    "sc.pp.filter_genes(adata1, min_counts=1)\n",
    "\n",
    "adata1.var_names_make_unique()\n",
    "sc.pp.filter_cells(adata1, min_genes=r.scan1_min_features)\n",
    "sc.pp.filter_genes(adata1, min_cells=r.scan1_min_cells)')"
   ]
  },
  {
   "cell_type": "markdown",
   "id": "71f407a2",
   "metadata": {},
   "source": [
    "Import adata2"
   ]
  },
  {
   "cell_type": "code",
   "execution_count": null,
   "id": "5ee6fb27",
   "metadata": {},
   "outputs": [],
   "source": [
    "py_run_string('if (scan2_matrix_generation_method==\"kb\"):\n",
    "    adata2 = kb_utils.import_matrix_as_anndata(f\"{scan2_data_path}/cells_x_genes.mtx\",f\"{scan2_data_path}/cells_x_genes.barcodes.txt\",f\"{scan2_data_path}/cells_x_genes.genes.txt\")\n",
    "elif scan2_matrix_generation_method==\"cellranger\":\n",
    "    adata2 = sc.read_10x_mtx(scan2_data_path, var_names=\\'gene_ids\\')\n",
    "    \n",
    "adata2_unfiltered = adata2.copy()\n",
    "\n",
    "if r.scan2_cell_fraction_after_downsampling != \"1_0\":\n",
    "    total_cells2 = adata2.n_obs\n",
    "    numeric_scan2_cell_fraction_after_downsampling = float(r.scan2_cell_fraction_after_downsampling.replace(\"_\", \".\"))\n",
    "    cells_to_sample2 = round(total_cells2 * numeric_scan2_cell_fraction_after_downsampling)\n",
    "    sampled_cells_indices2 = np.random.choice(total_cells2, cells_to_sample2, replace=False)\n",
    "    adata2 = adata2[sampled_cells_indices2]')"
   ]
  },
  {
   "cell_type": "markdown",
   "id": "e73fa382",
   "metadata": {},
   "source": [
    "Knee plot"
   ]
  },
  {
   "cell_type": "code",
   "execution_count": null,
   "id": "0c3f4446",
   "metadata": {},
   "outputs": [],
   "source": [
    "if (scan2_matrix_generation_method == \"kb\") {\n",
    "    res_mat2 <- read_count_output_modified(scan2_data_path, name = \"cells_x_genes\", tcc = FALSE)\n",
    "} else if (scan2_matrix_generation_method == \"cellranger\") {\n",
    "    res_mat2 <- Read10X(scan2_data_path, gene.column = 1)\n",
    "} else {\n",
    "    print(scan2_matrix_generation_method, \"is not a valid input for scan2_matrix_generation_method\")\n",
    "}\n",
    "\n",
    "if (scan2_cell_fraction_after_downsampling != \"1_0\") {\n",
    "    total_cells <- ncol(res_mat2)\n",
    "    numeric_scan2_cell_fraction_after_downsampling <- gsub(\"_\", \".\", scan2_cell_fraction_after_downsampling) %>% as.numeric()\n",
    "    cells_to_sample <- round(total_cells * numeric_scan2_cell_fraction_after_downsampling)\n",
    "    sampled_cells <- sample(total_cells, cells_to_sample)\n",
    "    res_mat2 <- res_mat2[, sampled_cells]\n",
    "}\n",
    "\n",
    "tot_counts2 <- Matrix::colSums(res_mat2)\n",
    "bc_rank2 <- barcodeRanks(res_mat2)\n",
    "\n",
    "knee_plot2 <- make_knee_plot(bc_rank2, save = file_paths$knee_plot2)\n",
    "knee_plot2"
   ]
  },
  {
   "cell_type": "markdown",
   "id": "e988a42b",
   "metadata": {},
   "source": [
    "Select threshold for knee plot"
   ]
  },
  {
   "cell_type": "code",
   "execution_count": null,
   "id": "eb06f12f",
   "metadata": {},
   "outputs": [],
   "source": [
    "if (scan2_inflection_UMI_manual == \"\") {\n",
    "    UMI_cutoff2 <- scan2_inflection_UMI_manual\n",
    "} else {\n",
    "    UMI_cutoff2 <- metadata(bc_rank2)$inflection\n",
    "}\n",
    "rank_at_inflection2 <- max(bc_rank2$rank[bc_rank2$total > UMI_cutoff2])"
   ]
  },
  {
   "cell_type": "markdown",
   "id": "7cc9715d",
   "metadata": {},
   "source": [
    "Apply filtering from knee plot"
   ]
  },
  {
   "cell_type": "code",
   "execution_count": null,
   "id": "98997cab",
   "metadata": {},
   "outputs": [],
   "source": [
    "py_run_string('# Apply filtering of knee plot\n",
    "sc.pp.filter_cells(adata2, min_counts=r.UMI_cutoff2)  # r.UMI_cutoff (same cutoff as R default) OR custom number\n",
    "sc.pp.filter_genes(adata2, min_counts=1)\n",
    "\n",
    "adata2.var_names_make_unique()\n",
    "sc.pp.filter_cells(adata2, min_genes=r.scan2_min_features)\n",
    "sc.pp.filter_genes(adata2, min_cells=r.scan2_min_cells)')"
   ]
  },
  {
   "cell_type": "markdown",
   "id": "1cb6f82b",
   "metadata": {},
   "source": [
    "Record numbers used for filtering"
   ]
  },
  {
   "cell_type": "code",
   "execution_count": null,
   "id": "0c9139db",
   "metadata": {},
   "outputs": [],
   "source": [
    "if (is.character(file_paths$filter_arguments)) {\n",
    "    UMI_cutoff1_automatic_or_manual <- ifelse(scan1_inflection_UMI_manual == \"\", \"automatic\", \"manual\")\n",
    "    UMI_cutoff2_automatic_or_manual <- ifelse(scan2_inflection_UMI_manual == \"\", \"automatic\", \"manual\")\n",
    "    sink(file_paths$filter_arguments, append = FALSE, split = FALSE)\n",
    "    print(glue(\"UMI cutoff, scan1 ({scan1_name}): {UMI_cutoff1}\"))\n",
    "    print(glue(\"UMI cutoff automatic or manual, scan1 ({scan1_name}): {UMI_cutoff1_automatic_or_manual}\"))\n",
    "    print(glue(\"UMI cutoff, scan2 ({scan2_name}): {UMI_cutoff2}\"))\n",
    "    print(glue(\"UMI cutoff automatic or manual, scan2 ({scan2_name}): {UMI_cutoff2_automatic_or_manual}\"))\n",
    "    print(glue(\"Minimum cells per gene, scan1 ({scan1_name}): {scan1_min_cells}\"))\n",
    "    print(glue(\"Minimum cells per gene, scan2 ({scan2_name}): {scan2_min_cells}\"))\n",
    "    print(glue(\"Minimum genes per cell, scan1 ({scan1_name}): {scan1_min_features}\"))\n",
    "    print(glue(\"Minimum genes per cell, scan2 ({scan2_name}): {scan2_min_features}\"))\n",
    "    sink()\n",
    "}"
   ]
  },
  {
   "cell_type": "markdown",
   "id": "3c393661",
   "metadata": {},
   "source": [
    "Upset plots before filtering by cells, genes, MT genes"
   ]
  },
  {
   "cell_type": "code",
   "execution_count": null,
   "id": "98e606b0",
   "metadata": {},
   "outputs": [],
   "source": [
    "# pre_filtering_upset_cell <- make_upset_scanpy(adata1 = res_mat1, adata2 = res_mat2, comparison = \"Cell\", group_names = scanpy_group_names, before_filtering = TRUE, as_ggplot = FALSE, save = file_paths$pre_filtering_upset_cell)\n",
    "# pre_filtering_upset_gene <- make_upset_scanpy(adata1 = res_mat1, adata2 = res_mat2, comparison = \"Gene\", group_names = scanpy_group_names, before_filtering = TRUE, as_ggplot = FALSE, save = file_paths$pre_filtering_upset_gene)"
   ]
  },
  {
   "cell_type": "markdown",
   "id": "9d5419ab",
   "metadata": {},
   "source": [
    "Euler plots of cell, gene overlap before QC"
   ]
  },
  {
   "cell_type": "code",
   "execution_count": null,
   "id": "3d542060",
   "metadata": {},
   "outputs": [],
   "source": [
    "# make_euler_scanpy(py$adata1, py$adata2, comparison = \"Gene\", group_names = scanpy_group_names, save_plot = file_paths$euler_after_qc_gene_file_path, save_stats = file_paths$euler_stats_before_QC_file, before_QC = TRUE)\n",
    "# make_euler_scanpy(py$adata1, py$adata2, comparison = \"Cell\", group_names = scanpy_group_names, save_plot = file_paths$euler_after_qc_gene_file_path,  save_stats = file_paths$euler_stats_before_QC_file, before_QC = TRUE)"
   ]
  },
  {
   "cell_type": "markdown",
   "id": "d4e48f49",
   "metadata": {},
   "source": [
    "UMI scatterplot between the two groups"
   ]
  },
  {
   "cell_type": "code",
   "execution_count": null,
   "id": "56d8f8e5",
   "metadata": {},
   "outputs": [],
   "source": [
    "# umi_scatterplot <- make_umi_scatterplot(res_mat1 = res_mat1, res_mat2 = res_mat2, UMI_cutoff1 = UMI_cutoff1, UMI_cutoff2 = UMI_cutoff2, res_mat1_name = scanpy_group_names$Scanpy1, res_mat2_name = scanpy_group_names$Scanpy2, point_density = TRUE, color_points = FALSE, save = file_paths$umi_scatterplot)\n",
    "# umi_scatterplot"
   ]
  },
  {
   "cell_type": "markdown",
   "id": "5852d3de",
   "metadata": {},
   "source": [
    "Find list of mitochondrial Ensembl gene names"
   ]
  },
  {
   "cell_type": "code",
   "execution_count": null,
   "id": "f64f96ab",
   "metadata": {},
   "outputs": [],
   "source": [
    "# ensembl <- biomaRt::useMart(\"ensembl\", dataset = \"hsapiens_gene_ensembl\")  # Service may be down on this mirror\n",
    "# ensembl <- biomaRt::useEnsembl(biomart = \"ensembl\", dataset = \"hsapiens_gene_ensembl\", mirror = \"useast\")\n",
    "# mt_genes <- biomaRt::getBM(attributes = c('ensembl_gene_id', 'external_gene_name'), filters = 'chromosome_name', values = 'MT', mart = ensembl)\n",
    "\n",
    "mt_genes <- data.frame(ensembl_gene_id = c(\"ENSG00000210049\", \"ENSG00000211459\", \"ENSG00000210077\", \"ENSG00000210082\", \"ENSG00000209082\", \"ENSG00000198888\", \"ENSG00000210100\", \"ENSG00000210107\", \"ENSG00000210112\", \"ENSG00000198763\", \"ENSG00000210117\", \"ENSG00000210127\", \"ENSG00000210135\", \"ENSG00000210140\", \"ENSG00000210144\", \"ENSG00000198804\", \"ENSG00000210151\", \"ENSG00000210154\", \"ENSG00000198712\", \"ENSG00000210156\", \"ENSG00000228253\", \"ENSG00000198899\", \"ENSG00000198938\", \"ENSG00000210164\", \"ENSG00000198840\", \"ENSG00000210174\", \"ENSG00000212907\", \"ENSG00000198886\", \"ENSG00000210176\", \"ENSG00000210184\", \"ENSG00000210191\", \"ENSG00000198786\", \"ENSG00000198695\", \"ENSG00000210194\", \"ENSG00000198727\", \"ENSG00000210195\", \"ENSG00000210196\"))"
   ]
  },
  {
   "cell_type": "markdown",
   "id": "3d7a3025",
   "metadata": {},
   "source": [
    "QC and filter high mito cells out of Scanpy1, Violin plots"
   ]
  },
  {
   "cell_type": "code",
   "execution_count": null,
   "id": "4de914a0",
   "metadata": {},
   "outputs": [],
   "source": [
    "py_run_string('sc_mito_genes = r.mt_genes.ensembl_gene_id.tolist()\n",
    "adata1.var[\\'mt\\'] = adata1.var_names.isin(sc_mito_genes)\n",
    "\n",
    "if r.scanpy_minor_version >= 5:\n",
    "    sc.pp.calculate_qc_metrics(adata1, qc_vars=[\\'mt\\'], percent_top=None, log1p=False, inplace=True)\n",
    "    gene_obs_name = \\'n_genes_by_counts\\'\n",
    "    count_obs_name = \\'total_counts\\'\n",
    "else:\n",
    "    gene_obs_name = \\'n_genes\\'\n",
    "    count_obs_name = \\'n_counts\\'\n",
    "\n",
    "# Extracting gene names from adata and trimming any versions (like \\'.1\\', \\'.2\\', etc.)\n",
    "adata1_gene_names_trimmed = [name.split(\\'.\\')[0] for name in adata1.var_names]\n",
    "\n",
    "# Finding the intersection of mitochondrial genes with genes in adata\n",
    "common_genes1 = list(set(sc_mito_genes) & set(adata1_gene_names_trimmed))\n",
    "\n",
    "# Calculate the percentage of mitochondrial reads for each cell\n",
    "adata1.obs[\\'pct_mt\\'] = np.sum(\n",
    "    adata1[:, [adata1.var_names[i] for i, name in enumerate(adata1_gene_names_trimmed) if name in common_genes1]].X, \n",
    "    axis=1\n",
    ") / np.sum(adata1.X, axis=1) * 100\n",
    "\n",
    "save_genes1 = save_scanpy_image(r.file_paths[f\"scan1_violin_file_path_genes\"])\n",
    "save_counts1 = save_scanpy_image(r.file_paths[f\"scan1_violin_file_path_counts\"])\n",
    "save_mt1 = save_scanpy_image(r.file_paths[f\"scan1_violin_file_path_mt\"])\n",
    "\n",
    "if r.scanpy_minor_version >= 5:\n",
    "    # sc.pl.violin(adata1, [gene_obs_name, count_obs_name, \\'pct_mt\\'], jitter=0.4, multi_panel = True)\n",
    "    sc.pl.violin(adata1, [gene_obs_name], jitter=0.4, size=0, save = save_genes1)\n",
    "    sc.pl.violin(adata1, [count_obs_name], jitter=0.4, size=0, save = save_counts1)\n",
    "    sc.pl.violin(adata1, keys = [\\'pct_mt\\'], jitter=0.4, size=0, save = save_mt1)\n",
    "\n",
    "if r.file_paths[f\"scan1_violin_file_path_genes\"]:\n",
    "    shutil.move(f\"{os.getcwd()}/{save_genes}\", r.file_paths[f\"scan1_violin_file_path_genes\"])\n",
    "    \n",
    "if r.file_paths[f\"scan1_violin_file_path_counts\"]:\n",
    "    shutil.move(f\"{os.getcwd()}/{save_counts}\", r.file_paths[f\"scan1_violin_file_path_counts\"])\n",
    "    \n",
    "if r.file_paths[f\"scan1_violin_file_path_mt\"]:\n",
    "    shutil.move(f\"{os.getcwd()}/{save_mt}\", r.file_paths[f\"scan1_violin_file_path_mt\"])\n",
    "\n",
    "pct_cells_over_threshold_mct = np.mean(adata1.obs[\\'pct_mt\\'] > r.max_pct_mct) * 100\n",
    "print(f\"percentage of genes with %mct > threshold: {pct_cells_over_threshold_mct}\")\n",
    "\n",
    "# Filter out cells where the percentage of mitochondrial reads is > 20%\n",
    "adata1 = adata1[adata1.obs[\\'pct_mt\\'] < r.max_pct_mct, :]\n",
    "\n",
    "pct_cells_over_threshold_genes_by_counts = np.mean(adata1.obs[gene_obs_name] > r.scan1_max_n_genes_by_counts_scanpy) * 100\n",
    "print(f\"percentage of genes with n_genes_by_count > threshold: {pct_cells_over_threshold_genes_by_counts}\")\n",
    "adata1 = adata1[adata1.obs[gene_obs_name] < r.scan1_max_n_genes_by_counts_scanpy, :]\n",
    "    \n",
    "# Filter adata to only include the common cells \n",
    "cells_adata1 = adata1.obs_names.tolist()\n",
    "\n",
    "# Convert the cell lists to sets\n",
    "cells_adata_set1 = set(cells_adata1)')"
   ]
  },
  {
   "cell_type": "markdown",
   "id": "36f54d5b",
   "metadata": {},
   "source": [
    "QC and filter high mito cells out of Scanpy2, Violin plots"
   ]
  },
  {
   "cell_type": "code",
   "execution_count": null,
   "id": "45af5f20",
   "metadata": {},
   "outputs": [],
   "source": [
    "py_run_string('adata2.var[\\'mt\\'] = adata2.var_names.isin(sc_mito_genes)\n",
    "\n",
    "if r.scanpy_minor_version >= 5:\n",
    "    sc.pp.calculate_qc_metrics(adata2, qc_vars=[\\'mt\\'], percent_top=None, log1p=False, inplace=True)\n",
    "    gene_obs_name = \\'n_genes_by_counts\\'\n",
    "    count_obs_name = \\'total_counts\\'\n",
    "else:\n",
    "    gene_obs_name = \\'n_genes\\'\n",
    "    count_obs_name = \\'n_counts\\'\n",
    "\n",
    "# Extracting gene names from adata and trimming any versions (like \\'.1\\', \\'.2\\', etc.)\n",
    "adata2_gene_names_trimmed = [name.split(\\'.\\')[0] for name in adata2.var_names]\n",
    "\n",
    "# Finding the intersection of mitochondrial genes with genes in adata\n",
    "common_genes2 = list(set(sc_mito_genes) & set(adata2_gene_names_trimmed))\n",
    "\n",
    "# Calculate the percentage of mitochondrial reads for each cell\n",
    "adata2.obs[\\'pct_mt\\'] = np.sum(\n",
    "    adata2[:, [adata2.var_names[i] for i, name in enumerate(adata2_gene_names_trimmed) if name in common_genes2]].X, \n",
    "    axis=1\n",
    ") / np.sum(adata2.X, axis=1) * 100\n",
    "\n",
    "save_genes2 = save_scanpy_image(r.file_paths[f\"scan2_violin_file_path_genes\"])\n",
    "save_counts2 = save_scanpy_image(r.file_paths[f\"scan2_violin_file_path_counts\"])\n",
    "save_mt2 = save_scanpy_image(r.file_paths[f\"scan2_violin_file_path_mt\"])\n",
    "\n",
    "if r.scanpy_minor_version >= 5:\n",
    "    # sc.pl.violin(adata, [\\'n_genes_by_counts\\', \\'total_counts\\', \\'pct_mt\\'], jitter=0.4, multi_panel = True)\n",
    "    sc.pl.violin(adata2, [gene_obs_name], jitter=0.4, size=0, save = save_genes2)\n",
    "    sc.pl.violin(adata2, [count_obs_name], jitter=0.4, size=0, save = save_counts2)\n",
    "    sc.pl.violin(adata2, [\\'pct_mt\\'], jitter=0.4, size=0, save = save_mt2)\n",
    "\n",
    "if r.file_paths[f\"scan2_violin_file_path_genes\"]:\n",
    "    shutil.move(f\"{os.getcwd()}/{save_genes}\", r.file_paths[f\"scan2_violin_file_path_genes\"])\n",
    "    \n",
    "if r.file_paths[f\"scan2_violin_file_path_counts\"]:\n",
    "    shutil.move(f\"{os.getcwd()}/{save_counts}\", r.file_paths[f\"scan2_violin_file_path_counts\"])\n",
    "    \n",
    "if r.file_paths[f\"scan2_violin_file_path_mt\"]:\n",
    "    shutil.move(f\"{os.getcwd()}/{save_mt}\", r.file_paths[f\"scan2_violin_file_path_mt\"])\n",
    "\n",
    "pct_cells_over_threshold_mct = np.mean(adata2.obs[\\'pct_mt\\'] > r.max_pct_mct) * 100\n",
    "print(f\"percentage of genes with %mct > threshold: {pct_cells_over_threshold_mct}\")\n",
    "\n",
    "# Filter out cells where the percentage of mitochondrial reads is > 20%\n",
    "adata2 = adata2[adata2.obs[\\'pct_mt\\'] < r.max_pct_mct, :]\n",
    "\n",
    "pct_cells_over_threshold_genes_by_counts = np.mean(adata2.obs[gene_obs_name] > r.scan2_max_n_genes_by_counts_scanpy) * 100\n",
    "print(f\"percentage of genes with n_genes_by_count > threshold: {pct_cells_over_threshold_genes_by_counts}\")\n",
    "adata2 = adata2[adata2.obs[gene_obs_name] < r.scan2_max_n_genes_by_counts_scanpy, :]\n",
    "    \n",
    "# Filter adata to only include the common cells \n",
    "cells_adata2 = adata2.obs_names.tolist()\n",
    "\n",
    "# Convert the cell lists to sets\n",
    "cells_adata_set2 = set(cells_adata2)')"
   ]
  },
  {
   "cell_type": "markdown",
   "id": "cc7ee156",
   "metadata": {},
   "source": [
    "Euler plots of cell, gene overlap after QC"
   ]
  },
  {
   "cell_type": "code",
   "execution_count": null,
   "id": "661f1755",
   "metadata": {},
   "outputs": [],
   "source": [
    "euler_cell_afterqc <- make_euler_scanpy(py$adata1, py$adata2, comparison = \"Cell\", group_names = scanpy_group_names, save_plot = file_paths$euler_after_qc_cell_file_path, save_stats = file_paths$euler_stats_after_QC_file)\n",
    "euler_gene_afterqc <- make_euler_scanpy(py$adata1, py$adata2, comparison = \"Gene\", group_names = scanpy_group_names, save_plot = file_paths$euler_after_qc_gene_file_path, save_stats = file_paths$euler_stats_after_QC_file)\n",
    "\n",
    "euler_cell_afterqc\n",
    "euler_gene_afterqc"
   ]
  },
  {
   "cell_type": "markdown",
   "id": "3b983a3b",
   "metadata": {},
   "source": [
    "Upset plots of cell, gene overlap after QC"
   ]
  },
  {
   "cell_type": "code",
   "execution_count": null,
   "id": "81f66d48",
   "metadata": {},
   "outputs": [],
   "source": [
    "upset_cell <- make_upset_scanpy(py$adata1, py$adata2, comparison = \"Cell\", group_names = scanpy_group_names, save = file_paths$upset_cells)\n",
    "upset_gene <- make_upset_scanpy(py$adata1, py$adata2, comparison = \"Gene\", group_names = scanpy_group_names, save = file_paths$upset_genes)\n",
    "py$adata1$write_h5ad(output_data_file_paths$adata1_object_all_genes, compression = py$hdf5plugin$FILTERS$zstd)\n",
    "py$adata2$write_h5ad(output_data_file_paths$adata2_object_all_genes, compression = py$hdf5plugin$FILTERS$zstd)"
   ]
  },
  {
   "cell_type": "markdown",
   "id": "86000557",
   "metadata": {},
   "source": [
    "Create cell and gene lists"
   ]
  },
  {
   "cell_type": "code",
   "execution_count": null,
   "id": "1790e094",
   "metadata": {},
   "outputs": [],
   "source": [
    "scan1_inds <- as.vector(py$adata1$obs_names$values)\n",
    "scan1_genes <- as.vector(py$adata1$var_names$values)\n",
    "\n",
    "scan2_inds <- as.vector(py$adata2$obs_names$values)\n",
    "scan2_genes <- as.vector(py$adata2$var_names$values)\n",
    "\n",
    "overlapping_inds <- intersect(scan1_inds, scan2_inds)\n",
    "overlapping_genes <- intersect(scan1_genes, scan2_genes)"
   ]
  },
  {
   "cell_type": "markdown",
   "id": "7f697cd6",
   "metadata": {},
   "source": [
    "If data_input == \"scan1\" or \"scan2\": Apply Cells and Genes to be the same for both objects"
   ]
  },
  {
   "cell_type": "code",
   "execution_count": null,
   "id": "f469b9e4",
   "metadata": {},
   "outputs": [],
   "source": [
    "py_run_string('if data_input == \"scan1\":\n",
    "    adata2 = adata2_unfiltered.copy()\n",
    "    if r.scan2_cell_fraction_after_downsampling != \"1_0\":\n",
    "        total_cells2 = adata2.n_obs\n",
    "        numeric_scan2_cell_fraction_after_downsampling = float(r.scan2_cell_fraction_after_downsampling.replace(\"_\", \".\"))\n",
    "        cells_to_sample2 = round(total_cells2 * numeric_scan2_cell_fraction_after_downsampling)\n",
    "        sampled_cells_indices2 = np.random.choice(total_cells2, cells_to_sample2, replace=False)\n",
    "        adata2 = adata2[sampled_cells_indices2]\n",
    "        sc.pp.filter_cells(adata2, min_counts=r.UMI_cutoff2)\n",
    "        adata2 = adata2[:, r.scan1_genes].copy()\n",
    "    else:\n",
    "        adata2 = adata2[r.scan1_inds, r.scan1_genes].copy()\n",
    "    adata2.var[\\'mt\\'] = adata2.var_names.isin(sc_mito_genes)\n",
    "    adata2_gene_names_trimmed = [name.split(\\'.\\')[0] for name in adata2.var_names]\n",
    "    common_genes = list(set(sc_mito_genes) & set(adata2_gene_names_trimmed))\n",
    "    adata2.obs[\\'pct_mt\\'] = np.sum(\n",
    "        adata2[:, [adata2.var_names[i] for i, name in enumerate(adata2_gene_names_trimmed) if name in common_genes]].X,\n",
    "        axis=1\n",
    "    ) / np.sum(adata2.X, axis=1) * 100\n",
    "    sc.pp.calculate_qc_metrics(adata2, qc_vars=[\\'mt\\'], percent_top=None, log1p=False, inplace=True)\n",
    "\n",
    "\n",
    "if data_input == \"scan2\":\n",
    "    adata1 = adata1_unfiltered.copy()\n",
    "    if r.scan1_cell_fraction_after_downsampling != \"1_0\":\n",
    "        total_cells1 = adata1.n_obs\n",
    "        numeric_scan1_cell_fraction_after_downsampling = float(r.scan1_cell_fraction_after_downsampling.replace(\"_\", \".\"))\n",
    "        cells_to_sample1 = round(total_cells1 * numeric_scan1_cell_fraction_after_downsampling)\n",
    "        sampled_cells_indices1 = np.random.choice(total_cells1, cells_to_sample1, replace=False)\n",
    "        adata1 = adata1[sampled_cells_indices1]\n",
    "        sc.pp.filter_cells(adata2, min_counts=r.UMI_cutoff2)\n",
    "        adata1 = adata1[:, r.scan2_genes].copy()\n",
    "    else:\n",
    "        adata1 = adata1[r.scan2_inds, r.scan2_genes].copy()\n",
    "    adata1.var[\\'mt\\'] = adata1.var_names.isin(sc_mito_genes)\n",
    "    adata1_gene_names_trimmed = [name.split(\\'.\\')[0] for name in adata1.var_names]\n",
    "    common_genes = list(set(sc_mito_genes) & set(adata1_gene_names_trimmed))\n",
    "    adata1.obs[\\'pct_mt\\'] = np.sum(\n",
    "        adata1[:, [adata1.var_names[i] for i, name in enumerate(adata1_gene_names_trimmed) if name in common_genes]].X,\n",
    "        axis=1\n",
    "    ) / np.sum(adata1.X, axis=1) * 100\n",
    "    sc.pp.calculate_qc_metrics(adata1, qc_vars=[\\'mt\\'], percent_top=None, log1p=False, inplace=True)')"
   ]
  },
  {
   "cell_type": "markdown",
   "id": "55403065",
   "metadata": {},
   "source": [
    "If data_input is not default, then recompute cell and gene lists"
   ]
  },
  {
   "cell_type": "code",
   "execution_count": null,
   "id": "8a826d3b",
   "metadata": {},
   "outputs": [],
   "source": [
    "if (data_input != \"default\") {\n",
    "    scan1_inds <- as.vector(py$adata1$obs_names$values)\n",
    "    scan1_genes <- as.vector(py$adata1$var_names$values)\n",
    "\n",
    "    scan2_inds <- as.vector(py$adata2$obs_names$values)\n",
    "    scan2_genes <- as.vector(py$adata2$var_names$values)\n",
    "\n",
    "    overlapping_inds <- intersect(scan1_inds, scan2_inds)\n",
    "    overlapping_genes <- intersect(scan1_genes, scan2_genes)\n",
    "\n",
    "    print(paste0(\"Cell vectors equal: \", all.equal(scan1_inds, scan2_inds)))\n",
    "    print(paste0(\"Gene vectors equal: \", all.equal(scan1_genes, scan2_genes)))\n",
    "}"
   ]
  },
  {
   "cell_type": "markdown",
   "id": "bae00583",
   "metadata": {},
   "source": [
    "Normalization"
   ]
  },
  {
   "cell_type": "code",
   "execution_count": null,
   "id": "1052b084",
   "metadata": {},
   "outputs": [],
   "source": [
    "py_run_string('if r.scanpy_hvg_flavor != \"seurat_v3\":\n",
    "    sc.pp.normalize_total(adata1, target_sum=1e4)\n",
    "    sc.pp.normalize_total(adata2, target_sum=1e4)')"
   ]
  },
  {
   "cell_type": "code",
   "execution_count": null,
   "id": "b6fd21d3",
   "metadata": {},
   "outputs": [],
   "source": [
    "py_run_string('if r.scanpy_hvg_flavor != \"seurat_v3\":\n",
    "    sc.pp.log1p(adata1)\n",
    "    sc.pp.log1p(adata2)')"
   ]
  },
  {
   "cell_type": "markdown",
   "id": "26f206ca",
   "metadata": {},
   "source": [
    "Check equivalency of normalization methods (assuming identical input)"
   ]
  },
  {
   "cell_type": "code",
   "execution_count": null,
   "id": "5bcec988",
   "metadata": {},
   "outputs": [],
   "source": [
    "mat_py1 <- py$adata1$X\n",
    "mat_py1 <- as(t(mat_py1), \"CsparseMatrix\")\n",
    "mat_py2 <- py$adata2$X\n",
    "mat_py2 <- as(t(mat_py2), \"CsparseMatrix\")\n",
    "equal_after_normalization <- all.equal(mat_py1@x, mat_py2@x)\n",
    "\n",
    "if (file_paths$euler_stats_after_QC_file != FALSE) {\n",
    "    sink(file_paths$euler_stats_after_QC_file, split = TRUE, append = TRUE)\n",
    "}\n",
    "\n",
    "print(glue(\"Equal after normalization: {equal_after_normalization}\"))\n",
    "\n",
    "if (file_paths$euler_stats_after_QC_file != FALSE) {\n",
    "    sink()\n",
    "}"
   ]
  },
  {
   "cell_type": "markdown",
   "id": "af0b1de2",
   "metadata": {},
   "source": [
    "Find HVGs"
   ]
  },
  {
   "cell_type": "code",
   "execution_count": null,
   "id": "7047f076",
   "metadata": {},
   "outputs": [],
   "source": [
    "py_run_string('sc.pp.highly_variable_genes(adata1, min_mean = 0.0125, max_mean = 3, min_disp = 0.5, n_top_genes = n_top_genes, flavor = r.scanpy_hvg_flavor)\n",
    "\n",
    "scanpy_highly_variable_genes1 = adata1.var.index[adata1.var[\\'highly_variable\\']]\n",
    "scanpy_highly_variable_genes_list1 = adata1.var[adata1.var[\\'highly_variable\\']].index.tolist()\n",
    "\n",
    "sc.pp.highly_variable_genes(adata2, min_mean = 0.0125, max_mean = 3, min_disp = 0.5, n_top_genes = n_top_genes, flavor = r.scanpy_hvg_flavor)\n",
    "\n",
    "scanpy_highly_variable_genes2 = adata2.var.index[adata2.var[\\'highly_variable\\']]\n",
    "scanpy_highly_variable_genes_list2 = adata2.var[adata2.var[\\'highly_variable\\']].index.tolist()')"
   ]
  },
  {
   "cell_type": "markdown",
   "id": "a8bcdff3",
   "metadata": {},
   "source": [
    "Euler plot of HVG overlap"
   ]
  },
  {
   "cell_type": "code",
   "execution_count": null,
   "id": "9d3d1f68",
   "metadata": {},
   "outputs": [],
   "source": [
    "euler_hvg_afterqc <- make_euler_scanpy(py$adata1, py$adata2, comparison = \"HVG\", group_names = scanpy_group_names, save_plot = file_paths$euler_after_qc_hvg_file_path, save_stats = file_paths$euler_stats_after_QC_file)\n",
    "euler_hvg_afterqc\n",
    "\n",
    "upset_hvg <- make_upset_scanpy(py$adata1, py$adata2, comparison = \"HVG\", group_names = scanpy_group_names, save = file_paths$upset_hvgs)"
   ]
  },
  {
   "cell_type": "code",
   "execution_count": null,
   "id": "19718933",
   "metadata": {},
   "outputs": [],
   "source": [
    "py_run_string('if r.scanpy_hvg_flavor == \"seurat_v3\":\n",
    "    sc.pp.normalize_total(adata1, target_sum=1e4)\n",
    "    sc.pp.normalize_total(adata2, target_sum=1e4)')"
   ]
  },
  {
   "cell_type": "code",
   "execution_count": null,
   "id": "f65638bd",
   "metadata": {},
   "outputs": [],
   "source": [
    "py_run_string('if r.scanpy_hvg_flavor == \"seurat_v3\":\n",
    "    sc.pp.log1p(adata1)\n",
    "    sc.pp.log1p(adata2)\n",
    "    \n",
    "adata1.raw = adata1\n",
    "adata2.raw = adata2')"
   ]
  },
  {
   "cell_type": "markdown",
   "id": "a54c866f",
   "metadata": {},
   "source": [
    "If data_input == \"scan1\" or \"scan2\": Apply HVGs from to be the same"
   ]
  },
  {
   "cell_type": "code",
   "execution_count": null,
   "id": "9c67ecc2",
   "metadata": {},
   "outputs": [],
   "source": [
    "py_run_string('if data_input == \"scan2\":\n",
    "    is_highly_variable = adata1.var_names.isin(scanpy_highly_variable_genes_list2)\n",
    "    adata1.var = adata1.var.assign(highly_variable = is_highly_variable)\n",
    "    scanpy_highly_variable_genes1 = adata1.var.index[adata1.var[\\'highly_variable\\']]\n",
    "    scanpy_highly_variable_genes_list1 = adata1.var[adata1.var[\\'highly_variable\\']].index.tolist()\n",
    "\n",
    "if data_input == \"scan1\":\n",
    "    is_highly_variable = adata2.var_names.isin(scanpy_highly_variable_genes_list1)\n",
    "    adata2.var = adata2.var.assign(highly_variable = is_highly_variable)\n",
    "    scanpy_highly_variable_genes2 = adata2.var.index[adata2.var[\\'highly_variable\\']]\n",
    "    scanpy_highly_variable_genes_list2 = adata2.var[adata2.var[\\'highly_variable\\']].index.tolist()')"
   ]
  },
  {
   "cell_type": "markdown",
   "id": "82e517a7",
   "metadata": {},
   "source": [
    "Make a combined list of HVGs"
   ]
  },
  {
   "cell_type": "code",
   "execution_count": null,
   "id": "80c93593",
   "metadata": {},
   "outputs": [],
   "source": [
    "hvgs <- list(Scanpy1 = py$scanpy_highly_variable_genes_list1, Scanpy2 = py$scanpy_highly_variable_genes_list2)"
   ]
  },
  {
   "cell_type": "markdown",
   "id": "057eed4a",
   "metadata": {},
   "source": [
    "Keep only HVGs, regress out features"
   ]
  },
  {
   "cell_type": "code",
   "execution_count": null,
   "id": "5aa0cfe9",
   "metadata": {},
   "outputs": [],
   "source": [
    "py_run_string('adata1 = adata1[:, adata1.var.highly_variable]\n",
    "sc.pp.regress_out(adata1, [count_obs_name, \\'pct_mt\\'])\n",
    "\n",
    "adata2 = adata2[:, adata2.var.highly_variable]\n",
    "sc.pp.regress_out(adata2, [count_obs_name, \\'pct_mt\\'])')"
   ]
  },
  {
   "cell_type": "markdown",
   "id": "a601902d",
   "metadata": {},
   "source": [
    "Scaling"
   ]
  },
  {
   "cell_type": "code",
   "execution_count": null,
   "id": "b80e9134",
   "metadata": {},
   "outputs": [],
   "source": [
    "py_run_string('sc.pp.scale(adata1, max_value=r.scanpy_scale_max)\n",
    "sc.pp.scale(adata2, max_value=r.scanpy_scale_max)')"
   ]
  },
  {
   "cell_type": "markdown",
   "id": "8b3615f2",
   "metadata": {},
   "source": [
    "PCA"
   ]
  },
  {
   "cell_type": "code",
   "execution_count": null,
   "id": "1d37d617",
   "metadata": {},
   "outputs": [],
   "source": [
    "py_run_string('sc.tl.pca(adata1, svd_solver=\\'arpack\\', zero_center = r.scanpy_pca_zero_center, random_state = int(r.pca_seed1))\n",
    "sc.pl.pca_variance_ratio(adata1, log=True, n_pcs=50)\n",
    "\n",
    "if scan1_num_pcs == None:\n",
    "    scan1_num_pcs = 50  # optimize as needed\n",
    "    \n",
    "    \n",
    "sc.tl.pca(adata2, svd_solver=\\'arpack\\', zero_center = r.scanpy_pca_zero_center, random_state = int(r.pca_seed2))\n",
    "sc.pl.pca_variance_ratio(adata2, log=True, n_pcs=50)\n",
    "\n",
    "if scan2_num_pcs == None:\n",
    "    scan2_num_pcs = 50  # optimize as needed')"
   ]
  },
  {
   "cell_type": "markdown",
   "id": "1348a547",
   "metadata": {},
   "source": [
    "Scree plot"
   ]
  },
  {
   "cell_type": "code",
   "execution_count": null,
   "id": "3c8265ff",
   "metadata": {},
   "outputs": [],
   "source": [
    "var_explained_py1 <- py$adata1$uns[[\"pca\"]][[\"variance_ratio\"]]\n",
    "var_explained_py2 <- py$adata2$uns[[\"pca\"]][[\"variance_ratio\"]]\n",
    "\n",
    "eigs_df <- tibble(\n",
    "    Scanpy1 = var_explained_py1,\n",
    "    Scanpy2 = var_explained_py2,\n",
    "    PC = 1:50\n",
    ")"
   ]
  },
  {
   "cell_type": "code",
   "execution_count": null,
   "id": "2818dd78",
   "metadata": {},
   "outputs": [],
   "source": [
    "combined_pc_variance <- plot_var_explained(eigs_df, npcs = 50, group_names = unlist(scanpy_group_names), save = file_paths$pca_elbow_filepath_combined)\n",
    "combined_pc_variance"
   ]
  },
  {
   "cell_type": "markdown",
   "id": "352e5d78",
   "metadata": {},
   "source": [
    "PCA scatterplot"
   ]
  },
  {
   "cell_type": "code",
   "execution_count": null,
   "id": "e810f92b",
   "metadata": {},
   "outputs": [],
   "source": [
    "py_run_string('sc.pl.pca(adata1)\n",
    "sc.pl.pca(adata2)')"
   ]
  },
  {
   "cell_type": "markdown",
   "id": "22009371",
   "metadata": {},
   "source": [
    "Create a collection of PCA embeddings"
   ]
  },
  {
   "cell_type": "code",
   "execution_count": null,
   "id": "5e897696",
   "metadata": {},
   "outputs": [],
   "source": [
    "pca_embeddings1 <- py$adata1$obsm[\"X_pca\"]\n",
    "pca_embeddings2 <- py$adata2$obsm[\"X_pca\"]\n",
    "\n",
    "rownames(pca_embeddings1) <- scan1_inds\n",
    "rownames(pca_embeddings2) <- scan2_inds\n",
    "\n",
    "all.equal(pca_embeddings1, pca_embeddings2)"
   ]
  },
  {
   "cell_type": "markdown",
   "id": "64b563b3",
   "metadata": {},
   "source": [
    "Overlay PCA scatterplots"
   ]
  },
  {
   "cell_type": "code",
   "execution_count": null,
   "id": "2eea25f7",
   "metadata": {},
   "outputs": [],
   "source": [
    "if (!identical(scan1_inds, scan2_inds)) {\n",
    "    pca_embeddings1 <- pca_embeddings1[rownames(pca_embeddings1) %in% overlapping_inds, ]\n",
    "    pca_embeddings2 <- pca_embeddings2[rownames(pca_embeddings2) %in% overlapping_inds, ]\n",
    "    \n",
    "    pca_embeddings2 <- pca_embeddings2[match(rownames(pca_embeddings1), rownames(pca_embeddings2)), ]\n",
    "}\n",
    "\n",
    "source(glue(\"{project_base_path}/scripts/plotting_and_stats.R\"))\n",
    "source(glue(\"{project_base_path}/scripts/data_analysis_helper.R\"))\n",
    "\n",
    "pca12_plot <- plot_pca_compare(pca_embeddings1, pca_embeddings2, group1_name = \"Scanpy1\", group2_name = \"Scanpy2\", group_labels = unlist(scanpy_group_names), save = file_paths$pca_12_overlay_filepath)\n",
    "pca34_plot <- plot_pca_compare(pca_embeddings1, pca_embeddings2, group1_name = \"Scanpy1\", group2_name = \"Scanpy2\", group_labels = unlist(scanpy_group_names), pcs = 3:4, save = file_paths$pca_34_overlay_filepath)\n",
    "\n",
    "pca12_plot\n",
    "pca34_plot"
   ]
  },
  {
   "cell_type": "code",
   "execution_count": null,
   "id": "01da6fac",
   "metadata": {},
   "outputs": [],
   "source": [
    "is_hvg_py1 <- py$adata1$var$highly_variable\n",
    "is_hvg_py2 <- py$adata2$var$highly_variable\n",
    "\n",
    "pca_loadings_scan1 <- py$adata1$varm[\"PCs\"]\n",
    "pca_loadings_scan2 <- py$adata2$varm[\"PCs\"]\n",
    "\n",
    "pca_loadings_scan1 <- pca_loadings_scan1[is_hvg_py1, ]\n",
    "pca_loadings_scan2 <- pca_loadings_scan2[is_hvg_py2, ]\n",
    "\n",
    "rownames(pca_loadings_scan1) <- hvgs$Scanpy1\n",
    "rownames(pca_loadings_scan2) <- hvgs$Scanpy2\n",
    "\n",
    "df_loadings <- make_pc_diffs_df(list(\n",
    "    Scanpy1 = pca_loadings_scan1,\n",
    "    Scanpy2 = pca_loadings_scan2\n",
    "), npcs = 50)\n",
    "\n",
    "mean_loadings_diff <- mean(df_loadings$differences[1:3])\n",
    "\n",
    "if (file_paths$pca_knn_clustering_umap_file != FALSE) {\n",
    "    sink(file_paths$pca_knn_clustering_umap_file, split = TRUE, append = TRUE)\n",
    "}\n",
    "\n",
    "print(glue(\"Mean loading difference of PC1-3: {mean_loadings_diff}\"))\n",
    "\n",
    "if (file_paths$pca_knn_clustering_umap_file != FALSE) {\n",
    "    sink()\n",
    "}\n",
    "\n",
    "mylist <- list(\n",
    "    Scanpy1 = pca_loadings_scan1,\n",
    "    Scanpy2 = pca_loadings_scan2\n",
    ")\n",
    "\n",
    "loading_diffs <- plot_loading_diffs(df_loadings, save = file_paths$pca_loading_diffs)\n",
    "\n",
    "df_eigs <- tibble(\n",
    "    `Scanpy1 vs. Scanpy2` = abs(var_explained_py1 - var_explained_py2),\n",
    "    PC = 1:50\n",
    ")\n",
    "\n",
    "df_eigs <- df_eigs |>\n",
    "    pivot_longer(-PC, names_to = \"type\", values_to = \"value\")\n",
    "\n",
    "eigs_diff <- plot_eigs_diffs(df_eigs, save = file_paths$pca_eigs_diff)\n",
    "\n",
    "loading_diffs\n",
    "eigs_diff"
   ]
  },
  {
   "cell_type": "markdown",
   "id": "eb8e64d5",
   "metadata": {},
   "source": [
    "Combine scree plot and eigenvector plot"
   ]
  },
  {
   "cell_type": "code",
   "execution_count": null,
   "id": "be6e3b87",
   "metadata": {},
   "outputs": [],
   "source": [
    "combined_plot <- make_combined_pc_variance_loadings_plot(combined_pc_variance, loading_diffs, save = file_paths$combined_pc_variance_loadings_plot)\n",
    "combined_plot"
   ]
  },
  {
   "cell_type": "markdown",
   "id": "fece5044",
   "metadata": {},
   "source": [
    "If data_input == \"scan1\" or \"scan2: Apply PCs to be the same"
   ]
  },
  {
   "cell_type": "code",
   "execution_count": null,
   "id": "1e05eb9a",
   "metadata": {},
   "outputs": [],
   "source": [
    "if (data_input == \"scan1\" && identical(scan1_inds, scan2_inds)) {\n",
    "    py$adata2$obsm[\"X_pca\"] <- py$adata1$obsm[\"X_pca\"]\n",
    "    py$adata2$varm[\"PCs\"] <- py$adata1$varm[\"PCs\"]\n",
    "    py$adata2$uns[[\"pca\"]][[\"variance_ratio\"]] <- py$adata1$uns[[\"pca\"]][[\"variance_ratio\"]]\n",
    "}\n",
    "\n",
    "if (data_input == \"scan2\" && identical(scan1_inds, scan2_inds)) {\n",
    "    py$adata1$obsm[\"X_pca\"] <- py$adata2$obsm[\"X_pca\"]\n",
    "    py$adata1$varm[\"PCs\"] <- py$adata2$varm[\"PCs\"]\n",
    "    py$adata1$uns[[\"pca\"]][[\"variance_ratio\"]] <- py$adata2$uns[[\"pca\"]][[\"variance_ratio\"]]\n",
    "}"
   ]
  },
  {
   "cell_type": "markdown",
   "id": "7b9b48b7",
   "metadata": {},
   "source": [
    "Neighbors"
   ]
  },
  {
   "cell_type": "code",
   "execution_count": null,
   "id": "56a2a270",
   "metadata": {},
   "outputs": [],
   "source": [
    "py_run_string('sc.pp.neighbors(adata1, n_neighbors=int(r.scan_n_neighbors), n_pcs=int(scan1_num_pcs))\n",
    "sc.pp.neighbors(adata2, n_neighbors=int(r.scan_n_neighbors), n_pcs=int(scan2_num_pcs))\n",
    "    \n",
    "if r.scanpy_minor_version >= 5:\n",
    "    snn_graph_scan1 = adata1.obsp[\\'connectivities\\']\n",
    "    knn_graph_scan1 = adata1.obsp[\\'distances\\']\n",
    "    snn_graph_scan2 = adata2.obsp[\\'connectivities\\']\n",
    "    knn_graph_scan2 = adata2.obsp[\\'distances\\']\n",
    "else:\n",
    "    snn_graph_scan1 = adata1.uns[\\'neighbors\\'][\\'connectivities\\']\n",
    "    knn_graph_scan1 = adata1.uns[\\'neighbors\\'][\\'distances\\']\n",
    "    snn_graph_scan2 = adata2.uns[\\'neighbors\\'][\\'connectivities\\']\n",
    "    knn_graph_scan2 = adata2.uns[\\'neighbors\\'][\\'distances\\']')"
   ]
  },
  {
   "cell_type": "markdown",
   "id": "b648ae09",
   "metadata": {},
   "source": [
    "Plot SNN graph jaccard indices (ie similarity of neighborhoods) and degrees (ie size of neighborhoods)"
   ]
  },
  {
   "cell_type": "code",
   "execution_count": null,
   "id": "f0b7b899",
   "metadata": {},
   "outputs": [],
   "source": [
    "scan_snn_b1 <- py$snn_graph_scan1 > 0\n",
    "scan_snn_b2 <- py$snn_graph_scan2 > 0\n",
    "\n",
    "rownames(scan_snn_b1) <- as.vector(py$adata1$obs_names$values)\n",
    "colnames(scan_snn_b1) <- as.vector(py$adata1$obs_names$values)\n",
    "\n",
    "rownames(scan_snn_b2) <- as.vector(py$adata2$obs_names$values)\n",
    "colnames(scan_snn_b2) <- as.vector(py$adata2$obs_names$values)\n",
    "\n",
    "if (!identical(scan1_inds, scan2_inds)) {\n",
    "    scan_snn_b1 <- scan_snn_b1[overlapping_inds, overlapping_inds]\n",
    "    scan_snn_b2 <- scan_snn_b2[overlapping_inds, overlapping_inds]\n",
    "}\n",
    "\n",
    "scan1_list <- mat2list(scan_snn_b1)\n",
    "scan2_list <- mat2list(scan_snn_b2)\n",
    "\n",
    "jaccards <- find_jaccards(list(Scanpy1 = scan1_list, Scanpy2 = scan2_list))\n",
    "\n",
    "median_jaccard <- median(jaccards$Jaccard)\n",
    "\n",
    "jaccard_plot <- make_jaccard_plot(jaccards, median_jaccard, save = file_paths$jaccards)\n",
    "\n",
    "jaccard_plot\n",
    "\n",
    "nei_sizes <- tibble(\n",
    "    Scanpy1 = lengths(scan1_list),\n",
    "    Scanpy2 = lengths(scan2_list)\n",
    ")\n",
    "\n",
    "nei_pairs <- make_pairwise_df(nei_sizes)\n",
    "\n",
    "knn_scatterplot <- make_knn_scatterplot(nei_pairs, save = file_paths$knn_scatterplot)\n",
    "\n",
    "knn_scatterplot\n",
    "\n",
    "jaccards$degree_ratio <- nei_pairs$value1 / nei_pairs$value2\n",
    "jaccards$logged_degree_ratio <- log(jaccards$degree_ratio, base = 2)\n",
    "\n",
    "jaccards$logged_degree_ratio[jaccards$logged_degree_ratio == -Inf] <- -10\n",
    "jaccards$logged_degree_ratio[jaccards$logged_degree_ratio == Inf] <- 10\n",
    "\n",
    "jaccards$jaccard_logged <- log(jaccards$Jaccard, base = 2)\n",
    "\n",
    "median_magnitude_logged_degree_ratio <- median(abs(jaccards$logged_degree_ratio))\n",
    "\n",
    "if (file_paths$pca_knn_clustering_umap_file != FALSE) {\n",
    "    sink(file_paths$pca_knn_clustering_umap_file, append = TRUE, split = TRUE)\n",
    "}\n",
    "\n",
    "print(glue(\"Median jaccard of SNN: {median_jaccard}\"))\n",
    "print(glue(\"Median magnitude of log degree ratio of SNN: {median_magnitude_logged_degree_ratio}\"))\n",
    "\n",
    "if (file_paths$pca_knn_clustering_umap_file != FALSE) {\n",
    "    sink()\n",
    "}"
   ]
  },
  {
   "cell_type": "markdown",
   "id": "cee53147",
   "metadata": {},
   "source": [
    "Combine jaccard indices and degree ratios into a single plot"
   ]
  },
  {
   "cell_type": "code",
   "execution_count": null,
   "id": "241f952a",
   "metadata": {},
   "outputs": [],
   "source": [
    "jaccard_degree_scatterplot <- make_snn_jaccard_degree_scatterplot(jaccards, save = file_paths$jaccard_degree_scatterplot)\n",
    "jaccard_degree_scatterplot"
   ]
  },
  {
   "cell_type": "markdown",
   "id": "f1345ac4",
   "metadata": {},
   "source": [
    "If data_input == \"scan1\" or \"scan2\": Apply KNN and SNN to be the same"
   ]
  },
  {
   "cell_type": "code",
   "execution_count": null,
   "id": "75e59d1d",
   "metadata": {},
   "outputs": [],
   "source": [
    "py_run_string('if data_input == \"scan1\" and (r.scan1_inds == r.scan2_inds):\n",
    "    adata2.obsp[\\'connectivities\\'] = adata1.obsp[\\'connectivities\\']\n",
    "    adata2.obsp[\\'distances\\'] = adata1.obsp[\\'distances\\']\n",
    "    snn_graph_scan2 = adata2.obsp[\\'connectivities\\']\n",
    "    knn_graph_scan2 = adata2.obsp[\\'distances\\']\n",
    "    \n",
    "if data_input == \"scan2\" and (r.scan1_inds == r.scan2_inds):\n",
    "    adata1.obsp[\\'connectivities\\'] = adata2.obsp[\\'connectivities\\']\n",
    "    adata1.obsp[\\'distances\\'] = adata2.obsp[\\'distances\\']\n",
    "    snn_graph_scan1 = adata1.obsp[\\'connectivities\\']\n",
    "    knn_graph_scan1 = adata1.obsp[\\'distances\\']')"
   ]
  },
  {
   "cell_type": "markdown",
   "id": "eedb9846",
   "metadata": {},
   "source": [
    "Clustering"
   ]
  },
  {
   "cell_type": "code",
   "execution_count": null,
   "id": "ca28f48c",
   "metadata": {},
   "outputs": [],
   "source": [
    "py_run_string('if r.scanpy_clustering_algorithm == \"leiden\":\n",
    "    sc.tl.leiden(adata1, resolution=r.scanpy_resolution, n_iterations=int(r.scanpy_cluster_iters), random_state = int(r.clustering_seed1))\n",
    "    sc.tl.leiden(adata2, resolution=r.scanpy_resolution, n_iterations=int(r.scanpy_cluster_iters), random_state = int(r.clustering_seed2))\n",
    "elif r.scanpy_clustering_algorithm == \"louvain\":\n",
    "    sc.tl.louvain(adata1, resolution=r.scanpy_resolution, random_state = int(r.clustering_seed1))\n",
    "    sc.tl.louvain(adata2, resolution=r.scanpy_resolution, random_state = int(r.clustering_seed2))')"
   ]
  },
  {
   "cell_type": "markdown",
   "id": "04bd3437",
   "metadata": {},
   "source": [
    "PCA scatterplots with clusters"
   ]
  },
  {
   "cell_type": "code",
   "execution_count": null,
   "id": "f058b96f",
   "metadata": {},
   "outputs": [],
   "source": [
    "py_run_string('ax1 = sc.pl.pca(adata1, color=r.scanpy_clustering_algorithm, show=False, palette=r.ditto_colors, title=\"PCA with clusters\")\n",
    "\n",
    "# Retrieve handles and labels for the legend\n",
    "handles1, labels1 = ax1.get_legend_handles_labels()\n",
    "\n",
    "# Create a new legend that includes all clusters\n",
    "# You might need to adjust \\'ncol\\' (number of columns) for the best layout\n",
    "ax1.legend(handles1, labels1, loc=\\'best\\', ncol=2, fontsize=\\'small\\')\n",
    "\n",
    "# Show the plot with the updated legend\n",
    "plt.show()\n",
    "\n",
    "if r.file_paths[\\'pca_cluster_filepath_scan1\\'] != False:\n",
    "    plt.savefig(r.file_paths[\\'pca_cluster_filepath_scan1\\'])\n",
    "    \n",
    "ax2 = sc.pl.pca(adata2, color=r.scanpy_clustering_algorithm, show=False, palette=r.ditto_colors, title=\"PCA with clusters\")\n",
    "\n",
    "# Retrieve handles and labels for the legend\n",
    "handles2, labels2 = ax2.get_legend_handles_labels()\n",
    "\n",
    "# Create a new legend that includes all clusters\n",
    "# You might need to adjust \\'ncol\\' (number of columns) for the best layout\n",
    "ax2.legend(handles2, labels2, loc=\\'best\\', ncol=2, fontsize=\\'small\\')\n",
    "\n",
    "# Show the plot with the updated legend\n",
    "plt.show()\n",
    "\n",
    "if r.file_paths[\\'pca_cluster_filepath_scan2\\'] != False:\n",
    "    plt.savefig(r.file_paths[\\'pca_cluster_filepath_scan2\\'])')"
   ]
  },
  {
   "cell_type": "markdown",
   "id": "a96d60c1",
   "metadata": {},
   "source": [
    "Compute adjusted Rand index to compare cluster similarity"
   ]
  },
  {
   "cell_type": "code",
   "execution_count": null,
   "id": "51529cd5",
   "metadata": {},
   "outputs": [],
   "source": [
    "scan1_clusters <- py$adata1$obs[[scanpy_clustering_algorithm]]\n",
    "scan2_clusters <- py$adata2$obs[[scanpy_clustering_algorithm]]\n",
    "\n",
    "names(scan1_clusters) <- scan1_inds\n",
    "names(scan2_clusters) <- scan2_inds\n",
    "\n",
    "if (!identical(scan1_inds, scan2_inds)) {\n",
    "    scan1_clusters <- scan1_clusters[names(scan1_clusters) %in% overlapping_inds]\n",
    "    scan2_clusters <- scan2_clusters[names(scan2_clusters) %in% overlapping_inds]\n",
    "\n",
    "    cell_order <- names(scan1_clusters)\n",
    "    scan2_clusters <- scan2_clusters[match(cell_order, names(scan2_clusters))]\n",
    "}\n",
    "\n",
    "scan1_clusters_vector <- as.vector(scan1_clusters)\n",
    "scan2_clusters_vector <- as.vector(scan2_clusters)\n",
    "ari_value <- mclust::adjustedRandIndex(scan1_clusters_vector, scan2_clusters_vector)\n",
    "\n",
    "if (file_paths$pca_knn_clustering_umap_file != FALSE) {\n",
    "    sink(file_paths$pca_knn_clustering_umap_file, append = TRUE, split = TRUE)\n",
    "}\n",
    "\n",
    "print(glue(\"Adjusted Rand index between clusters: {ari_value}\"))\n",
    "\n",
    "if (file_paths$pca_knn_clustering_umap_file != FALSE) {\n",
    "    sink()\n",
    "}"
   ]
  },
  {
   "cell_type": "markdown",
   "id": "164d227a",
   "metadata": {},
   "source": [
    "Heatmap of clusters"
   ]
  },
  {
   "cell_type": "code",
   "execution_count": null,
   "id": "cd40694a",
   "metadata": {},
   "outputs": [],
   "source": [
    "scan1_clusters <- factor(scan1_clusters, levels = sort(as.numeric(levels(scan1_clusters))))\n",
    "scan2_clusters <- factor(scan2_clusters, levels = sort(as.numeric(levels(scan2_clusters))))\n",
    "\n",
    "jacc_scan1_scan2 <- linkClustersMatrix(scan1_clusters, scan2_clusters)\n",
    "\n",
    "cluster_heatmap <- plot_heatmap(jacc_scan1_scan2, ari_value, show_axis_titles = TRUE, show_trees = FALSE, save = file_paths$pheatmap)\n",
    "cluster_heatmap"
   ]
  },
  {
   "cell_type": "markdown",
   "id": "801f6078",
   "metadata": {},
   "source": [
    "Alluvial plot of clusters"
   ]
  },
  {
   "cell_type": "code",
   "execution_count": null,
   "id": "14bd64d2",
   "metadata": {},
   "outputs": [],
   "source": [
    "df <- tibble(\n",
    "    Scanpy1 = scan1_clusters,\n",
    "    Scanpy2 = scan2_clusters\n",
    ")\n",
    "\n",
    "df <- setNames(df, unlist(scanpy_group_names))\n",
    "\n",
    "clus_df_gather <- get_alluvial_df(df)\n",
    "\n",
    "clus_df_gather <- clus_df_gather %>% mutate(\n",
    "    group1_column_original_clusters := as.numeric(as.character(.data[[scan1_name]])),\n",
    "    group2_column_original_clusters := as.numeric(as.character(.data[[scan2_name]]))\n",
    ")\n",
    "\n",
    "clus_df_gather <- sort_clusters_by_agreement(clus_df_gather, stable_column = scan1_name, reordered_column = scan2_name)\n",
    "# clus_df_gather <- sort_clusters_by_agreement(clus_df_gather, stable_column = scan1_name, reordered_column = scan2_name)\n",
    "\n",
    "alluvial_plot <- plot_alluvial(clus_df_gather, color_boxes = TRUE, color_bands = FALSE, group1_name = scan1_name, group2_name = scan2_name, save = file_paths$alluvial)\n",
    "alluvial_plot_legend <- plot_alluvial(clus_df_gather, color_boxes = TRUE, color_bands = TRUE, alluvial_alpha = 0.5, group1_name = scan1_name, group2_name = scan2_name, save = file_paths$alluvial_legend)\n",
    "alluvial_plot_legend_high_alpha <- plot_alluvial(clus_df_gather, color_boxes = TRUE, color_bands = TRUE, alluvial_alpha = 1, group1_name = scan1_name, group2_name = scan2_name, save = file_paths$alluvial_legend_high_alpha)\n",
    "\n",
    "alluvial_plot\n",
    "alluvial_plot_legend"
   ]
  },
  {
   "cell_type": "markdown",
   "id": "8be7f105",
   "metadata": {},
   "source": [
    "Reorder adata2 clusters to match ordering in alluvial"
   ]
  },
  {
   "cell_type": "code",
   "execution_count": null,
   "id": "d8f43da8",
   "metadata": {},
   "outputs": [],
   "source": [
    "unique_mapping <- clus_df_gather %>%\n",
    "    ungroup() %>%\n",
    "    select(!!sym(scan2_name), group2_column_original_clusters) %>%\n",
    "    distinct() %>%\n",
    "    arrange(group2_column_original_clusters)\n",
    "\n",
    "scanpy_clusters_df <- data.frame(cell_id = scan2_inds, group2_cluster = as.numeric(as.character(py$adata2$obs[[scanpy_clustering_algorithm]])))\n",
    "\n",
    "mapped_data <- scanpy_clusters_df %>% left_join(unique_mapping, by = c(\"group2_cluster\" = \"group2_column_original_clusters\"))\n",
    "\n",
    "mapped_data[[scan2_name]] <- as.character(mapped_data[[scan2_name]])\n",
    "\n",
    "named_vector <- setNames(mapped_data[[scan2_name]], mapped_data$cell_id)\n",
    "\n",
    "scan2_clusters_renumbered <- factor(named_vector)"
   ]
  },
  {
   "cell_type": "code",
   "execution_count": null,
   "id": "e3587dfd",
   "metadata": {},
   "outputs": [],
   "source": [
    "scan1_cluster_data_original <- py$adata1$obs[[scanpy_clustering_algorithm]]\n",
    "scan2_cluster_data_original <- py$adata2$obs[[scanpy_clustering_algorithm]]"
   ]
  },
  {
   "cell_type": "markdown",
   "id": "02b7020d",
   "metadata": {},
   "source": [
    "If data_input == \"scan1\" or \"scan2: Apply cluster data to be the same"
   ]
  },
  {
   "cell_type": "code",
   "execution_count": null,
   "id": "749dabaf",
   "metadata": {},
   "outputs": [],
   "source": [
    "py_run_string('if data_input == \"scan1\" and (r.scan1_inds == r.scan2_inds):\n",
    "    adata2.obs[r.scanpy_clustering_algorithm] = r.scan1_clusters\n",
    "\n",
    "if data_input == \"scan2\" and (r.scan1_inds == r.scan2_inds):\n",
    "    adata1.obs[r.scanpy_clustering_algorithm] = r.scan2_clusters')"
   ]
  },
  {
   "cell_type": "markdown",
   "id": "c83b0d74",
   "metadata": {},
   "source": [
    "UMAP"
   ]
  },
  {
   "cell_type": "code",
   "execution_count": null,
   "id": "3669e28e",
   "metadata": {},
   "outputs": [],
   "source": [
    "if (scanpy_minor_version < 5) {\n",
    "    adata1_cluster_input_object_path <- glue::glue(\"{output_base_path}/data_files/adata1_cluster.h5ad\")\n",
    "    adata2_cluster_input_object_path <- glue::glue(\"{output_base_path}/data_files/adata2_cluster.h5ad\")\n",
    "        \n",
    "    adata1_umap_object_output_path <- glue::glue(\"{output_base_path}/data_files/adata1_umap.h5ad\")\n",
    "    adata2_umap_object_output_path <- glue::glue(\"{output_base_path}/data_files/adata2_umap.h5ad\")\n",
    "    \n",
    "    py$adata1$write_h5ad(adata1_cluster_input_object_path, compression = py$hdf5plugin$FILTERS$zstd)\n",
    "    py$adata2$write_h5ad(adata2_cluster_input_object_path, compression = py$hdf5plugin$FILTERS$zstd)\n",
    "    \n",
    "    conda_environment_with_older_umap_learn = \"sc14_umap4\"\n",
    "    python_script_path <- glue(\"{project_base_path}/scripts/run_scanpy14_umap.py\")\n",
    "    \n",
    "    conda_path <- paste(\"/home/rstudio/.conda/envs\", conda_environment_with_older_umap_learn, \"bin/python3.9\", sep = \"/\")\n",
    "\n",
    "    cmd_adata1 <- sprintf(\"%s %s '%s' '%s'\", conda_path, python_script_path, adata1_cluster_input_object_path, adata1_umap_object_output_path)\n",
    "    cmd_adata2 <- sprintf(\"%s %s '%s' '%s'\", conda_path, python_script_path, adata2_cluster_input_object_path, adata2_umap_object_output_path)\n",
    "    \n",
    "    system(cmd_adata1)\n",
    "    system(cmd_adata2)\n",
    "}"
   ]
  },
  {
   "cell_type": "code",
   "execution_count": null,
   "id": "d77fb16f",
   "metadata": {},
   "outputs": [],
   "source": [
    "py_run_string('if r.scanpy_minor_version < 5:\n",
    "    adata1 = sc.read_h5ad(r.adata1_umap_object_output_path)\n",
    "    adata2 = sc.read_h5ad(r.adata2_umap_object_output_path)\n",
    "    \n",
    "    adata1.uns[\\'neighbors\\'][\\'connectivities\\'] = adata1.obsp[\\'connectivities\\']\n",
    "    adata1.uns[\\'neighbors\\'][\\'distances\\'] = adata1.obsp[\\'distances\\']\n",
    "    adata2.uns[\\'neighbors\\'][\\'connectivities\\'] = adata2.obsp[\\'connectivities\\']\n",
    "    adata2.uns[\\'neighbors\\'][\\'distances\\'] = adata2.obsp[\\'distances\\']\n",
    "else:\n",
    "    sc.tl.umap(adata1, min_dist = r.scanpy_umap_min_dist, random_state = int(r.umap_seed1))\n",
    "    sc.tl.umap(adata2, min_dist = r.scanpy_umap_min_dist, random_state = int(r.umap_seed2))\n",
    "# sc.pl.umap(adata, color=r.scanpy_clustering_algorithm, palette=r.ditto_colors, ax=ax, show=False, title=\"UMAP (Clustering)\")\n",
    "# sc.pl.umap(adata, color=r.scanpy_clustering_algorithm, palette=r.ditto_colors, ax=ax, show=False, title=\"UMAP (Clustering)\")')"
   ]
  },
  {
   "cell_type": "markdown",
   "id": "47e5bcb5",
   "metadata": {},
   "source": [
    "Plot UMAP"
   ]
  },
  {
   "cell_type": "code",
   "execution_count": null,
   "id": "1d6b7a54",
   "metadata": {},
   "outputs": [],
   "source": [
    "source(glue(\"{project_base_path}/scripts/plotting_and_stats.R\"))\n",
    "\n",
    "colors_group2 <- find_group2_colors(clus_df_gather, scan1_name, scan2_name)\n",
    "\n",
    "group1_umap_info <- py$adata1$obsm[[\"X_umap\"]]\n",
    "group2_umap_info <- py$adata2$obsm[[\"X_umap\"]]\n",
    "    \n",
    "umap_plots <- plot_umap(group1_umap_info = group1_umap_info, group1_clusters = py$adata1$obs[scanpy_clustering_algorithm][, 1], group2_umap_info = group2_umap_info, group2_clusters = scan2_clusters_renumbered, group1 = scan1_name, group2 = scan2_name, colors_group2 = colors_group2, save = c(file_paths$umap_scan1, file_paths$umap_scan2))\n",
    "scan1_umap <- umap_plots[[1]]\n",
    "scan2_umap <- umap_plots[[2]]\n",
    "\n",
    "scan1_umap\n",
    "scan2_umap\n",
    "\n",
    "# if (identical(scan1_inds, scan2_inds)) {\n",
    "#     umap_plots_swapped_clusters <- plot_umap(group1_umap_info = py$adata1$obsm[\"X_umap\"], group1_clusters = scan2_clusters_renumbered, group2_umap_info = py$adata2$obsm[\"X_umap\"], group2_clusters = py$adata1$obs[scanpy_clustering_algorithm][, 1], group1 = scan1_name, colors_group1 = colors_group2, group2 = scan2_name, group1_title = glue(\"Scanpy {scan1_name} UMAP with {scan2_name} clusters\"), group2_title = glue(\"Scanpy {scan2_name} UMAP with {scan1_name} clusters\"), save = c(file_paths$umap_scan1_clusters_scan2, file_paths$umap_scan2_clusters_scan1))\n",
    "#     umap_scan1_clusters_scan2 <- umap_plots_swapped_clusters[[1]]\n",
    "#     umap_scan2_clusters_scan1 <- umap_plots_swapped_clusters[[2]]\n",
    "# \n",
    "#     print(umap_scan1_clusters_scan2)\n",
    "#     print(umap_scan2_clusters_scan1)\n",
    "# }"
   ]
  },
  {
   "cell_type": "markdown",
   "id": "e02bac19",
   "metadata": {},
   "source": [
    "Compute KNN graph of UMAP space"
   ]
  },
  {
   "cell_type": "code",
   "execution_count": null,
   "id": "2590319c",
   "metadata": {},
   "outputs": [],
   "source": [
    "scan1_umap_data <- py$adata1$obsm[\"X_umap\"]\n",
    "scan2_umap_data <- py$adata2$obsm[\"X_umap\"]\n",
    "\n",
    "if (!isTRUE(all.equal(as.vector(py$adata1$obs_names$values), as.vector(py$adata2$obs_names$values)))) {\n",
    "    scan1_inds <- as.vector(py$adata1$obs_names$values)\n",
    "    scan2_inds <- as.vector(py$adata2$obs_names$values)\n",
    "\n",
    "    rownames(scan1_umap_data) <- scan1_inds\n",
    "    scan1_cluster_data_original <- setNames(scan1_cluster_data_original, scan1_inds)\n",
    "\n",
    "    rownames(scan2_umap_data) <- scan2_inds\n",
    "    scan2_cluster_data_original <- setNames(scan2_cluster_data_original, scan2_inds)\n",
    "\n",
    "    overlapping_inds <- intersect(scan1_inds, scan2_inds)\n",
    "\n",
    "    scan1_umap_data_filtered <- scan1_umap_data[overlapping_inds, ]\n",
    "    scan1_umap_data <- scan1_umap_data_filtered[order(rownames(scan1_umap_data_filtered)), ]\n",
    "\n",
    "    scan2_umap_data_filtered <- scan2_umap_data[overlapping_inds, ]\n",
    "    scan2_umap_data <- scan2_umap_data_filtered[order(rownames(scan2_umap_data_filtered)), ]\n",
    "\n",
    "    scan1_cluster_data_filtered <- scan1_cluster_data_original[overlapping_inds]\n",
    "    scan2_cluster_data_filtered <- scan2_cluster_data_original[overlapping_inds]\n",
    "} else {\n",
    "    scan1_cluster_data_filtered <- scan1_cluster_data_original\n",
    "    scan2_cluster_data_filtered <- scan2_cluster_data_original\n",
    "}\n",
    "\n",
    "scan1_umap_knn <- dbscan::kNN(scan1_umap_data, k = umap_knn_k)\n",
    "scan2_umap_knn <- dbscan::kNN(scan2_umap_data, k = umap_knn_k)"
   ]
  },
  {
   "cell_type": "markdown",
   "id": "6dcc913d",
   "metadata": {},
   "source": [
    "Find jaccard indices of KNN graphs from UMAP space"
   ]
  },
  {
   "cell_type": "code",
   "execution_count": null,
   "id": "be8ff9a5",
   "metadata": {},
   "outputs": [],
   "source": [
    "jaccards_all_cells <- calculate_knn_jaccards(scan1_umap_knn$id, scan2_umap_knn$id)\n",
    "\n",
    "median_jaccard_umap_knn <- median(jaccards_all_cells)\n",
    "\n",
    "if (file_paths$pca_knn_clustering_umap_file != FALSE) {\n",
    "    sink(file_paths$pca_knn_clustering_umap_file, append = TRUE, split = TRUE)\n",
    "}\n",
    "\n",
    "print(glue(\"Median jaccard of UMAP KNN: {median_jaccard_umap_knn}\"))\n",
    "\n",
    "if (file_paths$pca_knn_clustering_umap_file != FALSE) {\n",
    "    sink()\n",
    "}"
   ]
  },
  {
   "cell_type": "markdown",
   "id": "7cf02ba6",
   "metadata": {},
   "source": [
    "Plot jaccard indices"
   ]
  },
  {
   "cell_type": "code",
   "execution_count": null,
   "id": "22313fd6",
   "metadata": {},
   "outputs": [],
   "source": [
    "jaccards_df <- data.frame(Cells = overlapping_inds, JaccardIndex = jaccards_all_cells, scan1_clusters = scan1_cluster_data_filtered, scan2_clusters = scan2_cluster_data_filtered)\n",
    "\n",
    "umap_jaccard_plot <- make_umap_jaccard_plot(jaccards_df, save = file_paths$umap_jaccard_knn_density)\n",
    "umap_jaccard_plot_scan1_facet <- make_umap_jaccard_plot(jaccards_df, facet = \"scan1_clusters\", save = file_paths$umap_jaccard_knn_density_scan1_facet)\n",
    "umap_jaccard_plot_scan2_facet <- make_umap_jaccard_plot(jaccards_df, facet = \"scan2_clusters\", save = file_paths$umap_jaccard_knn_density_scan2_facet)\n",
    "\n",
    "umap_jaccard_plot\n",
    "umap_jaccard_plot_scan1_facet\n",
    "umap_jaccard_plot_scan2_facet"
   ]
  },
  {
   "cell_type": "markdown",
   "id": "3b772ebc",
   "metadata": {},
   "source": [
    "Run leiden clustering on KNN graphs from UMAP space"
   ]
  },
  {
   "cell_type": "code",
   "execution_count": null,
   "id": "de2e6566",
   "metadata": {},
   "outputs": [],
   "source": [
    "set.seed(R_random_seed)\n",
    "\n",
    "scan1_umap_knn_clusters <- bluster::clusterRows(scan1_umap_data, NNGraphParam(shared = FALSE, k = umap_knn_k, cluster.fun = \"leiden\", cluster.args = list(resolution_parameter = umap_leiden_clustering_resolution, objective_function = \"modularity\", n_iterations = 2)))\n",
    "scan2_umap_knn_clusters <- bluster::clusterRows(scan2_umap_data, NNGraphParam(shared = FALSE, k = umap_knn_k, cluster.fun = \"leiden\", cluster.args = list(resolution_parameter = umap_leiden_clustering_resolution, objective_function = \"modularity\", n_iterations = 2)))\n",
    "\n",
    "scan1_umap_knn_clusters <- reorder_clusters_descending(scan1_umap_knn_clusters)\n",
    "scan2_umap_knn_clusters <- reorder_clusters_descending(scan2_umap_knn_clusters)"
   ]
  },
  {
   "cell_type": "markdown",
   "id": "ec367f72",
   "metadata": {},
   "source": [
    "Compute ARI and plot alluvial plot of leiden clustering results on KNN graphs from UMAP space"
   ]
  },
  {
   "cell_type": "code",
   "execution_count": null,
   "id": "da320843",
   "metadata": {},
   "outputs": [],
   "source": [
    "ari_value_umap <- mclust::adjustedRandIndex(as.vector(scan1_umap_knn_clusters), as.vector(scan2_umap_knn_clusters))\n",
    "\n",
    "if (file_paths$pca_knn_clustering_umap_file != FALSE) {\n",
    "    sink(file_paths$pca_knn_clustering_umap_file, append = TRUE, split = TRUE)\n",
    "}\n",
    "\n",
    "print(glue(\"Adjusted Rand index between UMAP clusters: {ari_value_umap}\"))\n",
    "\n",
    "if (file_paths$pca_knn_clustering_umap_file != FALSE) {\n",
    "    sink()\n",
    "}\n",
    "\n",
    "df_umap <- tibble(\n",
    "    Scanpy1 = scan1_umap_knn_clusters,\n",
    "    Scanpy2 = scan2_umap_knn_clusters\n",
    ")\n",
    "\n",
    "df_umap <- setNames(df_umap, unlist(scanpy_group_names))\n",
    "\n",
    "clus_df_gather_umap <- get_alluvial_df(df_umap)\n",
    "\n",
    "clus_df_gather_umap <- clus_df_gather_umap %>% mutate(\n",
    "    group1_column_original_clusters := as.numeric(as.character(.data[[scan1_name]])),\n",
    "    group2_column_original_clusters := as.numeric(as.character(.data[[scan2_name]]))\n",
    ")\n",
    "\n",
    "clus_df_gather_umap <- sort_clusters_by_agreement(clus_df_gather_umap, stable_column = scan1_name, reordered_column = scan2_name)\n",
    "\n",
    "umap_alluvial_plot <- plot_alluvial(clus_df_gather_umap, color_boxes = TRUE, color_bands = FALSE, alluvial_alpha = 0.5, group1_name = scan1_name, group2_name = scan2_name, save = file_paths$umap_alluvial)\n",
    "umap_alluvial_plot_legend <- plot_alluvial(clus_df_gather_umap, color_boxes = TRUE, color_bands = TRUE, alluvial_alpha = 0.5, group1_name = scan1_name, group2_name = scan2_name, save = file_paths$umap_alluvial_legend)\n",
    "\n",
    "umap_alluvial_plot_legend"
   ]
  },
  {
   "cell_type": "markdown",
   "id": "1717b86d",
   "metadata": {},
   "source": [
    "Reorder adata2 UMAP clusters to match ordering in alluvial"
   ]
  },
  {
   "cell_type": "code",
   "execution_count": null,
   "id": "8f121eb2",
   "metadata": {},
   "outputs": [],
   "source": [
    "unique_mapping <- clus_df_gather_umap %>%\n",
    "    ungroup() %>%\n",
    "    select(!!sym(scan2_name), group2_column_original_clusters) %>%\n",
    "    distinct() %>%\n",
    "    arrange(group2_column_original_clusters)\n",
    "\n",
    "scanpy_clusters_df <- data.frame(cell_id = overlapping_inds, group2_cluster = as.numeric(as.character(scan2_umap_knn_clusters)))\n",
    "\n",
    "mapped_data <- scanpy_clusters_df %>% left_join(unique_mapping, by = c(\"group2_cluster\" = \"group2_column_original_clusters\"))\n",
    "\n",
    "mapped_data[[scan2_name]] <- as.character(mapped_data[[scan2_name]])\n",
    "\n",
    "named_vector <- setNames(mapped_data[[scan2_name]], mapped_data$cell_id)\n",
    "\n",
    "scan2_clusters_renumbered_umap <- factor(named_vector)"
   ]
  },
  {
   "cell_type": "markdown",
   "id": "4b9ec114",
   "metadata": {},
   "source": [
    "UMAP with UMAP Leiden clusters"
   ]
  },
  {
   "cell_type": "code",
   "execution_count": null,
   "id": "60d6239f",
   "metadata": {},
   "outputs": [],
   "source": [
    "colors_group2_umap <- find_group2_colors(clus_df_gather_umap, scan1_name, scan2_name)\n",
    "\n",
    "umap_plots <- plot_umap(group1_umap_info = scan1_umap_data, group1_clusters = scan1_umap_knn_clusters, group2_umap_info = scan2_umap_data, group2_clusters = scan2_clusters_renumbered_umap, colors_group2 = colors_group2_umap, group1 = scan1_name, group2 = scan2_name, save = c(file_paths$umap_umap_leiden_scan1, file_paths$umap_umap_leiden_scan2))\n",
    "scan1_umap <- umap_plots[[1]]\n",
    "scan2_umap <- umap_plots[[2]]\n",
    "\n",
    "scan1_umap\n",
    "scan2_umap"
   ]
  },
  {
   "cell_type": "markdown",
   "id": "143679e9",
   "metadata": {},
   "source": [
    "Find markers"
   ]
  },
  {
   "cell_type": "code",
   "execution_count": null,
   "id": "ba0b4665",
   "metadata": {},
   "outputs": [],
   "source": [
    "py_run_string('if r.scanpy_minor_version < 5:\n",
    "    adata1.uns[\\'log1p\\'] = {\\'base\\': np.e}\n",
    "    adata2.uns[\\'log1p\\'] = {\\'base\\': np.e}\n",
    "\n",
    "sc.tl.rank_genes_groups(adata1, r.scanpy_clustering_algorithm, use_raw=True, method=\\'wilcoxon\\', corr_method=r.scanpy_correction_method, pts = True)\n",
    "sc.tl.rank_genes_groups(adata2, r.scanpy_clustering_algorithm, use_raw=True, method=\\'wilcoxon\\', corr_method=r.scanpy_correction_method, pts = True)')"
   ]
  },
  {
   "cell_type": "markdown",
   "id": "3f2c4e41",
   "metadata": {},
   "source": [
    "Modify column naming"
   ]
  },
  {
   "cell_type": "code",
   "execution_count": null,
   "id": "06a22f9c",
   "metadata": {},
   "outputs": [],
   "source": [
    "result1 <- get_py_de_results(\"adata1\")\n",
    "result2 <- get_py_de_results(\"adata2\")\n",
    "\n",
    "result1 <- result1 %>%\n",
    "    dplyr::rename(avg_log2FC = log_fc, p_val_adj = p_value_adj, p_val = p_value)\n",
    "\n",
    "result2 <- result2 %>%\n",
    "    dplyr::rename(avg_log2FC = log_fc, p_val_adj = p_value_adj, p_val = p_value)"
   ]
  },
  {
   "cell_type": "markdown",
   "id": "ddcec451",
   "metadata": {},
   "source": [
    "Compare marker genes"
   ]
  },
  {
   "cell_type": "code",
   "execution_count": null,
   "id": "f5726b71",
   "metadata": {},
   "outputs": [],
   "source": [
    "scan1_filtered_markers <- result1 %>% filter(p_val_adj < 0.05)\n",
    "scan2_filtered_markers <- result2 %>% filter(p_val_adj < 0.05)\n",
    "\n",
    "vectorized_scan1_filtered_markers <- unique(scan1_filtered_markers$gene)\n",
    "vectorized_scan2_filtered_markers <- unique(scan2_filtered_markers$gene)\n",
    "\n",
    "\n",
    "markers_euler_genes_only <- make_euler_scanpy(vectorized_scan1_filtered_markers, vectorized_scan2_filtered_markers, comparison = \"Marker Gene\", group_names = scanpy_group_names, save_plot = file_paths$euler_after_qc_marker_genes_only, save_stats = file_paths$de_stats_file)\n",
    "markers_euler_genes_only\n",
    "\n",
    "upset_marker_gene_only <- make_upset_scanpy(vectorized_scan1_filtered_markers, vectorized_scan2_filtered_markers, comparison = \"Marker Gene\", group_names = scanpy_group_names, save = file_paths$upset_markers_genes_only)"
   ]
  },
  {
   "cell_type": "markdown",
   "id": "00ca28c5",
   "metadata": {},
   "source": [
    "Stop DE analysis if data input does not align (as without aligned cluster information, DE analysis is not meaningful)"
   ]
  },
  {
   "cell_type": "code",
   "execution_count": null,
   "id": "b213a15e",
   "metadata": {},
   "outputs": [],
   "source": [
    "if (data_input == \"default\" || !identical(scan1_inds, scan2_inds)) {\n",
    "    if (save_data) {\n",
    "        saveRDS(result1, file = output_data_file_paths$markers_scan1)\n",
    "        saveRDS(result2, file = output_data_file_paths$markers_scan2)\n",
    "        py$adata1$write_h5ad(output_data_file_paths$adata1_object, compression = py$hdf5plugin$FILTERS$zstd)\n",
    "        py$adata2$write_h5ad(output_data_file_paths$adata2_object, compression = py$hdf5plugin$FILTERS$zstd)\n",
    "    }\n",
    "    stop(\"data_input == 'default', so not running further DE analysis, which requires clusters to be in agreement.\")\n",
    "}"
   ]
  },
  {
   "cell_type": "markdown",
   "id": "180c7ed6",
   "metadata": {},
   "source": [
    "Compare markers"
   ]
  },
  {
   "cell_type": "code",
   "execution_count": null,
   "id": "d924a48d",
   "metadata": {},
   "outputs": [],
   "source": [
    "# Select gene and cluster columns\n",
    "result1_markers_df <- result1 %>% select(gene = gene, cluster = cluster)\n",
    "result2_markers_df <- result2 %>% select(gene = gene, cluster = cluster)\n",
    "\n",
    "vectorized_scan1_markers <- paste(result1_markers_df$gene, result1_markers_df$cluster, sep = \"-\")\n",
    "vectorized_scan2_markers <- paste(result2_markers_df$gene, result2_markers_df$cluster, sep = \"-\")\n",
    "\n",
    "markers_euler <- make_euler_scanpy(vectorized_scan1_markers, vectorized_scan2_markers, comparison = \"Marker\", group_names = scanpy_group_names, save_plot = file_paths$euler_after_qc_marker_file_path, save_stats = file_paths$de_stats_file)\n",
    "markers_euler\n",
    "\n",
    "upset_markers_all <- make_upset_scanpy(vectorized_scan1_markers, vectorized_scan2_markers, comparison = \"Marker\", group_names = scanpy_group_names, save = file_paths$upset_markers)"
   ]
  },
  {
   "cell_type": "markdown",
   "id": "5f14739a",
   "metadata": {},
   "source": [
    "Combine all DE data in one dataframe markers2"
   ]
  },
  {
   "cell_type": "code",
   "execution_count": null,
   "id": "a2fe4edd",
   "metadata": {},
   "outputs": [],
   "source": [
    "markers2 <- result1 |>\n",
    "    inner_join(result2, by = c(\"cluster\", \"gene\"), suffix = c(glue(\".{scan1_name}\"), glue(\".{scan2_name}\")))\n",
    "\n",
    "markers2 <- markers2 |>\n",
    "    mutate(cluster = factor(cluster, levels = as.character(seq_len(length(unique(cluster))) - 1)))\n",
    "\n",
    "markers2 <- markers2 |>\n",
    "    group_by(cluster) |>\n",
    "    mutate(rank_r = seq_along(gene))\n",
    "\n",
    "\n",
    "markers2[[glue(\"FC.{scan1_name}\")]] <- 2^markers2[[glue(\"avg_log2FC.{scan1_name}\")]]\n",
    "markers2[[glue(\"FC.{scan2_name}\")]] <- 2^markers2[[glue(\"avg_log2FC.{scan2_name}\")]]"
   ]
  },
  {
   "cell_type": "markdown",
   "id": "cd410f7e",
   "metadata": {},
   "source": [
    "Calculate mean magnitude of difference in log fold change between the 2 packages"
   ]
  },
  {
   "cell_type": "code",
   "execution_count": null,
   "id": "86af2106",
   "metadata": {},
   "outputs": [],
   "source": [
    "markers2 <- calculate_de_stats(markers2, group1_name = scan1_name, group2_name = scan2_name, save = file_paths$de_stats_file)"
   ]
  },
  {
   "cell_type": "markdown",
   "id": "83e8f317",
   "metadata": {},
   "source": [
    "Plot scatterplots - if this crashes R, try scanpy_de_plots.R"
   ]
  },
  {
   "cell_type": "code",
   "execution_count": null,
   "id": "eef6f427",
   "metadata": {},
   "outputs": [],
   "source": [
    "markers2[[glue(\"p_val_adj.{scan1_name}\")]][markers2[[glue(\"p_val_adj.{scan1_name}\")]] == 0] <- .Machine$double.xmin\n",
    "markers2[[glue(\"p_val_adj.{scan2_name}\")]][markers2[[glue(\"p_val_adj.{scan2_name}\")]] == 0] <- .Machine$double.xmin"
   ]
  },
  {
   "cell_type": "code",
   "execution_count": null,
   "id": "bbc9041a",
   "metadata": {},
   "outputs": [],
   "source": [
    "logFC_scatterplot <- plot_scatterplot_de_logfc(markers2, group1_name = scan1_name, group2_name = scan2_name, ccc = markers2$CCC[1], save = file_paths$logFC_scatterplot_file_path, outliers_excluded = FALSE)\n",
    "pvaladj_scatterplot <- plot_scatterplot_de_wilcoxon(markers2, group1_name = scan1_name, group2_name = scan2_name, save = file_paths$wilcoxon_scatterplot_file_path, outliers_excluded = FALSE)\n",
    "\n",
    "logFC_scatterplot_with_legend <- plot_scatterplot_de_logfc(markers2, group1_name = scan1_name, group2_name = scan2_name, ccc = markers2$CCC[1], save = file_paths$logFC_scatterplot_file_path_with_legend, outliers_excluded = FALSE, show_legend = TRUE)\n",
    "\n",
    "\n",
    "logFC_scatterplot\n",
    "logFC_scatterplot_with_legend\n",
    "\n",
    "pvaladj_scatterplot"
   ]
  },
  {
   "cell_type": "markdown",
   "id": "2f70e167",
   "metadata": {},
   "source": [
    "Save markers df"
   ]
  },
  {
   "cell_type": "code",
   "execution_count": null,
   "id": "5283f351",
   "metadata": {},
   "outputs": [],
   "source": [
    "subset_markers2 <- markers2[, c(\"gene\", \"cluster\", glue(\"avg_log2FC.{scan1_name}\"), glue(\"avg_log2FC.{scan2_name}\"), glue(\"p_val_adj.{scan1_name}\"), glue(\"p_val_adj.{scan1_name}\"), \"logFC_difference_magnitude\", \"logFC_difference_signed\", \"pvaladj_difference_magnitude\", \"pvaladj_difference_signed\")]\n",
    "\n",
    "if (save_data) {\n",
    "    saveRDS(result1, file = output_data_file_paths$markers_scan1)\n",
    "    saveRDS(result2, file = output_data_file_paths$markers_scan2)\n",
    "    py$adata1$write_h5ad(output_data_file_paths$adata1_object, compression = py$hdf5plugin$FILTERS$zstd)\n",
    "    py$adata2$write_h5ad(output_data_file_paths$adata2_object, compression = py$hdf5plugin$FILTERS$zstd)\n",
    "    saveRDS(subset_markers2, file = output_data_file_paths$markers2)\n",
    "}"
   ]
  },
  {
   "cell_type": "code",
   "execution_count": null,
   "id": "50d5b92c",
   "metadata": {},
   "outputs": [],
   "source": [
    "sessionInfo()"
   ]
  }
 ],
 "metadata": {},
 "nbformat": 4,
 "nbformat_minor": 5
}
